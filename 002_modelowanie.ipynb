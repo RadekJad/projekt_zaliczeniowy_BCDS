{
 "cells": [
  {
   "cell_type": "markdown",
   "metadata": {},
   "source": [
    "Radosław Jadach - projekt zaliczeniowy Bootcamp Data Science - cześć 2, modelowanie"
   ]
  },
  {
   "cell_type": "code",
   "execution_count": 1,
   "metadata": {},
   "outputs": [],
   "source": [
    "import pandas as pd\n",
    "import matplotlib.pyplot as plt\n",
    "import numpy as np\n",
    "\n",
    "from sklearn.model_selection import train_test_split\n",
    "from sklearn.metrics import accuracy_score, confusion_matrix\n",
    "from sklearn.metrics import roc_curve, roc_auc_score\n",
    "from sklearn.metrics import precision_score, f1_score, recall_score\n",
    "from sklearn.model_selection import cross_val_predict, StratifiedKFold, cross_val_score\n",
    "from sklearn import model_selection\n",
    "\n",
    "from sklearn.preprocessing import StandardScaler\n",
    "from sklearn.pipeline import Pipeline\n",
    "\n",
    "from sklearn.model_selection import GridSearchCV\n",
    "from sklearn.model_selection import RandomizedSearchCV\n",
    "import scipy.stats as ss\n",
    "from sklearn.linear_model import LogisticRegression\n",
    "from sklearn.tree import DecisionTreeClassifier\n",
    "from sklearn.ensemble import RandomForestClassifier\n",
    "from sklearn.neighbors import KNeighborsClassifier\n",
    "from xgboost.sklearn import XGBClassifier\n",
    "\n",
    "from imblearn.pipeline import Pipeline\n",
    "from imblearn.over_sampling import SMOTE\n",
    "from imblearn.under_sampling import RandomUnderSampler\n",
    "\n",
    "import timeit"
   ]
  },
  {
   "cell_type": "code",
   "execution_count": 2,
   "metadata": {},
   "outputs": [],
   "source": [
    "data=pd.read_csv('data_clean')\n",
    "\n",
    "pd.set_option('display.max_colwidth', None)\n",
    "pd.set_option('display.max_columns', None)"
   ]
  },
  {
   "cell_type": "code",
   "execution_count": 3,
   "metadata": {},
   "outputs": [
    {
     "data": {
      "text/plain": [
       "(87020, 33)"
      ]
     },
     "execution_count": 3,
     "metadata": {},
     "output_type": "execute_result"
    }
   ],
   "source": [
    "data.shape"
   ]
  },
  {
   "cell_type": "code",
   "execution_count": 4,
   "metadata": {},
   "outputs": [
    {
     "data": {
      "text/html": [
       "<div>\n",
       "<style scoped>\n",
       "    .dataframe tbody tr th:only-of-type {\n",
       "        vertical-align: middle;\n",
       "    }\n",
       "\n",
       "    .dataframe tbody tr th {\n",
       "        vertical-align: top;\n",
       "    }\n",
       "\n",
       "    .dataframe thead th {\n",
       "        text-align: right;\n",
       "    }\n",
       "</style>\n",
       "<table border=\"1\" class=\"dataframe\">\n",
       "  <thead>\n",
       "    <tr style=\"text-align: right;\">\n",
       "      <th></th>\n",
       "      <th>Unnamed: 0</th>\n",
       "      <th>Gender</th>\n",
       "      <th>City</th>\n",
       "      <th>Monthly_Income</th>\n",
       "      <th>Loan_Amount_Applied</th>\n",
       "      <th>Loan_Tenure_Applied</th>\n",
       "      <th>Existing_EMI</th>\n",
       "      <th>Employer_Name</th>\n",
       "      <th>Mobile_Verified</th>\n",
       "      <th>Var5</th>\n",
       "      <th>Var1</th>\n",
       "      <th>Loan_Amount_Submitted</th>\n",
       "      <th>Loan_Tenure_Submitted</th>\n",
       "      <th>Interest_Rate</th>\n",
       "      <th>Processing_Fee</th>\n",
       "      <th>EMI_Loan_Submitted</th>\n",
       "      <th>Filled_Form</th>\n",
       "      <th>Device_Type</th>\n",
       "      <th>Var2</th>\n",
       "      <th>Source</th>\n",
       "      <th>Var4</th>\n",
       "      <th>Disbursed</th>\n",
       "      <th>Age</th>\n",
       "      <th>Salary_Account_Bank of Baroda</th>\n",
       "      <th>Salary_Account_Bank of India</th>\n",
       "      <th>Salary_Account_Citibank</th>\n",
       "      <th>Salary_Account_HDFC Bank</th>\n",
       "      <th>Salary_Account_ICICI Bank</th>\n",
       "      <th>Salary_Account_IDBI Bank</th>\n",
       "      <th>Salary_Account_Kotak Bank</th>\n",
       "      <th>Salary_Account_Pozostałe</th>\n",
       "      <th>Salary_Account_Punjab National Bank</th>\n",
       "      <th>Salary_Account_State Bank of India</th>\n",
       "    </tr>\n",
       "  </thead>\n",
       "  <tbody>\n",
       "    <tr>\n",
       "      <th>0</th>\n",
       "      <td>0</td>\n",
       "      <td>1</td>\n",
       "      <td>11</td>\n",
       "      <td>27.144176</td>\n",
       "      <td>547.722558</td>\n",
       "      <td>5.0</td>\n",
       "      <td>0.000000</td>\n",
       "      <td>1</td>\n",
       "      <td>0</td>\n",
       "      <td>0</td>\n",
       "      <td>8</td>\n",
       "      <td>0.000000</td>\n",
       "      <td>0.0</td>\n",
       "      <td>0</td>\n",
       "      <td>0.000000</td>\n",
       "      <td>0</td>\n",
       "      <td>0</td>\n",
       "      <td>1</td>\n",
       "      <td>5</td>\n",
       "      <td>7</td>\n",
       "      <td>1</td>\n",
       "      <td>0</td>\n",
       "      <td>3.610918</td>\n",
       "      <td>0</td>\n",
       "      <td>0</td>\n",
       "      <td>0</td>\n",
       "      <td>1</td>\n",
       "      <td>0</td>\n",
       "      <td>0</td>\n",
       "      <td>0</td>\n",
       "      <td>0</td>\n",
       "      <td>0</td>\n",
       "      <td>0</td>\n",
       "    </tr>\n",
       "    <tr>\n",
       "      <th>1</th>\n",
       "      <td>1</td>\n",
       "      <td>0</td>\n",
       "      <td>9</td>\n",
       "      <td>32.710663</td>\n",
       "      <td>447.213595</td>\n",
       "      <td>2.0</td>\n",
       "      <td>0.000000</td>\n",
       "      <td>10</td>\n",
       "      <td>1</td>\n",
       "      <td>13</td>\n",
       "      <td>4</td>\n",
       "      <td>447.213595</td>\n",
       "      <td>2.0</td>\n",
       "      <td>1</td>\n",
       "      <td>0.000000</td>\n",
       "      <td>1</td>\n",
       "      <td>0</td>\n",
       "      <td>1</td>\n",
       "      <td>5</td>\n",
       "      <td>7</td>\n",
       "      <td>3</td>\n",
       "      <td>0</td>\n",
       "      <td>3.401197</td>\n",
       "      <td>0</td>\n",
       "      <td>0</td>\n",
       "      <td>0</td>\n",
       "      <td>0</td>\n",
       "      <td>1</td>\n",
       "      <td>0</td>\n",
       "      <td>0</td>\n",
       "      <td>0</td>\n",
       "      <td>0</td>\n",
       "      <td>0</td>\n",
       "    </tr>\n",
       "    <tr>\n",
       "      <th>2</th>\n",
       "      <td>2</td>\n",
       "      <td>0</td>\n",
       "      <td>0</td>\n",
       "      <td>28.231081</td>\n",
       "      <td>774.596669</td>\n",
       "      <td>4.0</td>\n",
       "      <td>0.000000</td>\n",
       "      <td>1</td>\n",
       "      <td>1</td>\n",
       "      <td>0</td>\n",
       "      <td>8</td>\n",
       "      <td>670.820393</td>\n",
       "      <td>4.0</td>\n",
       "      <td>0</td>\n",
       "      <td>0.000000</td>\n",
       "      <td>1</td>\n",
       "      <td>0</td>\n",
       "      <td>1</td>\n",
       "      <td>6</td>\n",
       "      <td>4</td>\n",
       "      <td>1</td>\n",
       "      <td>0</td>\n",
       "      <td>3.526361</td>\n",
       "      <td>0</td>\n",
       "      <td>0</td>\n",
       "      <td>0</td>\n",
       "      <td>0</td>\n",
       "      <td>0</td>\n",
       "      <td>0</td>\n",
       "      <td>0</td>\n",
       "      <td>0</td>\n",
       "      <td>0</td>\n",
       "      <td>1</td>\n",
       "    </tr>\n",
       "    <tr>\n",
       "      <th>3</th>\n",
       "      <td>3</td>\n",
       "      <td>0</td>\n",
       "      <td>0</td>\n",
       "      <td>32.710663</td>\n",
       "      <td>1000.000000</td>\n",
       "      <td>5.0</td>\n",
       "      <td>0.000000</td>\n",
       "      <td>1</td>\n",
       "      <td>1</td>\n",
       "      <td>10</td>\n",
       "      <td>8</td>\n",
       "      <td>959.166305</td>\n",
       "      <td>5.0</td>\n",
       "      <td>0</td>\n",
       "      <td>0.000000</td>\n",
       "      <td>1</td>\n",
       "      <td>0</td>\n",
       "      <td>1</td>\n",
       "      <td>6</td>\n",
       "      <td>4</td>\n",
       "      <td>3</td>\n",
       "      <td>0</td>\n",
       "      <td>3.332205</td>\n",
       "      <td>0</td>\n",
       "      <td>0</td>\n",
       "      <td>0</td>\n",
       "      <td>0</td>\n",
       "      <td>0</td>\n",
       "      <td>0</td>\n",
       "      <td>0</td>\n",
       "      <td>0</td>\n",
       "      <td>0</td>\n",
       "      <td>1</td>\n",
       "    </tr>\n",
       "    <tr>\n",
       "      <th>4</th>\n",
       "      <td>4</td>\n",
       "      <td>0</td>\n",
       "      <td>10</td>\n",
       "      <td>46.415888</td>\n",
       "      <td>707.106781</td>\n",
       "      <td>2.0</td>\n",
       "      <td>10.126671</td>\n",
       "      <td>1</td>\n",
       "      <td>1</td>\n",
       "      <td>17</td>\n",
       "      <td>8</td>\n",
       "      <td>707.106781</td>\n",
       "      <td>2.0</td>\n",
       "      <td>0</td>\n",
       "      <td>0.000000</td>\n",
       "      <td>1</td>\n",
       "      <td>0</td>\n",
       "      <td>1</td>\n",
       "      <td>6</td>\n",
       "      <td>1</td>\n",
       "      <td>3</td>\n",
       "      <td>0</td>\n",
       "      <td>3.433987</td>\n",
       "      <td>0</td>\n",
       "      <td>0</td>\n",
       "      <td>0</td>\n",
       "      <td>1</td>\n",
       "      <td>0</td>\n",
       "      <td>0</td>\n",
       "      <td>0</td>\n",
       "      <td>0</td>\n",
       "      <td>0</td>\n",
       "      <td>0</td>\n",
       "    </tr>\n",
       "    <tr>\n",
       "      <th>5</th>\n",
       "      <td>5</td>\n",
       "      <td>0</td>\n",
       "      <td>10</td>\n",
       "      <td>35.568933</td>\n",
       "      <td>547.722558</td>\n",
       "      <td>5.0</td>\n",
       "      <td>9.615872</td>\n",
       "      <td>5</td>\n",
       "      <td>1</td>\n",
       "      <td>17</td>\n",
       "      <td>0</td>\n",
       "      <td>547.722558</td>\n",
       "      <td>5.0</td>\n",
       "      <td>1</td>\n",
       "      <td>7.313887</td>\n",
       "      <td>1</td>\n",
       "      <td>0</td>\n",
       "      <td>1</td>\n",
       "      <td>6</td>\n",
       "      <td>4</td>\n",
       "      <td>3</td>\n",
       "      <td>0</td>\n",
       "      <td>3.496508</td>\n",
       "      <td>0</td>\n",
       "      <td>0</td>\n",
       "      <td>0</td>\n",
       "      <td>0</td>\n",
       "      <td>0</td>\n",
       "      <td>0</td>\n",
       "      <td>0</td>\n",
       "      <td>1</td>\n",
       "      <td>0</td>\n",
       "      <td>0</td>\n",
       "    </tr>\n",
       "    <tr>\n",
       "      <th>6</th>\n",
       "      <td>6</td>\n",
       "      <td>1</td>\n",
       "      <td>0</td>\n",
       "      <td>41.212853</td>\n",
       "      <td>2.449490</td>\n",
       "      <td>5.0</td>\n",
       "      <td>0.000000</td>\n",
       "      <td>1</td>\n",
       "      <td>0</td>\n",
       "      <td>0</td>\n",
       "      <td>8</td>\n",
       "      <td>0.000000</td>\n",
       "      <td>0.0</td>\n",
       "      <td>0</td>\n",
       "      <td>0.000000</td>\n",
       "      <td>0</td>\n",
       "      <td>0</td>\n",
       "      <td>1</td>\n",
       "      <td>6</td>\n",
       "      <td>6</td>\n",
       "      <td>1</td>\n",
       "      <td>0</td>\n",
       "      <td>3.332205</td>\n",
       "      <td>0</td>\n",
       "      <td>0</td>\n",
       "      <td>0</td>\n",
       "      <td>0</td>\n",
       "      <td>0</td>\n",
       "      <td>0</td>\n",
       "      <td>0</td>\n",
       "      <td>1</td>\n",
       "      <td>0</td>\n",
       "      <td>0</td>\n",
       "    </tr>\n",
       "    <tr>\n",
       "      <th>7</th>\n",
       "      <td>7</td>\n",
       "      <td>0</td>\n",
       "      <td>10</td>\n",
       "      <td>27.144176</td>\n",
       "      <td>447.213595</td>\n",
       "      <td>5.0</td>\n",
       "      <td>7.862497</td>\n",
       "      <td>1</td>\n",
       "      <td>1</td>\n",
       "      <td>3</td>\n",
       "      <td>8</td>\n",
       "      <td>447.213595</td>\n",
       "      <td>5.0</td>\n",
       "      <td>0</td>\n",
       "      <td>0.000000</td>\n",
       "      <td>1</td>\n",
       "      <td>0</td>\n",
       "      <td>1</td>\n",
       "      <td>6</td>\n",
       "      <td>5</td>\n",
       "      <td>3</td>\n",
       "      <td>0</td>\n",
       "      <td>3.688879</td>\n",
       "      <td>0</td>\n",
       "      <td>0</td>\n",
       "      <td>0</td>\n",
       "      <td>0</td>\n",
       "      <td>0</td>\n",
       "      <td>0</td>\n",
       "      <td>0</td>\n",
       "      <td>1</td>\n",
       "      <td>0</td>\n",
       "      <td>0</td>\n",
       "    </tr>\n",
       "    <tr>\n",
       "      <th>8</th>\n",
       "      <td>8</td>\n",
       "      <td>0</td>\n",
       "      <td>0</td>\n",
       "      <td>42.171633</td>\n",
       "      <td>0.000000</td>\n",
       "      <td>0.0</td>\n",
       "      <td>0.000000</td>\n",
       "      <td>1</td>\n",
       "      <td>1</td>\n",
       "      <td>13</td>\n",
       "      <td>3</td>\n",
       "      <td>1140.175425</td>\n",
       "      <td>5.0</td>\n",
       "      <td>1</td>\n",
       "      <td>10.165890</td>\n",
       "      <td>1</td>\n",
       "      <td>1</td>\n",
       "      <td>0</td>\n",
       "      <td>4</td>\n",
       "      <td>7</td>\n",
       "      <td>5</td>\n",
       "      <td>0</td>\n",
       "      <td>3.761200</td>\n",
       "      <td>0</td>\n",
       "      <td>0</td>\n",
       "      <td>0</td>\n",
       "      <td>0</td>\n",
       "      <td>0</td>\n",
       "      <td>0</td>\n",
       "      <td>0</td>\n",
       "      <td>0</td>\n",
       "      <td>0</td>\n",
       "      <td>1</td>\n",
       "    </tr>\n",
       "    <tr>\n",
       "      <th>9</th>\n",
       "      <td>9</td>\n",
       "      <td>1</td>\n",
       "      <td>9</td>\n",
       "      <td>31.072325</td>\n",
       "      <td>547.722558</td>\n",
       "      <td>3.0</td>\n",
       "      <td>0.000000</td>\n",
       "      <td>1</td>\n",
       "      <td>1</td>\n",
       "      <td>0</td>\n",
       "      <td>7</td>\n",
       "      <td>547.722558</td>\n",
       "      <td>3.0</td>\n",
       "      <td>1</td>\n",
       "      <td>7.313887</td>\n",
       "      <td>1</td>\n",
       "      <td>0</td>\n",
       "      <td>1</td>\n",
       "      <td>6</td>\n",
       "      <td>6</td>\n",
       "      <td>1</td>\n",
       "      <td>0</td>\n",
       "      <td>3.258097</td>\n",
       "      <td>0</td>\n",
       "      <td>0</td>\n",
       "      <td>0</td>\n",
       "      <td>0</td>\n",
       "      <td>0</td>\n",
       "      <td>0</td>\n",
       "      <td>1</td>\n",
       "      <td>0</td>\n",
       "      <td>0</td>\n",
       "      <td>0</td>\n",
       "    </tr>\n",
       "  </tbody>\n",
       "</table>\n",
       "</div>"
      ],
      "text/plain": [
       "   Unnamed: 0  Gender  City  Monthly_Income  Loan_Amount_Applied  \\\n",
       "0           0       1    11       27.144176           547.722558   \n",
       "1           1       0     9       32.710663           447.213595   \n",
       "2           2       0     0       28.231081           774.596669   \n",
       "3           3       0     0       32.710663          1000.000000   \n",
       "4           4       0    10       46.415888           707.106781   \n",
       "5           5       0    10       35.568933           547.722558   \n",
       "6           6       1     0       41.212853             2.449490   \n",
       "7           7       0    10       27.144176           447.213595   \n",
       "8           8       0     0       42.171633             0.000000   \n",
       "9           9       1     9       31.072325           547.722558   \n",
       "\n",
       "   Loan_Tenure_Applied  Existing_EMI  Employer_Name  Mobile_Verified  Var5  \\\n",
       "0                  5.0      0.000000              1                0     0   \n",
       "1                  2.0      0.000000             10                1    13   \n",
       "2                  4.0      0.000000              1                1     0   \n",
       "3                  5.0      0.000000              1                1    10   \n",
       "4                  2.0     10.126671              1                1    17   \n",
       "5                  5.0      9.615872              5                1    17   \n",
       "6                  5.0      0.000000              1                0     0   \n",
       "7                  5.0      7.862497              1                1     3   \n",
       "8                  0.0      0.000000              1                1    13   \n",
       "9                  3.0      0.000000              1                1     0   \n",
       "\n",
       "   Var1  Loan_Amount_Submitted  Loan_Tenure_Submitted  Interest_Rate  \\\n",
       "0     8               0.000000                    0.0              0   \n",
       "1     4             447.213595                    2.0              1   \n",
       "2     8             670.820393                    4.0              0   \n",
       "3     8             959.166305                    5.0              0   \n",
       "4     8             707.106781                    2.0              0   \n",
       "5     0             547.722558                    5.0              1   \n",
       "6     8               0.000000                    0.0              0   \n",
       "7     8             447.213595                    5.0              0   \n",
       "8     3            1140.175425                    5.0              1   \n",
       "9     7             547.722558                    3.0              1   \n",
       "\n",
       "   Processing_Fee  EMI_Loan_Submitted  Filled_Form  Device_Type  Var2  Source  \\\n",
       "0        0.000000                   0            0            1     5       7   \n",
       "1        0.000000                   1            0            1     5       7   \n",
       "2        0.000000                   1            0            1     6       4   \n",
       "3        0.000000                   1            0            1     6       4   \n",
       "4        0.000000                   1            0            1     6       1   \n",
       "5        7.313887                   1            0            1     6       4   \n",
       "6        0.000000                   0            0            1     6       6   \n",
       "7        0.000000                   1            0            1     6       5   \n",
       "8       10.165890                   1            1            0     4       7   \n",
       "9        7.313887                   1            0            1     6       6   \n",
       "\n",
       "   Var4  Disbursed       Age  Salary_Account_Bank of Baroda  \\\n",
       "0     1          0  3.610918                              0   \n",
       "1     3          0  3.401197                              0   \n",
       "2     1          0  3.526361                              0   \n",
       "3     3          0  3.332205                              0   \n",
       "4     3          0  3.433987                              0   \n",
       "5     3          0  3.496508                              0   \n",
       "6     1          0  3.332205                              0   \n",
       "7     3          0  3.688879                              0   \n",
       "8     5          0  3.761200                              0   \n",
       "9     1          0  3.258097                              0   \n",
       "\n",
       "   Salary_Account_Bank of India  Salary_Account_Citibank  \\\n",
       "0                             0                        0   \n",
       "1                             0                        0   \n",
       "2                             0                        0   \n",
       "3                             0                        0   \n",
       "4                             0                        0   \n",
       "5                             0                        0   \n",
       "6                             0                        0   \n",
       "7                             0                        0   \n",
       "8                             0                        0   \n",
       "9                             0                        0   \n",
       "\n",
       "   Salary_Account_HDFC Bank  Salary_Account_ICICI Bank  \\\n",
       "0                         1                          0   \n",
       "1                         0                          1   \n",
       "2                         0                          0   \n",
       "3                         0                          0   \n",
       "4                         1                          0   \n",
       "5                         0                          0   \n",
       "6                         0                          0   \n",
       "7                         0                          0   \n",
       "8                         0                          0   \n",
       "9                         0                          0   \n",
       "\n",
       "   Salary_Account_IDBI Bank  Salary_Account_Kotak Bank  \\\n",
       "0                         0                          0   \n",
       "1                         0                          0   \n",
       "2                         0                          0   \n",
       "3                         0                          0   \n",
       "4                         0                          0   \n",
       "5                         0                          0   \n",
       "6                         0                          0   \n",
       "7                         0                          0   \n",
       "8                         0                          0   \n",
       "9                         0                          1   \n",
       "\n",
       "   Salary_Account_Pozostałe  Salary_Account_Punjab National Bank  \\\n",
       "0                         0                                    0   \n",
       "1                         0                                    0   \n",
       "2                         0                                    0   \n",
       "3                         0                                    0   \n",
       "4                         0                                    0   \n",
       "5                         1                                    0   \n",
       "6                         1                                    0   \n",
       "7                         1                                    0   \n",
       "8                         0                                    0   \n",
       "9                         0                                    0   \n",
       "\n",
       "   Salary_Account_State Bank of India  \n",
       "0                                   0  \n",
       "1                                   0  \n",
       "2                                   1  \n",
       "3                                   1  \n",
       "4                                   0  \n",
       "5                                   0  \n",
       "6                                   0  \n",
       "7                                   0  \n",
       "8                                   1  \n",
       "9                                   0  "
      ]
     },
     "execution_count": 4,
     "metadata": {},
     "output_type": "execute_result"
    }
   ],
   "source": [
    "data.head(10)"
   ]
  },
  {
   "cell_type": "code",
   "execution_count": 5,
   "metadata": {},
   "outputs": [],
   "source": [
    "# Usuwamy Unnamed (index)\n",
    "data=data.drop('Unnamed: 0',axis=1)"
   ]
  },
  {
   "cell_type": "markdown",
   "metadata": {},
   "source": [
    "## Zmienna wynikowa"
   ]
  },
  {
   "cell_type": "code",
   "execution_count": 6,
   "metadata": {
    "scrolled": true
   },
   "outputs": [
    {
     "data": {
      "text/plain": [
       "0    85747\n",
       "1     1273\n",
       "Name: Disbursed, dtype: int64"
      ]
     },
     "execution_count": 6,
     "metadata": {},
     "output_type": "execute_result"
    }
   ],
   "source": [
    "data['Disbursed'].value_counts()"
   ]
  },
  {
   "cell_type": "code",
   "execution_count": null,
   "metadata": {
    "scrolled": true
   },
   "outputs": [],
   "source": [
    "#Widzimy duże niezbalansowanie - konieczne będzie zbalansowanie klas!\n",
    "# Dzielimy zbiór"
   ]
  },
  {
   "cell_type": "code",
   "execution_count": 7,
   "metadata": {},
   "outputs": [
    {
     "data": {
      "text/plain": [
       "(87020, 31)"
      ]
     },
     "execution_count": 7,
     "metadata": {},
     "output_type": "execute_result"
    }
   ],
   "source": [
    "X = data.drop('Disbursed',axis=1, inplace=False).values\n",
    "X.shape"
   ]
  },
  {
   "cell_type": "code",
   "execution_count": 8,
   "metadata": {},
   "outputs": [
    {
     "data": {
      "text/plain": [
       "(87020,)"
      ]
     },
     "execution_count": 8,
     "metadata": {},
     "output_type": "execute_result"
    }
   ],
   "source": [
    "y = data['Disbursed']\n",
    "y.shape"
   ]
  },
  {
   "cell_type": "code",
   "execution_count": 9,
   "metadata": {},
   "outputs": [],
   "source": [
    "X_train, X_test, y_train, y_test = train_test_split(X, y, test_size=0.25)"
   ]
  },
  {
   "cell_type": "code",
   "execution_count": 10,
   "metadata": {
    "scrolled": false
   },
   "outputs": [
    {
     "data": {
      "text/plain": [
       "(0.0143415306826017, 0.015490691794989658)"
      ]
     },
     "execution_count": 10,
     "metadata": {},
     "output_type": "execute_result"
    }
   ],
   "source": [
    "# Sprawdzamy jak rozłożyły się próbki\n",
    "y_train.mean(), y_test.mean()"
   ]
  },
  {
   "cell_type": "markdown",
   "metadata": {},
   "source": [
    "# BASELINE"
   ]
  },
  {
   "cell_type": "code",
   "execution_count": 11,
   "metadata": {},
   "outputs": [],
   "source": [
    "# Z treści zadania wynika, że interesuje nas jak największa precyzja w trafianiu 1. Czyli naszą miarą powinno być recall.\n",
    "# Jednocześnie musimy uważać, żeby model nie przewidywał wszystkich jako 1 :)"
   ]
  },
  {
   "cell_type": "code",
   "execution_count": 12,
   "metadata": {},
   "outputs": [],
   "source": [
    "kf = model_selection.StratifiedKFold(n_splits=5,\n",
    "                                     shuffle=False)"
   ]
  },
  {
   "cell_type": "code",
   "execution_count": 13,
   "metadata": {},
   "outputs": [
    {
     "data": {
      "text/plain": [
       "array([0.        , 0.00534759, 0.00534759, 0.        , 0.        ])"
      ]
     },
     "execution_count": 13,
     "metadata": {},
     "output_type": "execute_result"
    }
   ],
   "source": [
    "rf = RandomForestClassifier()\n",
    "\n",
    "cvs = cross_val_score(rf, X_train, y_train, cv=kf, scoring='recall')\n",
    "cvs"
   ]
  },
  {
   "cell_type": "code",
   "execution_count": null,
   "metadata": {},
   "outputs": [],
   "source": [
    "# Bardzo źle to wygląda - spróbujmy zmienić parametry i zastosować oversampling"
   ]
  },
  {
   "cell_type": "code",
   "execution_count": 16,
   "metadata": {
    "scrolled": false
   },
   "outputs": [
    {
     "name": "stdout",
     "output_type": "stream",
     "text": [
      "Fitting 5 folds for each of 54 candidates, totalling 270 fits\n"
     ]
    },
    {
     "name": "stderr",
     "output_type": "stream",
     "text": [
      "[Parallel(n_jobs=1)]: Using backend SequentialBackend with 1 concurrent workers.\n"
     ]
    },
    {
     "name": "stdout",
     "output_type": "stream",
     "text": [
      "Wall time: 39min 38s\n"
     ]
    },
    {
     "name": "stderr",
     "output_type": "stream",
     "text": [
      "[Parallel(n_jobs=1)]: Done 100 out of 100 | elapsed:    7.5s finished\n"
     ]
    },
    {
     "data": {
      "text/plain": [
       "(0.7456934804869724,\n",
       " Pipeline(steps=[('sampling', SMOTE()),\n",
       "                 ('rfc',\n",
       "                  RandomForestClassifier(max_depth=2, min_samples_leaf=10,\n",
       "                                         verbose=True))]),\n",
       " {'rfc__max_depth': 2, 'rfc__min_samples_leaf': 10})"
      ]
     },
     "execution_count": 16,
     "metadata": {},
     "output_type": "execute_result"
    }
   ],
   "source": [
    "%%time\n",
    "pipe = Pipeline([\n",
    "        ('sampling', SMOTE()),\n",
    "        ('rfc', RandomForestClassifier(verbose = True))\n",
    "    ])\n",
    "\n",
    "params = {\n",
    "    'rfc__max_depth': [2, 5, 10, 15, 25, 50, 75, 100, 150],\n",
    "    'rfc__min_samples_leaf': [1, 2, 5, 10, 20, 50]\n",
    "}\n",
    "\n",
    "baseline = GridSearchCV(estimator = pipe,\n",
    "                          param_grid=params,\n",
    "                          scoring = 'recall',\n",
    "                          verbose = True,\n",
    "                          n_jobs = -1,\n",
    "                          cv = kf\n",
    "                          )\n",
    "\n",
    "baseline.fit(X_train, y_train)\n",
    "baseline.best_score_, baseline.best_estimator_"
   ]
  },
  {
   "cell_type": "code",
   "execution_count": 17,
   "metadata": {},
   "outputs": [
    {
     "data": {
      "text/plain": [
       "array([0.71581522, 0.72548071, 0.72007623, 0.74569348, 0.71368188,\n",
       "       0.72642508, 0.61858573, 0.61859711, 0.60682103, 0.60578564,\n",
       "       0.61110479, 0.59934577, 0.24252475, 0.24466378, 0.24252475,\n",
       "       0.23609626, 0.24360564, 0.26175333, 0.07052566, 0.06945614,\n",
       "       0.08333713, 0.0833485 , 0.10256571, 0.13782   , 0.01602003,\n",
       "       0.01281716, 0.01709523, 0.02885425, 0.04808283, 0.09296279,\n",
       "       0.01174764, 0.01495051, 0.01815906, 0.02992377, 0.04916942,\n",
       "       0.0983047 , 0.01174764, 0.01388668, 0.01496188, 0.02885994,\n",
       "       0.05130845, 0.1036466 , 0.01174764, 0.01281716, 0.01602003,\n",
       "       0.02565138, 0.05663329, 0.1036466 , 0.01388668, 0.01067812,\n",
       "       0.01816475, 0.02885425, 0.04702469, 0.10149619])"
      ]
     },
     "execution_count": 17,
     "metadata": {},
     "output_type": "execute_result"
    }
   ],
   "source": [
    "baseline.cv_results_['mean_test_score']"
   ]
  },
  {
   "cell_type": "code",
   "execution_count": null,
   "metadata": {},
   "outputs": [],
   "source": [
    "# Uzyskane wyniki są znacząco wyższe. \n",
    "# Jednocześnie widzimy bardzo duży rozrzut w zależności od zadanych parametrów\n",
    "# Najlepszy ze wskazanych, tj. 74,5% będzie naszym progiem odniesienia"
   ]
  },
  {
   "cell_type": "code",
   "execution_count": null,
   "metadata": {},
   "outputs": [],
   "source": []
  },
  {
   "cell_type": "markdown",
   "metadata": {},
   "source": [
    "# MODELE"
   ]
  },
  {
   "cell_type": "code",
   "execution_count": null,
   "metadata": {},
   "outputs": [],
   "source": [
    "# 1. Parametry do modeli zadawane siatką lub wybierane losowo:\n",
    "#     a) dla siatki, jeżeli otrzymane wartości będą na skraju przedziału, poszerzamy go\n",
    "#     b) liczba iteracji dla wyznaczana ekspercko - wypadkowa szerokości przedziału, czasochłonności i ilości parametrów\n",
    "# 2. Z powodu niezbalansowania klas stosujemy zarówno under- jak i oversampling (na wartościach domyśnych)"
   ]
  },
  {
   "cell_type": "code",
   "execution_count": 19,
   "metadata": {},
   "outputs": [
    {
     "name": "stdout",
     "output_type": "stream",
     "text": [
      "Fitting 5 folds for each of 100 candidates, totalling 500 fits\n"
     ]
    },
    {
     "name": "stderr",
     "output_type": "stream",
     "text": [
      "[Parallel(n_jobs=1)]: Using backend SequentialBackend with 1 concurrent workers.\n"
     ]
    },
    {
     "name": "stdout",
     "output_type": "stream",
     "text": [
      "Wall time: 4min 20s\n"
     ]
    },
    {
     "name": "stderr",
     "output_type": "stream",
     "text": [
      "[Parallel(n_jobs=1)]: Done   1 out of   1 | elapsed:    0.9s remaining:    0.0s\n",
      "[Parallel(n_jobs=1)]: Done   1 out of   1 | elapsed:    0.9s finished\n"
     ]
    },
    {
     "data": {
      "text/plain": [
       "({'estimator__C': 117.23293078738999}, 0.7564114233701217)"
      ]
     },
     "execution_count": 19,
     "metadata": {},
     "output_type": "execute_result"
    }
   ],
   "source": [
    "%%time\n",
    "model = Pipeline([\n",
    "        ('over', SMOTE()),\n",
    "        ('under', RandomUnderSampler()),\n",
    "        ('scaler', StandardScaler()),\n",
    "        ('estimator', LogisticRegression(max_iter = 1000, verbose=2))\n",
    "    ])\n",
    "\n",
    "params = {\n",
    "    'estimator__C': ss.uniform(0.1, 200)\n",
    "}\n",
    "\n",
    "rscv_1 = RandomizedSearchCV(estimator = model,\n",
    "                            param_distributions=params,\n",
    "                            scoring = 'recall',\n",
    "                            n_iter = 100,\n",
    "                            verbose = 2,\n",
    "                            n_jobs = -1,\n",
    "                            cv = kf\n",
    "                         )\n",
    "    \n",
    "rscv_1.fit(X_train, y_train);\n",
    "    \n",
    "rscv_1.best_params_, rscv_1.best_score_"
   ]
  },
  {
   "cell_type": "code",
   "execution_count": 20,
   "metadata": {},
   "outputs": [
    {
     "name": "stdout",
     "output_type": "stream",
     "text": [
      "Fitting 5 folds for each of 50 candidates, totalling 250 fits\n",
      "Wall time: 3min 32s\n"
     ]
    },
    {
     "data": {
      "text/plain": [
       "(Pipeline(steps=[('sampling', SMOTE()), ('under', RandomUnderSampler()),\n",
       "                 ('tree',\n",
       "                  DecisionTreeClassifier(max_depth=1, min_samples_leaf=6))]),\n",
       " 0.8781772670383432)"
      ]
     },
     "execution_count": 20,
     "metadata": {},
     "output_type": "execute_result"
    }
   ],
   "source": [
    "%%time\n",
    "model = Pipeline([\n",
    "        ('sampling', SMOTE()),\n",
    "        ('under', RandomUnderSampler()),\n",
    "        ('tree', DecisionTreeClassifier())\n",
    "    ])\n",
    "\n",
    "params = {\n",
    "    'tree__max_depth': ss.randint(1, 100),\n",
    "    'tree__min_samples_leaf': ss.randint(1, 150)\n",
    "}\n",
    "\n",
    "rscv_2 = RandomizedSearchCV(estimator = model,\n",
    "                            param_distributions=params,\n",
    "                            scoring = 'recall',\n",
    "                            n_iter = 50,\n",
    "                            verbose = 1,\n",
    "                            n_jobs = -1,\n",
    "                            cv = kf\n",
    "                      )\n",
    "\n",
    "rscv_2.fit(X_train, y_train)\n",
    "\n",
    "rscv_2.best_estimator_, rscv_2.best_score_"
   ]
  },
  {
   "cell_type": "code",
   "execution_count": 21,
   "metadata": {},
   "outputs": [
    {
     "name": "stdout",
     "output_type": "stream",
     "text": [
      "Fitting 5 folds for each of 11 candidates, totalling 55 fits\n",
      "Wall time: 21min 53s\n"
     ]
    },
    {
     "data": {
      "text/plain": [
       "({'KNeighbors__n_neighbors': 175}, 0.7275571737399021)"
      ]
     },
     "execution_count": 21,
     "metadata": {},
     "output_type": "execute_result"
    }
   ],
   "source": [
    "%%time\n",
    "model = Pipeline([\n",
    "        ('sampling', SMOTE()),\n",
    "        ('under', RandomUnderSampler()),\n",
    "        ('KNeighbors', KNeighborsClassifier())\n",
    "    ])\n",
    "\n",
    "params = {\n",
    "    'KNeighbors__n_neighbors': [1, 2, 5, 10, 15, 25, 50, 100, 125, 150, 175]\n",
    "}\n",
    "\n",
    "grid_3 = GridSearchCV(estimator = model,\n",
    "                     param_grid = params,\n",
    "                     scoring = 'recall',\n",
    "                     verbose = True,\n",
    "                     n_jobs = -1,\n",
    "                     cv = kf)\n",
    "\n",
    "grid_3.fit(X_train, y_train)\n",
    "\n",
    "grid_3.best_params_, grid_3.best_score_"
   ]
  },
  {
   "cell_type": "code",
   "execution_count": 22,
   "metadata": {},
   "outputs": [
    {
     "name": "stdout",
     "output_type": "stream",
     "text": [
      "Fitting 5 folds for each of 50 candidates, totalling 250 fits\n",
      "Wall time: 1h 31min 57s\n"
     ]
    },
    {
     "data": {
      "text/plain": [
       "({'xgb__gamma': 2.8558039122163406,\n",
       "  'xgb__learning_rate': 0.009162987974344314,\n",
       "  'xgb__max_depth': 5,\n",
       "  'xgb__min_child_weight': 14,\n",
       "  'xgb__reg_alpha': 1.6050440552075207,\n",
       "  'xgb__reg_lambda': 3.5971773874158615},\n",
       " 0.5085106382978724)"
      ]
     },
     "execution_count": 22,
     "metadata": {},
     "output_type": "execute_result"
    }
   ],
   "source": [
    "%%time\n",
    "model = Pipeline([\n",
    "        ('sampling', SMOTE()),\n",
    "        ('under', RandomUnderSampler()),\n",
    "        ('scaler', StandardScaler()),\n",
    "        ('xgb', XGBClassifier(verbosity=1))\n",
    "    ])\n",
    "\n",
    "params = {\n",
    "    'xgb__learning_rate': ss.uniform(0.001, 0.6),\n",
    "    'xgb__max_depth': ss.randint(3, 20),\n",
    "    'xgb__min_child_weight': ss.randint(3, 15),\n",
    "    'xgb__reg_lambda': ss.uniform(0.01, 5),\n",
    "    'xgb__reg_alpha': ss.uniform(0.01,5),\n",
    "    'xgb__gamma': ss.uniform(0.01, 5)\n",
    "}\n",
    "\n",
    "rscv_4 = RandomizedSearchCV(estimator = model,\n",
    "                            param_distributions=params,\n",
    "                            scoring = 'recall',\n",
    "                            n_iter = 50,\n",
    "                            verbose = 1,\n",
    "                            n_jobs = -1,\n",
    "                            cv = kf\n",
    "                         )\n",
    "\n",
    "rscv_4.fit(X_train, y_train)\n",
    "\n",
    "rscv_4.best_params_, rscv_4.best_score_"
   ]
  },
  {
   "cell_type": "code",
   "execution_count": 23,
   "metadata": {},
   "outputs": [],
   "source": [
    "best_models = []\n",
    "best_models.append(rscv_1.best_estimator_) # Regresja\n",
    "best_models.append(rscv_2.best_estimator_) # drzewo\n",
    "best_models.append(grid_3.best_estimator_) # sasiedzi\n",
    "best_models.append(rscv_4.best_estimator_) # XGB\n",
    "\n",
    "accuracy_train = []\n",
    "auc_train = []\n",
    "precision_train = []\n",
    "recall_train = []\n",
    "f1_train = []\n",
    "tn_train = []\n",
    "fp_train = []\n",
    "fn_train = []\n",
    "tp_train = []\n",
    "fpr_train = []\n",
    "tpr_train = []\n",
    "\n",
    "accuracy_test = []\n",
    "auc_test = []\n",
    "precision_test = []\n",
    "recall_test = []\n",
    "f1_test = []\n",
    "tn_test = []\n",
    "fp_test = []\n",
    "fn_test = []\n",
    "tp_test = []\n",
    "fpr_test = []\n",
    "tpr_test = []"
   ]
  },
  {
   "cell_type": "code",
   "execution_count": 24,
   "metadata": {},
   "outputs": [
    {
     "name": "stdout",
     "output_type": "stream",
     "text": [
      "Wall time: 5min 18s\n"
     ]
    }
   ],
   "source": [
    "%%time\n",
    "\n",
    "# uzupełniamy listy\n",
    "for model in best_models:\n",
    "    y_train_predict = model.predict(X_train)\n",
    "    y_test_predict = model.predict(X_test)\n",
    "    tn, fp, fn, tp = confusion_matrix(y_true = y_train, y_pred =y_train_predict).ravel()\n",
    "    tn_t, fp_t, fn_t, tp_t = confusion_matrix(y_true = y_test, y_pred = y_test_predict).ravel()\n",
    "    \n",
    "    \n",
    "    accuracy_train.append(accuracy_score(y_train, y_train_predict))\n",
    "    auc_train.append(roc_auc_score(y_train, y_train_predict))\n",
    "    precision_train.append(precision_score(y_true = y_train, y_pred=y_train_predict))\n",
    "    recall_train.append(recall_score(y_true = y_train, y_pred=y_train_predict))\n",
    "    f1_train.append(f1_score(y_train, y_train_predict))\n",
    "    tn_train.append(tn)\n",
    "    fp_train.append(fp)\n",
    "    fn_train.append(fn)\n",
    "    tp_train.append(tp)\n",
    "    fpr_train.append(fp / (fp + tn))\n",
    "    tpr_train.append(tp / (tp + fn))\n",
    "    \n",
    "    \n",
    "    accuracy_test.append(accuracy_score(y_test, y_test_predict))\n",
    "    auc_test.append(roc_auc_score(y_test, y_test_predict))\n",
    "    precision_test.append(precision_score(y_true = y_test, y_pred=y_test_predict))\n",
    "    recall_test.append(recall_score(y_true = y_test, y_pred=y_test_predict))\n",
    "    f1_test.append(f1_score(y_test, y_test_predict))\n",
    "    tn_test.append(tn_t)\n",
    "    fp_test.append(fp_t)\n",
    "    fn_test.append(fn_t)\n",
    "    tp_test.append(tp_t)\n",
    "    fpr_test.append(fp_t / (fp_t + tn_t))\n",
    "    tpr_test.append(tp_t / (tp_t + fn_t))"
   ]
  },
  {
   "cell_type": "code",
   "execution_count": 25,
   "metadata": {
    "scrolled": true
   },
   "outputs": [
    {
     "data": {
      "text/html": [
       "<div>\n",
       "<style scoped>\n",
       "    .dataframe tbody tr th:only-of-type {\n",
       "        vertical-align: middle;\n",
       "    }\n",
       "\n",
       "    .dataframe tbody tr th {\n",
       "        vertical-align: top;\n",
       "    }\n",
       "\n",
       "    .dataframe thead th {\n",
       "        text-align: right;\n",
       "    }\n",
       "</style>\n",
       "<table border=\"1\" class=\"dataframe\">\n",
       "  <thead>\n",
       "    <tr style=\"text-align: right;\">\n",
       "      <th></th>\n",
       "      <th>Method</th>\n",
       "      <th>Accuracy_train</th>\n",
       "      <th>AUC_train</th>\n",
       "      <th>Precision_train</th>\n",
       "      <th>Recall_train</th>\n",
       "      <th>F1_train</th>\n",
       "      <th>TN_train</th>\n",
       "      <th>FP_train</th>\n",
       "      <th>FN_train</th>\n",
       "      <th>TP_train</th>\n",
       "      <th>FPR_train</th>\n",
       "      <th>TPR_train</th>\n",
       "    </tr>\n",
       "  </thead>\n",
       "  <tbody>\n",
       "    <tr>\n",
       "      <th>0</th>\n",
       "      <td>Logistic_Regression</td>\n",
       "      <td>0.747368</td>\n",
       "      <td>0.759720</td>\n",
       "      <td>0.042534</td>\n",
       "      <td>0.772436</td>\n",
       "      <td>0.080629</td>\n",
       "      <td>48054</td>\n",
       "      <td>16275</td>\n",
       "      <td>213</td>\n",
       "      <td>723</td>\n",
       "      <td>0.252996</td>\n",
       "      <td>0.772436</td>\n",
       "    </tr>\n",
       "    <tr>\n",
       "      <th>1</th>\n",
       "      <td>DecisionTreeClassifier</td>\n",
       "      <td>0.585260</td>\n",
       "      <td>0.729601</td>\n",
       "      <td>0.029594</td>\n",
       "      <td>0.878205</td>\n",
       "      <td>0.057258</td>\n",
       "      <td>37375</td>\n",
       "      <td>26954</td>\n",
       "      <td>114</td>\n",
       "      <td>822</td>\n",
       "      <td>0.419002</td>\n",
       "      <td>0.878205</td>\n",
       "    </tr>\n",
       "    <tr>\n",
       "      <th>2</th>\n",
       "      <td>KNeighborsClassifier</td>\n",
       "      <td>0.697954</td>\n",
       "      <td>0.792033</td>\n",
       "      <td>0.040703</td>\n",
       "      <td>0.888889</td>\n",
       "      <td>0.077841</td>\n",
       "      <td>44720</td>\n",
       "      <td>19609</td>\n",
       "      <td>104</td>\n",
       "      <td>832</td>\n",
       "      <td>0.304824</td>\n",
       "      <td>0.888889</td>\n",
       "    </tr>\n",
       "    <tr>\n",
       "      <th>3</th>\n",
       "      <td>XGBClassifier</td>\n",
       "      <td>0.793427</td>\n",
       "      <td>0.692541</td>\n",
       "      <td>0.040372</td>\n",
       "      <td>0.588675</td>\n",
       "      <td>0.075562</td>\n",
       "      <td>51232</td>\n",
       "      <td>13097</td>\n",
       "      <td>385</td>\n",
       "      <td>551</td>\n",
       "      <td>0.203594</td>\n",
       "      <td>0.588675</td>\n",
       "    </tr>\n",
       "  </tbody>\n",
       "</table>\n",
       "</div>"
      ],
      "text/plain": [
       "                   Method  Accuracy_train  AUC_train  Precision_train  \\\n",
       "0     Logistic_Regression        0.747368   0.759720         0.042534   \n",
       "1  DecisionTreeClassifier        0.585260   0.729601         0.029594   \n",
       "2    KNeighborsClassifier        0.697954   0.792033         0.040703   \n",
       "3           XGBClassifier        0.793427   0.692541         0.040372   \n",
       "\n",
       "   Recall_train  F1_train  TN_train  FP_train  FN_train  TP_train  FPR_train  \\\n",
       "0      0.772436  0.080629     48054     16275       213       723   0.252996   \n",
       "1      0.878205  0.057258     37375     26954       114       822   0.419002   \n",
       "2      0.888889  0.077841     44720     19609       104       832   0.304824   \n",
       "3      0.588675  0.075562     51232     13097       385       551   0.203594   \n",
       "\n",
       "   TPR_train  \n",
       "0   0.772436  \n",
       "1   0.878205  \n",
       "2   0.888889  \n",
       "3   0.588675  "
      ]
     },
     "execution_count": 25,
     "metadata": {},
     "output_type": "execute_result"
    }
   ],
   "source": [
    "summary_train = {\n",
    "     'Accuracy_train': accuracy_train,\n",
    "     'AUC_train': auc_train,\n",
    "     'Precision_train': precision_train, \n",
    "     'Recall_train': recall_train,\n",
    "     'F1_train': f1_train,\n",
    "     'TN_train': tn_train, \n",
    "     'FP_train': fp_train,\n",
    "     'FN_train': fn_train,\n",
    "     'TP_train': tp_train,\n",
    "     'FPR_train': fpr_train,\n",
    "     'TPR_train': tpr_train\n",
    "    }\n",
    "\n",
    "wyniki_train = pd.DataFrame(data=summary_train)\n",
    "wyniki_train.insert(loc=0, column='Method', value=['Logistic_Regression',\n",
    "                                             'DecisionTreeClassifier',\n",
    "                                             'KNeighborsClassifier',\n",
    "                                             'XGBClassifier'\n",
    "                                             ])\n",
    "wyniki_train"
   ]
  },
  {
   "cell_type": "markdown",
   "metadata": {},
   "source": [
    "Wszystkie klasyfikatory, za wyjątkiem XGB, otrzymały wynik lepszy niż baseline.\n",
    "\n",
    "Najwyższą wartość recall w treningu otrzymaliśmy  dla klasyfikatora KNeighbors. Jednocześnie widzimy bardzo wysoką wartość FP. W przypadku udzielenia pożyczki osobie, która nie powinna jej dostać jest to doć poważny problem.\n",
    "\n",
    "Druga w kolejności wartość parametru recall, otrzymana przez drzewo, jest nieznacznie niższa. Jednak zarówno wartości accuracy jak i FP są niższe niż dla klasyfikatora KNeghbors. Zachodzi podejrzenie przetrenowania modelu.\n",
    "\n",
    "Skupmy się zatem na dwóch pozostałych, tj. regresji  XGB:\n",
    "    \n",
    "    a) regresja - gorsze accuracy, porównywalna precyzja, ISTOTNIE wyższa wartość recall przy nieznacznie wyższej wartości f1\n",
    "    \n",
    "    b) XGB - lepsza precyzja, ISTOTNIE gorszy recall\n",
    "    \n",
    "Wydaje się zatem, że bazując na zadanym na wstępie parametrze należałoby odrzucić XGB. Sprawdzamy jeszcze wyniki na zbiorze walidacyjnym:"
   ]
  },
  {
   "cell_type": "code",
   "execution_count": 26,
   "metadata": {},
   "outputs": [
    {
     "data": {
      "text/html": [
       "<div>\n",
       "<style scoped>\n",
       "    .dataframe tbody tr th:only-of-type {\n",
       "        vertical-align: middle;\n",
       "    }\n",
       "\n",
       "    .dataframe tbody tr th {\n",
       "        vertical-align: top;\n",
       "    }\n",
       "\n",
       "    .dataframe thead th {\n",
       "        text-align: right;\n",
       "    }\n",
       "</style>\n",
       "<table border=\"1\" class=\"dataframe\">\n",
       "  <thead>\n",
       "    <tr style=\"text-align: right;\">\n",
       "      <th></th>\n",
       "      <th>Method</th>\n",
       "      <th>Accuracy_test</th>\n",
       "      <th>AUC_test</th>\n",
       "      <th>Precision_test</th>\n",
       "      <th>Recall_test</th>\n",
       "      <th>F1_test</th>\n",
       "      <th>TN_test</th>\n",
       "      <th>FP_test</th>\n",
       "      <th>FN_test</th>\n",
       "      <th>TP_test</th>\n",
       "      <th>FPR_est</th>\n",
       "      <th>TPR_test</th>\n",
       "    </tr>\n",
       "  </thead>\n",
       "  <tbody>\n",
       "    <tr>\n",
       "      <th>0</th>\n",
       "      <td>Logistic_Regression</td>\n",
       "      <td>0.750908</td>\n",
       "      <td>0.753747</td>\n",
       "      <td>0.045601</td>\n",
       "      <td>0.756677</td>\n",
       "      <td>0.086018</td>\n",
       "      <td>16081</td>\n",
       "      <td>5337</td>\n",
       "      <td>82</td>\n",
       "      <td>255</td>\n",
       "      <td>0.249183</td>\n",
       "      <td>0.756677</td>\n",
       "    </tr>\n",
       "    <tr>\n",
       "      <th>1</th>\n",
       "      <td>DecisionTreeClassifier</td>\n",
       "      <td>0.583406</td>\n",
       "      <td>0.709568</td>\n",
       "      <td>0.030456</td>\n",
       "      <td>0.839763</td>\n",
       "      <td>0.058781</td>\n",
       "      <td>12409</td>\n",
       "      <td>9009</td>\n",
       "      <td>54</td>\n",
       "      <td>283</td>\n",
       "      <td>0.420628</td>\n",
       "      <td>0.839763</td>\n",
       "    </tr>\n",
       "    <tr>\n",
       "      <th>2</th>\n",
       "      <td>KNeighborsClassifier</td>\n",
       "      <td>0.695334</td>\n",
       "      <td>0.728444</td>\n",
       "      <td>0.037766</td>\n",
       "      <td>0.762611</td>\n",
       "      <td>0.071969</td>\n",
       "      <td>14870</td>\n",
       "      <td>6548</td>\n",
       "      <td>80</td>\n",
       "      <td>257</td>\n",
       "      <td>0.305724</td>\n",
       "      <td>0.762611</td>\n",
       "    </tr>\n",
       "    <tr>\n",
       "      <th>3</th>\n",
       "      <td>XGBClassifier</td>\n",
       "      <td>0.790071</td>\n",
       "      <td>0.680175</td>\n",
       "      <td>0.041414</td>\n",
       "      <td>0.566766</td>\n",
       "      <td>0.077187</td>\n",
       "      <td>16997</td>\n",
       "      <td>4421</td>\n",
       "      <td>146</td>\n",
       "      <td>191</td>\n",
       "      <td>0.206415</td>\n",
       "      <td>0.566766</td>\n",
       "    </tr>\n",
       "  </tbody>\n",
       "</table>\n",
       "</div>"
      ],
      "text/plain": [
       "                   Method  Accuracy_test  AUC_test  Precision_test  \\\n",
       "0     Logistic_Regression       0.750908  0.753747        0.045601   \n",
       "1  DecisionTreeClassifier       0.583406  0.709568        0.030456   \n",
       "2    KNeighborsClassifier       0.695334  0.728444        0.037766   \n",
       "3           XGBClassifier       0.790071  0.680175        0.041414   \n",
       "\n",
       "   Recall_test   F1_test  TN_test  FP_test  FN_test  TP_test   FPR_est  \\\n",
       "0     0.756677  0.086018    16081     5337       82      255  0.249183   \n",
       "1     0.839763  0.058781    12409     9009       54      283  0.420628   \n",
       "2     0.762611  0.071969    14870     6548       80      257  0.305724   \n",
       "3     0.566766  0.077187    16997     4421      146      191  0.206415   \n",
       "\n",
       "   TPR_test  \n",
       "0  0.756677  \n",
       "1  0.839763  \n",
       "2  0.762611  \n",
       "3  0.566766  "
      ]
     },
     "execution_count": 26,
     "metadata": {},
     "output_type": "execute_result"
    }
   ],
   "source": [
    "summary_test = {\n",
    "     'Accuracy_test': accuracy_test,\n",
    "     'AUC_test': auc_test,\n",
    "     'Precision_test': precision_test, \n",
    "     'Recall_test': recall_test, \n",
    "     'F1_test': f1_test,\n",
    "     'TN_test': tn_test, \n",
    "     'FP_test': fp_test, \n",
    "     'FN_test': fn_test, \n",
    "     'TP_test': tp_test,\n",
    "     'FPR_est': fpr_test,\n",
    "     'TPR_test': tpr_test\n",
    "    }\n",
    "\n",
    "wyniki_test = pd.DataFrame(data=summary_test)\n",
    "wyniki_test.insert(loc=0, column='Method', value=['Logistic_Regression',\n",
    "                                             'DecisionTreeClassifier',\n",
    "                                             'KNeighborsClassifier',\n",
    "                                             'XGBClassifier'\n",
    "                                             ])\n",
    "wyniki_test"
   ]
  },
  {
   "cell_type": "markdown",
   "metadata": {},
   "source": [
    "W przypadku testów na zbiorach walidacyjnych znów recall jest niższe tylko dla XGB. \n",
    "Celem zadania było \"to identify the segment of customers having higher disbursal rate in next 30 days.\"\n",
    "\n",
    "Wydaje się więc że powinniśmy zdecydować się na wybór drzewa. Patrząc jednak na uzyskane wyniki, w szczególności wartość F1, FP, TP zdecydowałbym się na regresję.\n",
    "W przypadku drzewa zachodzi podejrzenie przeuczenia - mamy największą ilość FP (2x więcej niż XGB i 1,7x więcej niż regresja - świetnie widać to patrząc na wartości F1)\n",
    "\n",
    "W treści zadania jest mowa o reklamach dla potencjalnych klientów (i potem konwersji) - uwzgledniając ten fakt zdecydowałbym się, mimo wszystko, na **XGB**.\n",
    "Wziąłbym tu pod uwagę kwestie wizerunkowe (prócz czystych danych) - lepiej wyświetlić niechcianą reklamę 4,4k klientów (FP XGB) niż 5,4k (regresja)"
   ]
  },
  {
   "cell_type": "code",
   "execution_count": null,
   "metadata": {},
   "outputs": [],
   "source": []
  }
 ],
 "metadata": {
  "kernelspec": {
   "display_name": "Python 3",
   "language": "python",
   "name": "python3"
  },
  "language_info": {
   "codemirror_mode": {
    "name": "ipython",
    "version": 3
   },
   "file_extension": ".py",
   "mimetype": "text/x-python",
   "name": "python",
   "nbconvert_exporter": "python",
   "pygments_lexer": "ipython3",
   "version": "3.7.4"
  }
 },
 "nbformat": 4,
 "nbformat_minor": 4
}
