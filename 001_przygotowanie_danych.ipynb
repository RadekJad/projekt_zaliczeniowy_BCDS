{
 "cells": [
  {
   "cell_type": "markdown",
   "metadata": {},
   "source": [
    "Radosław Jadach - projekt zaliczeniowy Bootcamp Data Science - cześć 1, przygotowanie danych"
   ]
  },
  {
   "cell_type": "markdown",
   "metadata": {},
   "source": [
    "**Przewidywanie wzięcia pożyczki.** \n",
    "\n",
    "Celem projektu jest zastosowanie modeli klasyfikacji (binarnej) do\n",
    "przewidzenia czy pożyczka zostanie udzielona danemu klientowi z danymi parametrami wniosku.\n",
    "Link do danych:\n",
    "https://raw.githubusercontent.com/saimadhu-polamuri/DataHakthon3X/master/dataSet/Train.csv"
   ]
  },
  {
   "cell_type": "markdown",
   "metadata": {},
   "source": [
    "### Import bibliotek"
   ]
  },
  {
   "cell_type": "code",
   "execution_count": 1,
   "metadata": {},
   "outputs": [],
   "source": [
    "import pandas as pd\n",
    "import numpy as np\n",
    "import matplotlib.pyplot as plt\n",
    "import seaborn as sns"
   ]
  },
  {
   "cell_type": "markdown",
   "metadata": {},
   "source": [
    "#### Import danych"
   ]
  },
  {
   "cell_type": "code",
   "execution_count": 2,
   "metadata": {},
   "outputs": [],
   "source": [
    "# data = pd.read_csv('Dane/HappyCustomerBank/Train_nyOWmfK.csv', encoding=\"latin1\")\n",
    "\n",
    "pd.set_option('display.max_colwidth', None)\n",
    "pd.set_option('display.max_columns', None)\n",
    "\n",
    "url = 'https://raw.githubusercontent.com/saimadhu-polamuri/DataHakthon3X/master/dataSet/Train.csv'\n",
    "data = pd.read_csv(url,\n",
    "                delimiter = ',',\n",
    "                encoding = \"latin1\")"
   ]
  },
  {
   "cell_type": "code",
   "execution_count": 3,
   "metadata": {},
   "outputs": [
    {
     "name": "stdout",
     "output_type": "stream",
     "text": [
      "<class 'pandas.core.frame.DataFrame'>\n",
      "RangeIndex: 87020 entries, 0 to 87019\n",
      "Data columns (total 26 columns):\n",
      " #   Column                 Non-Null Count  Dtype  \n",
      "---  ------                 --------------  -----  \n",
      " 0   ID                     87020 non-null  object \n",
      " 1   Gender                 87020 non-null  object \n",
      " 2   City                   86017 non-null  object \n",
      " 3   Monthly_Income         87020 non-null  int64  \n",
      " 4   DOB                    87020 non-null  object \n",
      " 5   Lead_Creation_Date     87020 non-null  object \n",
      " 6   Loan_Amount_Applied    86949 non-null  float64\n",
      " 7   Loan_Tenure_Applied    86949 non-null  float64\n",
      " 8   Existing_EMI           86949 non-null  float64\n",
      " 9   Employer_Name          86949 non-null  object \n",
      " 10  Salary_Account         75256 non-null  object \n",
      " 11  Mobile_Verified        87020 non-null  object \n",
      " 12  Var5                   87020 non-null  int64  \n",
      " 13  Var1                   87020 non-null  object \n",
      " 14  Loan_Amount_Submitted  52407 non-null  float64\n",
      " 15  Loan_Tenure_Submitted  52407 non-null  float64\n",
      " 16  Interest_Rate          27726 non-null  float64\n",
      " 17  Processing_Fee         27420 non-null  float64\n",
      " 18  EMI_Loan_Submitted     27726 non-null  float64\n",
      " 19  Filled_Form            87020 non-null  object \n",
      " 20  Device_Type            87020 non-null  object \n",
      " 21  Var2                   87020 non-null  object \n",
      " 22  Source                 87020 non-null  object \n",
      " 23  Var4                   87020 non-null  int64  \n",
      " 24  LoggedIn               87020 non-null  int64  \n",
      " 25  Disbursed              87020 non-null  int64  \n",
      "dtypes: float64(8), int64(5), object(13)\n",
      "memory usage: 17.3+ MB\n"
     ]
    }
   ],
   "source": [
    "data.info()"
   ]
  },
  {
   "cell_type": "code",
   "execution_count": 4,
   "metadata": {},
   "outputs": [
    {
     "data": {
      "text/html": [
       "<div>\n",
       "<style scoped>\n",
       "    .dataframe tbody tr th:only-of-type {\n",
       "        vertical-align: middle;\n",
       "    }\n",
       "\n",
       "    .dataframe tbody tr th {\n",
       "        vertical-align: top;\n",
       "    }\n",
       "\n",
       "    .dataframe thead th {\n",
       "        text-align: right;\n",
       "    }\n",
       "</style>\n",
       "<table border=\"1\" class=\"dataframe\">\n",
       "  <thead>\n",
       "    <tr style=\"text-align: right;\">\n",
       "      <th></th>\n",
       "      <th>ID</th>\n",
       "      <th>Gender</th>\n",
       "      <th>City</th>\n",
       "      <th>Monthly_Income</th>\n",
       "      <th>DOB</th>\n",
       "      <th>Lead_Creation_Date</th>\n",
       "      <th>Loan_Amount_Applied</th>\n",
       "      <th>Loan_Tenure_Applied</th>\n",
       "      <th>Existing_EMI</th>\n",
       "      <th>Employer_Name</th>\n",
       "      <th>Salary_Account</th>\n",
       "      <th>Mobile_Verified</th>\n",
       "      <th>Var5</th>\n",
       "      <th>Var1</th>\n",
       "      <th>Loan_Amount_Submitted</th>\n",
       "      <th>Loan_Tenure_Submitted</th>\n",
       "      <th>Interest_Rate</th>\n",
       "      <th>Processing_Fee</th>\n",
       "      <th>EMI_Loan_Submitted</th>\n",
       "      <th>Filled_Form</th>\n",
       "      <th>Device_Type</th>\n",
       "      <th>Var2</th>\n",
       "      <th>Source</th>\n",
       "      <th>Var4</th>\n",
       "      <th>LoggedIn</th>\n",
       "      <th>Disbursed</th>\n",
       "    </tr>\n",
       "  </thead>\n",
       "  <tbody>\n",
       "    <tr>\n",
       "      <th>0</th>\n",
       "      <td>ID000002C20</td>\n",
       "      <td>Female</td>\n",
       "      <td>Delhi</td>\n",
       "      <td>20000</td>\n",
       "      <td>23-May-78</td>\n",
       "      <td>15-May-15</td>\n",
       "      <td>300000.0</td>\n",
       "      <td>5.0</td>\n",
       "      <td>0.0</td>\n",
       "      <td>CYBOSOL</td>\n",
       "      <td>HDFC Bank</td>\n",
       "      <td>N</td>\n",
       "      <td>0</td>\n",
       "      <td>HBXX</td>\n",
       "      <td>NaN</td>\n",
       "      <td>NaN</td>\n",
       "      <td>NaN</td>\n",
       "      <td>NaN</td>\n",
       "      <td>NaN</td>\n",
       "      <td>N</td>\n",
       "      <td>Web-browser</td>\n",
       "      <td>G</td>\n",
       "      <td>S122</td>\n",
       "      <td>1</td>\n",
       "      <td>0</td>\n",
       "      <td>0</td>\n",
       "    </tr>\n",
       "    <tr>\n",
       "      <th>1</th>\n",
       "      <td>ID000004E40</td>\n",
       "      <td>Male</td>\n",
       "      <td>Mumbai</td>\n",
       "      <td>35000</td>\n",
       "      <td>07-Oct-85</td>\n",
       "      <td>04-May-15</td>\n",
       "      <td>200000.0</td>\n",
       "      <td>2.0</td>\n",
       "      <td>0.0</td>\n",
       "      <td>TATA CONSULTANCY SERVICES LTD (TCS)</td>\n",
       "      <td>ICICI Bank</td>\n",
       "      <td>Y</td>\n",
       "      <td>13</td>\n",
       "      <td>HBXA</td>\n",
       "      <td>200000.0</td>\n",
       "      <td>2.0</td>\n",
       "      <td>13.25</td>\n",
       "      <td>NaN</td>\n",
       "      <td>6762.9</td>\n",
       "      <td>N</td>\n",
       "      <td>Web-browser</td>\n",
       "      <td>G</td>\n",
       "      <td>S122</td>\n",
       "      <td>3</td>\n",
       "      <td>0</td>\n",
       "      <td>0</td>\n",
       "    </tr>\n",
       "    <tr>\n",
       "      <th>2</th>\n",
       "      <td>ID000007H20</td>\n",
       "      <td>Male</td>\n",
       "      <td>Panchkula</td>\n",
       "      <td>22500</td>\n",
       "      <td>10-Oct-81</td>\n",
       "      <td>19-May-15</td>\n",
       "      <td>600000.0</td>\n",
       "      <td>4.0</td>\n",
       "      <td>0.0</td>\n",
       "      <td>ALCHEMIST HOSPITALS LTD</td>\n",
       "      <td>State Bank of India</td>\n",
       "      <td>Y</td>\n",
       "      <td>0</td>\n",
       "      <td>HBXX</td>\n",
       "      <td>450000.0</td>\n",
       "      <td>4.0</td>\n",
       "      <td>NaN</td>\n",
       "      <td>NaN</td>\n",
       "      <td>NaN</td>\n",
       "      <td>N</td>\n",
       "      <td>Web-browser</td>\n",
       "      <td>B</td>\n",
       "      <td>S143</td>\n",
       "      <td>1</td>\n",
       "      <td>0</td>\n",
       "      <td>0</td>\n",
       "    </tr>\n",
       "    <tr>\n",
       "      <th>3</th>\n",
       "      <td>ID000008I30</td>\n",
       "      <td>Male</td>\n",
       "      <td>Saharsa</td>\n",
       "      <td>35000</td>\n",
       "      <td>30-Nov-87</td>\n",
       "      <td>09-May-15</td>\n",
       "      <td>1000000.0</td>\n",
       "      <td>5.0</td>\n",
       "      <td>0.0</td>\n",
       "      <td>BIHAR GOVERNMENT</td>\n",
       "      <td>State Bank of India</td>\n",
       "      <td>Y</td>\n",
       "      <td>10</td>\n",
       "      <td>HBXX</td>\n",
       "      <td>920000.0</td>\n",
       "      <td>5.0</td>\n",
       "      <td>NaN</td>\n",
       "      <td>NaN</td>\n",
       "      <td>NaN</td>\n",
       "      <td>N</td>\n",
       "      <td>Web-browser</td>\n",
       "      <td>B</td>\n",
       "      <td>S143</td>\n",
       "      <td>3</td>\n",
       "      <td>0</td>\n",
       "      <td>0</td>\n",
       "    </tr>\n",
       "    <tr>\n",
       "      <th>4</th>\n",
       "      <td>ID000009J40</td>\n",
       "      <td>Male</td>\n",
       "      <td>Bengaluru</td>\n",
       "      <td>100000</td>\n",
       "      <td>17-Feb-84</td>\n",
       "      <td>20-May-15</td>\n",
       "      <td>500000.0</td>\n",
       "      <td>2.0</td>\n",
       "      <td>25000.0</td>\n",
       "      <td>GLOBAL EDGE SOFTWARE</td>\n",
       "      <td>HDFC Bank</td>\n",
       "      <td>Y</td>\n",
       "      <td>17</td>\n",
       "      <td>HBXX</td>\n",
       "      <td>500000.0</td>\n",
       "      <td>2.0</td>\n",
       "      <td>NaN</td>\n",
       "      <td>NaN</td>\n",
       "      <td>NaN</td>\n",
       "      <td>N</td>\n",
       "      <td>Web-browser</td>\n",
       "      <td>B</td>\n",
       "      <td>S134</td>\n",
       "      <td>3</td>\n",
       "      <td>1</td>\n",
       "      <td>0</td>\n",
       "    </tr>\n",
       "  </tbody>\n",
       "</table>\n",
       "</div>"
      ],
      "text/plain": [
       "            ID  Gender       City  Monthly_Income        DOB  \\\n",
       "0  ID000002C20  Female      Delhi           20000  23-May-78   \n",
       "1  ID000004E40    Male     Mumbai           35000  07-Oct-85   \n",
       "2  ID000007H20    Male  Panchkula           22500  10-Oct-81   \n",
       "3  ID000008I30    Male    Saharsa           35000  30-Nov-87   \n",
       "4  ID000009J40    Male  Bengaluru          100000  17-Feb-84   \n",
       "\n",
       "  Lead_Creation_Date  Loan_Amount_Applied  Loan_Tenure_Applied  Existing_EMI  \\\n",
       "0          15-May-15             300000.0                  5.0           0.0   \n",
       "1          04-May-15             200000.0                  2.0           0.0   \n",
       "2          19-May-15             600000.0                  4.0           0.0   \n",
       "3          09-May-15            1000000.0                  5.0           0.0   \n",
       "4          20-May-15             500000.0                  2.0       25000.0   \n",
       "\n",
       "                         Employer_Name       Salary_Account Mobile_Verified  \\\n",
       "0                              CYBOSOL            HDFC Bank               N   \n",
       "1  TATA CONSULTANCY SERVICES LTD (TCS)           ICICI Bank               Y   \n",
       "2              ALCHEMIST HOSPITALS LTD  State Bank of India               Y   \n",
       "3                     BIHAR GOVERNMENT  State Bank of India               Y   \n",
       "4                 GLOBAL EDGE SOFTWARE            HDFC Bank               Y   \n",
       "\n",
       "   Var5  Var1  Loan_Amount_Submitted  Loan_Tenure_Submitted  Interest_Rate  \\\n",
       "0     0  HBXX                    NaN                    NaN            NaN   \n",
       "1    13  HBXA               200000.0                    2.0          13.25   \n",
       "2     0  HBXX               450000.0                    4.0            NaN   \n",
       "3    10  HBXX               920000.0                    5.0            NaN   \n",
       "4    17  HBXX               500000.0                    2.0            NaN   \n",
       "\n",
       "   Processing_Fee  EMI_Loan_Submitted Filled_Form  Device_Type Var2 Source  \\\n",
       "0             NaN                 NaN           N  Web-browser    G   S122   \n",
       "1             NaN              6762.9           N  Web-browser    G   S122   \n",
       "2             NaN                 NaN           N  Web-browser    B   S143   \n",
       "3             NaN                 NaN           N  Web-browser    B   S143   \n",
       "4             NaN                 NaN           N  Web-browser    B   S134   \n",
       "\n",
       "   Var4  LoggedIn  Disbursed  \n",
       "0     1         0          0  \n",
       "1     3         0          0  \n",
       "2     1         0          0  \n",
       "3     3         0          0  \n",
       "4     3         1          0  "
      ]
     },
     "execution_count": 4,
     "metadata": {},
     "output_type": "execute_result"
    }
   ],
   "source": [
    "data.head(5)"
   ]
  },
  {
   "cell_type": "code",
   "execution_count": 5,
   "metadata": {},
   "outputs": [],
   "source": [
    "# usuwamy kolumnę LoggedIn - zgodnie z poleceniem       \n",
    "data.drop('LoggedIn', axis=1, inplace=True)"
   ]
  },
  {
   "cell_type": "markdown",
   "metadata": {},
   "source": [
    "Przechodzimy przez kolejne zmienne, stosując ewentualne przekształcenia/modyfikacje.\n",
    "\n",
    "Tworzymy kontener na zmienne kategoryczne"
   ]
  },
  {
   "cell_type": "code",
   "execution_count": 6,
   "metadata": {},
   "outputs": [],
   "source": [
    "zmienne_kategoryczne = []"
   ]
  },
  {
   "cell_type": "markdown",
   "metadata": {},
   "source": [
    "## **ID**"
   ]
  },
  {
   "cell_type": "code",
   "execution_count": 7,
   "metadata": {},
   "outputs": [],
   "source": [
    "#zmienna do usunięcia, numer identyfikacyjny, bez wpływu na dane\n",
    "data.drop('ID', axis=1, inplace=True)"
   ]
  },
  {
   "cell_type": "markdown",
   "metadata": {},
   "source": [
    "# **Gender**"
   ]
  },
  {
   "cell_type": "code",
   "execution_count": 8,
   "metadata": {},
   "outputs": [
    {
     "data": {
      "text/plain": [
       "0"
      ]
     },
     "execution_count": 8,
     "metadata": {},
     "output_type": "execute_result"
    }
   ],
   "source": [
    "data['Gender'].isna().sum()"
   ]
  },
  {
   "cell_type": "code",
   "execution_count": 9,
   "metadata": {},
   "outputs": [
    {
     "data": {
      "text/plain": [
       "Male      49848\n",
       "Female    37172\n",
       "Name: Gender, dtype: int64"
      ]
     },
     "execution_count": 9,
     "metadata": {},
     "output_type": "execute_result"
    }
   ],
   "source": [
    "data['Gender'].value_counts()"
   ]
  },
  {
   "cell_type": "code",
   "execution_count": 10,
   "metadata": {},
   "outputs": [
    {
     "data": {
      "image/png": "[encoded data removed]",
      "text/plain": [
       "<Figure size 432x288 with 1 Axes>"
      ]
     },
     "metadata": {
      "needs_background": "light"
     },
     "output_type": "display_data"
    }
   ],
   "source": [
    "sns.countplot(x='Disbursed', hue='Gender', data=data)\n",
    "plt.yscale('log')"
   ]
  },
  {
   "cell_type": "code",
   "execution_count": 11,
   "metadata": {},
   "outputs": [],
   "source": [
    "# Braków nie ma, zmieniamy na female=1, male=0\n",
    "data['Gender'].replace({'Female':1, 'Male':0}, inplace=True)"
   ]
  },
  {
   "cell_type": "markdown",
   "metadata": {},
   "source": [
    "# City"
   ]
  },
  {
   "cell_type": "code",
   "execution_count": 12,
   "metadata": {},
   "outputs": [
    {
     "data": {
      "text/plain": [
       "1003"
      ]
     },
     "execution_count": 12,
     "metadata": {},
     "output_type": "execute_result"
    }
   ],
   "source": [
    "data['City'].isna().sum()"
   ]
  },
  {
   "cell_type": "code",
   "execution_count": 13,
   "metadata": {},
   "outputs": [],
   "source": [
    "# Braki opisujemy jako \"Brak danych\"\n",
    "data['City'].fillna('Brak danych', inplace=True)"
   ]
  },
  {
   "cell_type": "code",
   "execution_count": 14,
   "metadata": {},
   "outputs": [
    {
     "data": {
      "text/plain": [
       "698"
      ]
     },
     "execution_count": 14,
     "metadata": {},
     "output_type": "execute_result"
    }
   ],
   "source": [
    "# Sprawdzamy ile jest unikalnych miast\n",
    "data['City'].nunique()"
   ]
  },
  {
   "cell_type": "code",
   "execution_count": 15,
   "metadata": {
    "scrolled": true
   },
   "outputs": [
    {
     "name": "stdout",
     "output_type": "stream",
     "text": [
      "0 największych miast stanowi 0 co stanowi 0.0%\n",
      "5 największych miast stanowi 48334 co stanowi 55.54%\n",
      "10 największych miast stanowi 60760 co stanowi 69.82%\n",
      "15 największych miast stanowi 65487 co stanowi 75.26%\n",
      "20 największych miast stanowi 68783 co stanowi 79.04%\n",
      "25 największych miast stanowi 71256 co stanowi 81.88%\n",
      "30 największych miast stanowi 72945 co stanowi 83.83%\n",
      "35 największych miast stanowi 74212 co stanowi 85.28%\n",
      "40 największych miast stanowi 75188 co stanowi 86.4%\n",
      "45 największych miast stanowi 75971 co stanowi 87.3%\n"
     ]
    }
   ],
   "source": [
    "# sprawdzamy ile jest rekordów w pierwszych 5/10/15... miastach - szukamy progu odcięcia\n",
    "for i in range(0,50,5):\n",
    "    print(f\"{i} największych miast stanowi {sum(data['City'].value_counts().iloc[:i])} co stanowi {100 * sum(data['City'].value_counts().iloc[:i]) / sum(data['Gender'].value_counts()):0.4}%\")\n"
   ]
  },
  {
   "cell_type": "code",
   "execution_count": 16,
   "metadata": {},
   "outputs": [
    {
     "data": {
      "text/plain": [
       "Delhi          12527\n",
       "Bengaluru      10824\n",
       "Mumbai         10795\n",
       "Hyderabad       7272\n",
       "Chennai         6916\n",
       "Pune            5207\n",
       "Kolkata         2888\n",
       "Ahmedabad       1788\n",
       "Jaipur          1331\n",
       "Gurgaon         1212\n",
       "Coimbatore      1147\n",
       "Brak danych     1003\n",
       "Thane            905\n",
       "Chandigarh       870\n",
       "Surat            802\n",
       "Name: City, dtype: int64"
      ]
     },
     "execution_count": 16,
     "metadata": {},
     "output_type": "execute_result"
    }
   ],
   "source": [
    "# Sprawdzamy 15 największych - 75% całości\n",
    "data['City'].value_counts().iloc[:15]"
   ]
  },
  {
   "cell_type": "code",
   "execution_count": 17,
   "metadata": {},
   "outputs": [
    {
     "data": {
      "text/plain": [
       "['Delhi',\n",
       " 'Bengaluru',\n",
       " 'Mumbai',\n",
       " 'Hyderabad',\n",
       " 'Chennai',\n",
       " 'Pune',\n",
       " 'Kolkata',\n",
       " 'Ahmedabad',\n",
       " 'Jaipur',\n",
       " 'Gurgaon',\n",
       " 'Coimbatore']"
      ]
     },
     "execution_count": 17,
     "metadata": {},
     "output_type": "execute_result"
    }
   ],
   "source": [
    "# Wsród 15 największych jest nasza pozycja - \"Brak danych\". Mapujemy więc miasta do \"Brak danych\" według liczności (czyli 11)\n",
    "top_11_cities = data['City'].value_counts().index[:11].tolist()\n",
    "top_11_cities"
   ]
  },
  {
   "cell_type": "code",
   "execution_count": 18,
   "metadata": {},
   "outputs": [],
   "source": [
    "def przypisz_miasto(city):\n",
    "    if city in top_11_cities:\n",
    "        return city\n",
    "    else:\n",
    "        return 'Pozostałe'\n",
    "\n",
    "data['City'] = data['City'].apply(przypisz_miasto)"
   ]
  },
  {
   "cell_type": "code",
   "execution_count": 19,
   "metadata": {
    "scrolled": true
   },
   "outputs": [
    {
     "data": {
      "text/plain": [
       "Pozostałe     25113\n",
       "Delhi         12527\n",
       "Bengaluru     10824\n",
       "Mumbai        10795\n",
       "Hyderabad      7272\n",
       "Chennai        6916\n",
       "Pune           5207\n",
       "Kolkata        2888\n",
       "Ahmedabad      1788\n",
       "Jaipur         1331\n",
       "Gurgaon        1212\n",
       "Coimbatore     1147\n",
       "Name: City, dtype: int64"
      ]
     },
     "execution_count": 19,
     "metadata": {},
     "output_type": "execute_result"
    }
   ],
   "source": [
    "# Flagujemy według liczności, \"Pozostałe\" jako 0, reszta rosnąco (czyli Delhi = 11)\n",
    "data['City'].value_counts().iloc[:12]"
   ]
  },
  {
   "cell_type": "code",
   "execution_count": 20,
   "metadata": {},
   "outputs": [],
   "source": [
    "data['City'].replace({'Pozostałe':0, 'Coimbatore':1, 'Gurgaon':2,\n",
    "                        'Jaipur':3, 'Ahmedabad':4, 'Kolkata':5,\n",
    "                        'Pune':6, 'Chennai':7, 'Hyderabad':8,\n",
    "                        'Mumbai':9, 'Bengaluru':10, 'Delhi':11},\n",
    "                       inplace=True)"
   ]
  },
  {
   "cell_type": "code",
   "execution_count": null,
   "metadata": {},
   "outputs": [],
   "source": []
  },
  {
   "cell_type": "markdown",
   "metadata": {},
   "source": [
    "# Monthly_Income"
   ]
  },
  {
   "cell_type": "code",
   "execution_count": 22,
   "metadata": {
    "scrolled": true
   },
   "outputs": [
    {
     "data": {
      "text/plain": [
       "0"
      ]
     },
     "execution_count": 22,
     "metadata": {},
     "output_type": "execute_result"
    }
   ],
   "source": [
    "data['Monthly_Income'].isna().sum()"
   ]
  },
  {
   "cell_type": "code",
   "execution_count": 23,
   "metadata": {
    "scrolled": false
   },
   "outputs": [
    {
     "data": {
      "text/plain": [
       "count    8.702000e+04\n",
       "mean     5.884997e+04\n",
       "std      2.177511e+06\n",
       "min      0.000000e+00\n",
       "25%      1.650000e+04\n",
       "50%      2.500000e+04\n",
       "75%      4.000000e+04\n",
       "80%      4.500000e+04\n",
       "90%      6.200000e+04\n",
       "95%      9.500000e+04\n",
       "96%      1.000000e+05\n",
       "97%      1.200000e+05\n",
       "98%      1.600000e+05\n",
       "99%      2.500000e+05\n",
       "max      4.445544e+08\n",
       "Name: Monthly_Income, dtype: float64"
      ]
     },
     "execution_count": 23,
     "metadata": {},
     "output_type": "execute_result"
    }
   ],
   "source": [
    "data['Monthly_Income'].describe(percentiles=[0.25, 0.5, 0.75, 0.8, 0.9, 0.95, 0.96, 0.97, 0.98, 0.99])"
   ]
  },
  {
   "cell_type": "code",
   "execution_count": 24,
   "metadata": {
    "scrolled": false
   },
   "outputs": [
    {
     "data": {
      "image/png": "[encoded data removed]",
      "text/plain": [
       "<Figure size 432x288 with 1 Axes>"
      ]
     },
     "metadata": {},
     "output_type": "display_data"
    }
   ],
   "source": [
    "sns.set_style(\"whitegrid\")\n",
    "ax = sns.boxplot(data = data['Monthly_Income'], orient = 'v')\n",
    "# ax.set(yscale=\"log\")"
   ]
  },
  {
   "cell_type": "markdown",
   "metadata": {},
   "source": [
    "Przyglądając się wartością percentyli i wykresowi widać, że wartości powyżej 98 centyla można uznać za odstające.\n",
    "Jako takie nadpisujemy je wartością mediany"
   ]
  },
  {
   "cell_type": "code",
   "execution_count": 25,
   "metadata": {},
   "outputs": [],
   "source": [
    "mediana = np.median(data['Monthly_Income'])\n",
    "mediana\n",
    "\n",
    "centyl_98 = np.percentile(a = data['Monthly_Income'], q = 98)\n",
    "centyl_98\n",
    "\n",
    "data.loc[data['Monthly_Income'] > centyl_98 , 'Monthly_Income'] = mediana"
   ]
  },
  {
   "cell_type": "code",
   "execution_count": 26,
   "metadata": {
    "scrolled": true
   },
   "outputs": [
    {
     "data": {
      "text/plain": [
       "count     87020.000000\n",
       "mean      30878.123719\n",
       "std       22695.152159\n",
       "min           0.000000\n",
       "25%       16500.000000\n",
       "50%       25000.000000\n",
       "75%       37525.000000\n",
       "max      160000.000000\n",
       "Name: Monthly_Income, dtype: float64"
      ]
     },
     "execution_count": 26,
     "metadata": {},
     "output_type": "execute_result"
    }
   ],
   "source": [
    "data['Monthly_Income'].describe()"
   ]
  },
  {
   "cell_type": "code",
   "execution_count": 27,
   "metadata": {},
   "outputs": [
    {
     "data": {
      "text/plain": [
       "<AxesSubplot:>"
      ]
     },
     "execution_count": 27,
     "metadata": {},
     "output_type": "execute_result"
    },
    {
     "data": {
      "image/png": "[encoded data removed]",
      "text/plain": [
       "<Figure size 432x288 with 1 Axes>"
      ]
     },
     "metadata": {},
     "output_type": "display_data"
    }
   ],
   "source": [
    "data['Monthly_Income'].hist(bins=100)"
   ]
  },
  {
   "cell_type": "code",
   "execution_count": 28,
   "metadata": {},
   "outputs": [
    {
     "data": {
      "text/plain": [
       "2.222776453054362"
      ]
     },
     "execution_count": 28,
     "metadata": {},
     "output_type": "execute_result"
    }
   ],
   "source": [
    "data['Monthly_Income'].skew()"
   ]
  },
  {
   "cell_type": "code",
   "execution_count": 29,
   "metadata": {},
   "outputs": [],
   "source": [
    "# Mamy dość wysoką skośność - robimy pierwiastek 3 stopnia\n",
    "data['Monthly_Income'] = np.cbrt(data['Monthly_Income'])"
   ]
  },
  {
   "cell_type": "code",
   "execution_count": 30,
   "metadata": {
    "scrolled": true
   },
   "outputs": [
    {
     "data": {
      "text/plain": [
       "<AxesSubplot:>"
      ]
     },
     "execution_count": 30,
     "metadata": {},
     "output_type": "execute_result"
    },
    {
     "data": {
      "image/png": "[encoded data removed]",
      "text/plain": [
       "<Figure size 432x288 with 1 Axes>"
      ]
     },
     "metadata": {},
     "output_type": "display_data"
    }
   ],
   "source": [
    "data['Monthly_Income'].hist(bins=100)"
   ]
  },
  {
   "cell_type": "code",
   "execution_count": 31,
   "metadata": {},
   "outputs": [
    {
     "data": {
      "text/plain": [
       "0.36799105366125945"
      ]
     },
     "execution_count": 31,
     "metadata": {},
     "output_type": "execute_result"
    }
   ],
   "source": [
    "data['Monthly_Income'].skew()"
   ]
  },
  {
   "cell_type": "markdown",
   "metadata": {},
   "source": [
    "**DOB & Lead_Creation_Date = nowa zmienna Age**"
   ]
  },
  {
   "cell_type": "code",
   "execution_count": 32,
   "metadata": {},
   "outputs": [
    {
     "data": {
      "text/plain": [
       "0"
      ]
     },
     "execution_count": 32,
     "metadata": {},
     "output_type": "execute_result"
    }
   ],
   "source": [
    "data['DOB'].isna().sum()"
   ]
  },
  {
   "cell_type": "code",
   "execution_count": 33,
   "metadata": {},
   "outputs": [],
   "source": [
    "# z daty urodzenia wyciągamy rok urodzenia. Łącząc z datą Leadu otrzymamy wiek\n",
    "data['YOB'] = data['DOB'].apply(lambda date: int(date[-2:]))"
   ]
  },
  {
   "cell_type": "code",
   "execution_count": 34,
   "metadata": {},
   "outputs": [
    {
     "data": {
      "text/plain": [
       "count    87020.000000\n",
       "mean        84.095829\n",
       "std          7.147194\n",
       "min         15.000000\n",
       "25%         81.000000\n",
       "50%         86.000000\n",
       "75%         89.000000\n",
       "max         97.000000\n",
       "Name: YOB, dtype: float64"
      ]
     },
     "execution_count": 34,
     "metadata": {},
     "output_type": "execute_result"
    }
   ],
   "source": [
    "data['YOB'].describe()"
   ]
  },
  {
   "cell_type": "code",
   "execution_count": 35,
   "metadata": {},
   "outputs": [],
   "source": [
    "data['YOB'] += 1900"
   ]
  },
  {
   "cell_type": "code",
   "execution_count": 36,
   "metadata": {},
   "outputs": [
    {
     "data": {
      "text/plain": [
       "0"
      ]
     },
     "execution_count": 36,
     "metadata": {},
     "output_type": "execute_result"
    }
   ],
   "source": [
    "data['Lead_Creation_Date'].isna().sum()"
   ]
  },
  {
   "cell_type": "code",
   "execution_count": 37,
   "metadata": {},
   "outputs": [],
   "source": [
    "# z daty leadu wyciągamy rok\n",
    "data['LY'] = data['Lead_Creation_Date'].apply(lambda date: int(date[-2:]))"
   ]
  },
  {
   "cell_type": "code",
   "execution_count": 38,
   "metadata": {},
   "outputs": [
    {
     "data": {
      "text/plain": [
       "count    87020.0\n",
       "mean        15.0\n",
       "std          0.0\n",
       "min         15.0\n",
       "25%         15.0\n",
       "50%         15.0\n",
       "75%         15.0\n",
       "max         15.0\n",
       "Name: LY, dtype: float64"
      ]
     },
     "execution_count": 38,
     "metadata": {},
     "output_type": "execute_result"
    }
   ],
   "source": [
    "data['LY'].describe()"
   ]
  },
  {
   "cell_type": "code",
   "execution_count": 39,
   "metadata": {},
   "outputs": [],
   "source": [
    "data['LY'] += 2000"
   ]
  },
  {
   "cell_type": "code",
   "execution_count": 40,
   "metadata": {
    "scrolled": false
   },
   "outputs": [
    {
     "data": {
      "text/plain": [
       "count    87020.000000\n",
       "mean        30.904171\n",
       "std          7.147194\n",
       "min         18.000000\n",
       "25%         26.000000\n",
       "50%         29.000000\n",
       "75%         34.000000\n",
       "80%         35.000000\n",
       "90%         40.000000\n",
       "95%         46.000000\n",
       "96%         47.000000\n",
       "97%         49.000000\n",
       "98%         52.000000\n",
       "99%         55.000000\n",
       "max        100.000000\n",
       "Name: Age, dtype: float64"
      ]
     },
     "execution_count": 40,
     "metadata": {},
     "output_type": "execute_result"
    }
   ],
   "source": [
    "data['Age'] = data['LY'] - data['YOB']\n",
    "data['Age'].describe(percentiles=[0.25, 0.5, 0.75, 0.8, 0.9, 0.95, 0.96, 0.97, 0.98, 0.99])"
   ]
  },
  {
   "cell_type": "code",
   "execution_count": 41,
   "metadata": {},
   "outputs": [
    {
     "data": {
      "image/png": "[encoded data removed]",
      "text/plain": [
       "<Figure size 432x288 with 1 Axes>"
      ]
     },
     "metadata": {},
     "output_type": "display_data"
    }
   ],
   "source": [
    "sns.set_style(\"whitegrid\")\n",
    "ax = sns.boxplot(data = data['Age'], orient = 'v')\n",
    "# ax.set(yscale=\"log\")"
   ]
  },
  {
   "cell_type": "markdown",
   "metadata": {},
   "source": [
    "Wiek przekraczający 80 można traktować jak odstający. Pytanie gdzie ustawić granicę?\n",
    "Za punkt odcięcia przyjmuję 65 lat - wiek emerytalny (zakładam, że w Indiach jest tak samo)\n",
    "Wartości odstające nadpisujemy medianą"
   ]
  },
  {
   "cell_type": "code",
   "execution_count": 42,
   "metadata": {},
   "outputs": [],
   "source": [
    "mediana = np.median(data['Age'])\n",
    "mediana\n",
    "\n",
    "data.loc[data['Age'] > 65 , 'Age'] = mediana"
   ]
  },
  {
   "cell_type": "code",
   "execution_count": 43,
   "metadata": {},
   "outputs": [
    {
     "data": {
      "text/plain": [
       "count    87020.000000\n",
       "mean        30.876189\n",
       "std          7.042601\n",
       "min         18.000000\n",
       "25%         26.000000\n",
       "50%         29.000000\n",
       "75%         34.000000\n",
       "max         65.000000\n",
       "Name: Age, dtype: float64"
      ]
     },
     "execution_count": 43,
     "metadata": {},
     "output_type": "execute_result"
    }
   ],
   "source": [
    "data['Age'].describe()"
   ]
  },
  {
   "cell_type": "code",
   "execution_count": 44,
   "metadata": {},
   "outputs": [
    {
     "data": {
      "text/plain": [
       "1.4353920104538036"
      ]
     },
     "execution_count": 44,
     "metadata": {},
     "output_type": "execute_result"
    }
   ],
   "source": [
    "data['Age'].skew()"
   ]
  },
  {
   "cell_type": "code",
   "execution_count": 45,
   "metadata": {},
   "outputs": [],
   "source": [
    "# I znów mamy skosność przekraczającą 1. Próbujemy log\n",
    "data['Age'] = np.log(data['Age'])"
   ]
  },
  {
   "cell_type": "code",
   "execution_count": 46,
   "metadata": {
    "scrolled": true
   },
   "outputs": [
    {
     "data": {
      "text/plain": [
       "0.7629285335469895"
      ]
     },
     "execution_count": 46,
     "metadata": {},
     "output_type": "execute_result"
    }
   ],
   "source": [
    "data['Age'].skew()"
   ]
  },
  {
   "cell_type": "code",
   "execution_count": 47,
   "metadata": {},
   "outputs": [],
   "source": [
    "# Usuwam zbędne kolumny, tj. DOB, Lead_Creation_Date, LY, \n",
    "data.drop('DOB', axis=1, inplace=True)\n",
    "data.drop('Lead_Creation_Date', axis=1, inplace=True)\n",
    "data.drop('LY', axis=1, inplace=True)\n",
    "data.drop('YOB', axis=1, inplace=True)"
   ]
  },
  {
   "cell_type": "markdown",
   "metadata": {},
   "source": [
    "# Loan_Amount_Applied & Loan_Amount_Submitted & Tenor & EMI Submitted"
   ]
  },
  {
   "cell_type": "code",
   "execution_count": 48,
   "metadata": {},
   "outputs": [],
   "source": [
    "# Zmienne powinny być ze sobą powiązane. Robię prosty przegląd"
   ]
  },
  {
   "cell_type": "code",
   "execution_count": 49,
   "metadata": {},
   "outputs": [
    {
     "data": {
      "text/plain": [
       "(71, 34613, 71, 34613, 59294)"
      ]
     },
     "execution_count": 49,
     "metadata": {},
     "output_type": "execute_result"
    }
   ],
   "source": [
    "data['Loan_Amount_Applied'].isna().sum(), data['Loan_Amount_Submitted'].isna().sum(),\\\n",
    "data['Loan_Tenure_Applied'].isna().sum(), data['Loan_Tenure_Submitted'].isna().sum(), \\\n",
    "data['EMI_Loan_Submitted'].isna().sum()"
   ]
  },
  {
   "cell_type": "code",
   "execution_count": 50,
   "metadata": {
    "scrolled": true
   },
   "outputs": [
    {
     "data": {
      "text/plain": [
       "(28853, 0, 33844, 0, 0)"
      ]
     },
     "execution_count": 50,
     "metadata": {},
     "output_type": "execute_result"
    }
   ],
   "source": [
    "data[data['Loan_Amount_Applied']==0]['Loan_Amount_Applied'].count(), \\\n",
    "data[data['Loan_Amount_Submitted']==0]['Loan_Amount_Submitted'].count(), \\\n",
    "data[data['Loan_Tenure_Applied']==0]['Loan_Tenure_Applied'].count(), \\\n",
    "data[data['Loan_Tenure_Submitted']==0]['Loan_Tenure_Submitted'].count(), \\\n",
    "data[data['EMI_Loan_Submitted']==0]['EMI_Loan_Submitted'].count()"
   ]
  },
  {
   "cell_type": "code",
   "execution_count": 51,
   "metadata": {},
   "outputs": [
    {
     "data": {
      "text/plain": [
       "(277, 0, 328, 0, 0)"
      ]
     },
     "execution_count": 51,
     "metadata": {},
     "output_type": "execute_result"
    }
   ],
   "source": [
    "data[data['Loan_Amount_Applied']==0]['Disbursed'].sum(), \\\n",
    "data[data['Loan_Amount_Submitted']==0]['Disbursed'].sum(), \\\n",
    "data[data['Loan_Tenure_Applied']==0]['Disbursed'].sum(), \\\n",
    "data[data['Loan_Tenure_Submitted']==0]['Disbursed'].sum(), \\\n",
    "data[data['EMI_Loan_Submitted']==0]['Disbursed'].sum()"
   ]
  },
  {
   "cell_type": "code",
   "execution_count": 52,
   "metadata": {},
   "outputs": [
    {
     "data": {
      "text/plain": [
       "(23, 0, 305)"
      ]
     },
     "execution_count": 52,
     "metadata": {},
     "output_type": "execute_result"
    }
   ],
   "source": [
    "data[(data['Loan_Tenure_Applied']==0) & (data['Loan_Amount_Submitted'].isna())]['Disbursed'].sum(), \\\n",
    "data[(data['Loan_Tenure_Applied']==0) & (data['Loan_Amount_Submitted']==0)]['Disbursed'].sum(), \\\n",
    "data[(data['Loan_Tenure_Applied']==0) & (data['Loan_Amount_Submitted']>0)]['Disbursed'].sum()"
   ]
  },
  {
   "cell_type": "code",
   "execution_count": 53,
   "metadata": {},
   "outputs": [
    {
     "data": {
      "text/plain": [
       "(11, 0, 266)"
      ]
     },
     "execution_count": 53,
     "metadata": {},
     "output_type": "execute_result"
    }
   ],
   "source": [
    "data[(data['Loan_Amount_Applied']==0) & (data['Loan_Amount_Submitted'].isna())]['Disbursed'].sum(), \\\n",
    "data[(data['Loan_Amount_Applied']==0) & (data['Loan_Amount_Submitted']==0)]['Disbursed'].sum(), \\\n",
    "data[(data['Loan_Amount_Applied']==0) & (data['Loan_Amount_Submitted']>0)]['Disbursed'].sum()"
   ]
  },
  {
   "cell_type": "markdown",
   "metadata": {},
   "source": [
    "Xmienne dotyczące kwoty/okresu/raty wnioskowanej/udzielonej powinny być zależne.\n",
    "1. Obserwujemy bardzo dużo braków, szczególnie dla pozycji dotyczącej raty - tutaj potrzebne będzie obejście - nie będziemy patrzeć na kwoty tylko ustawimy 0/1 , gdzie 0 = brak raty/danych, 1 - jest rata z tym, że dla kwoty udzielonej>0 ta pozycja będzie miała wartość 1 (jest kredyt, musi być rata)\n",
    "\n",
    "1a. Najchętniej usunąłbym tą kolumnę z modelu ze względu na ilość braków\n",
    "2. Braki dla pozycji \"udzielonych\" można interpretować jako brak przyznanania, tym bardziej, że zmienna wynikowa zawsze ma tam wartość 0 i dodatkowo brak pozycji o wartości 0\n",
    "3. Wnioskowane wartości = 0 i przyznane pożyczki - w pierwszym odruchu wydaje się błędne (i faktycznie może tak być dla przypadków, gdy jednocześnie kwota udzielona jest brakiem)\n",
    "    Jednak w przypadku pozostałych jest to możliwe - ktoś nie wiem jaką ma zdolność, Bank wylicza i daje możliwość przyznania"
   ]
  },
  {
   "cell_type": "code",
   "execution_count": 54,
   "metadata": {},
   "outputs": [
    {
     "data": {
      "text/plain": [
       "453"
      ]
     },
     "execution_count": 54,
     "metadata": {},
     "output_type": "execute_result"
    }
   ],
   "source": [
    "data[(data['EMI_Loan_Submitted'].isna()) & (data['Loan_Amount_Submitted']>0)]['Disbursed'].sum()"
   ]
  },
  {
   "cell_type": "code",
   "execution_count": 55,
   "metadata": {},
   "outputs": [],
   "source": [
    "# zaczynamy od uzupełniania braków \"0\"\n",
    "data['Loan_Amount_Applied'].fillna(0, inplace=True)\n",
    "data['Loan_Amount_Submitted'].fillna(0, inplace=True)\n",
    "data['Loan_Tenure_Applied'].fillna(0, inplace=True)\n",
    "data['Loan_Tenure_Submitted'].fillna(0, inplace=True)\n",
    "data['EMI_Loan_Submitted'].fillna(0, inplace=True)"
   ]
  },
  {
   "cell_type": "code",
   "execution_count": 56,
   "metadata": {},
   "outputs": [
    {
     "data": {
      "text/html": [
       "<div>\n",
       "<style scoped>\n",
       "    .dataframe tbody tr th:only-of-type {\n",
       "        vertical-align: middle;\n",
       "    }\n",
       "\n",
       "    .dataframe tbody tr th {\n",
       "        vertical-align: top;\n",
       "    }\n",
       "\n",
       "    .dataframe thead th {\n",
       "        text-align: right;\n",
       "    }\n",
       "</style>\n",
       "<table border=\"1\" class=\"dataframe\">\n",
       "  <thead>\n",
       "    <tr style=\"text-align: right;\">\n",
       "      <th></th>\n",
       "      <th>Gender</th>\n",
       "      <th>City</th>\n",
       "      <th>Monthly_Income</th>\n",
       "      <th>Loan_Amount_Applied</th>\n",
       "      <th>Loan_Tenure_Applied</th>\n",
       "      <th>Existing_EMI</th>\n",
       "      <th>Employer_Name</th>\n",
       "      <th>Salary_Account</th>\n",
       "      <th>Mobile_Verified</th>\n",
       "      <th>Var5</th>\n",
       "      <th>Var1</th>\n",
       "      <th>Loan_Amount_Submitted</th>\n",
       "      <th>Loan_Tenure_Submitted</th>\n",
       "      <th>Interest_Rate</th>\n",
       "      <th>Processing_Fee</th>\n",
       "      <th>EMI_Loan_Submitted</th>\n",
       "      <th>Filled_Form</th>\n",
       "      <th>Device_Type</th>\n",
       "      <th>Var2</th>\n",
       "      <th>Source</th>\n",
       "      <th>Var4</th>\n",
       "      <th>Disbursed</th>\n",
       "      <th>Age</th>\n",
       "    </tr>\n",
       "  </thead>\n",
       "  <tbody>\n",
       "    <tr>\n",
       "      <th>45</th>\n",
       "      <td>0</td>\n",
       "      <td>0</td>\n",
       "      <td>31.072325</td>\n",
       "      <td>500000.0</td>\n",
       "      <td>5.0</td>\n",
       "      <td>0.0</td>\n",
       "      <td>BHUSHAN STEEL LTD</td>\n",
       "      <td>State Bank of India</td>\n",
       "      <td>Y</td>\n",
       "      <td>11</td>\n",
       "      <td>HAXA</td>\n",
       "      <td>600000.0</td>\n",
       "      <td>5.0</td>\n",
       "      <td>13.99</td>\n",
       "      <td>12000.0</td>\n",
       "      <td>13957.84</td>\n",
       "      <td>N</td>\n",
       "      <td>Web-browser</td>\n",
       "      <td>B</td>\n",
       "      <td>S133</td>\n",
       "      <td>4</td>\n",
       "      <td>0</td>\n",
       "      <td>3.401197</td>\n",
       "    </tr>\n",
       "    <tr>\n",
       "      <th>182</th>\n",
       "      <td>1</td>\n",
       "      <td>10</td>\n",
       "      <td>29.161995</td>\n",
       "      <td>100000.0</td>\n",
       "      <td>3.0</td>\n",
       "      <td>3000.0</td>\n",
       "      <td>DESIGN IMAGE EDU ZONE</td>\n",
       "      <td>ICICI Bank</td>\n",
       "      <td>Y</td>\n",
       "      <td>3</td>\n",
       "      <td>HBXC</td>\n",
       "      <td>170000.0</td>\n",
       "      <td>3.0</td>\n",
       "      <td>20.00</td>\n",
       "      <td>1700.0</td>\n",
       "      <td>6317.81</td>\n",
       "      <td>N</td>\n",
       "      <td>Web-browser</td>\n",
       "      <td>B</td>\n",
       "      <td>S133</td>\n",
       "      <td>4</td>\n",
       "      <td>0</td>\n",
       "      <td>3.713572</td>\n",
       "    </tr>\n",
       "    <tr>\n",
       "      <th>287</th>\n",
       "      <td>1</td>\n",
       "      <td>0</td>\n",
       "      <td>31.072325</td>\n",
       "      <td>200000.0</td>\n",
       "      <td>3.0</td>\n",
       "      <td>0.0</td>\n",
       "      <td>EAST COAST RAILWAY</td>\n",
       "      <td>State Bank of Hyderabad</td>\n",
       "      <td>Y</td>\n",
       "      <td>10</td>\n",
       "      <td>HAXA</td>\n",
       "      <td>400000.0</td>\n",
       "      <td>4.0</td>\n",
       "      <td>16.50</td>\n",
       "      <td>5000.0</td>\n",
       "      <td>11438.80</td>\n",
       "      <td>Y</td>\n",
       "      <td>Web-browser</td>\n",
       "      <td>E</td>\n",
       "      <td>S133</td>\n",
       "      <td>5</td>\n",
       "      <td>0</td>\n",
       "      <td>3.688879</td>\n",
       "    </tr>\n",
       "    <tr>\n",
       "      <th>349</th>\n",
       "      <td>0</td>\n",
       "      <td>9</td>\n",
       "      <td>31.072325</td>\n",
       "      <td>500000.0</td>\n",
       "      <td>5.0</td>\n",
       "      <td>0.0</td>\n",
       "      <td>CREATIVE PORTICO INDIA PVT LTD</td>\n",
       "      <td>ICICI Bank</td>\n",
       "      <td>Y</td>\n",
       "      <td>11</td>\n",
       "      <td>HAYT</td>\n",
       "      <td>520000.0</td>\n",
       "      <td>5.0</td>\n",
       "      <td>15.75</td>\n",
       "      <td>10400.0</td>\n",
       "      <td>12576.42</td>\n",
       "      <td>N</td>\n",
       "      <td>Web-browser</td>\n",
       "      <td>B</td>\n",
       "      <td>S159</td>\n",
       "      <td>4</td>\n",
       "      <td>0</td>\n",
       "      <td>3.663562</td>\n",
       "    </tr>\n",
       "    <tr>\n",
       "      <th>504</th>\n",
       "      <td>0</td>\n",
       "      <td>7</td>\n",
       "      <td>31.072325</td>\n",
       "      <td>300000.0</td>\n",
       "      <td>0.0</td>\n",
       "      <td>0.0</td>\n",
       "      <td>RAPID CARE TRANSCRIPTION PVT LTD</td>\n",
       "      <td>Axis Bank</td>\n",
       "      <td>Y</td>\n",
       "      <td>11</td>\n",
       "      <td>HAZD</td>\n",
       "      <td>420000.0</td>\n",
       "      <td>3.0</td>\n",
       "      <td>17.00</td>\n",
       "      <td>8400.0</td>\n",
       "      <td>14974.15</td>\n",
       "      <td>Y</td>\n",
       "      <td>Web-browser</td>\n",
       "      <td>B</td>\n",
       "      <td>S133</td>\n",
       "      <td>5</td>\n",
       "      <td>0</td>\n",
       "      <td>3.663562</td>\n",
       "    </tr>\n",
       "    <tr>\n",
       "      <th>...</th>\n",
       "      <td>...</td>\n",
       "      <td>...</td>\n",
       "      <td>...</td>\n",
       "      <td>...</td>\n",
       "      <td>...</td>\n",
       "      <td>...</td>\n",
       "      <td>...</td>\n",
       "      <td>...</td>\n",
       "      <td>...</td>\n",
       "      <td>...</td>\n",
       "      <td>...</td>\n",
       "      <td>...</td>\n",
       "      <td>...</td>\n",
       "      <td>...</td>\n",
       "      <td>...</td>\n",
       "      <td>...</td>\n",
       "      <td>...</td>\n",
       "      <td>...</td>\n",
       "      <td>...</td>\n",
       "      <td>...</td>\n",
       "      <td>...</td>\n",
       "      <td>...</td>\n",
       "      <td>...</td>\n",
       "    </tr>\n",
       "    <tr>\n",
       "      <th>86542</th>\n",
       "      <td>0</td>\n",
       "      <td>0</td>\n",
       "      <td>35.276718</td>\n",
       "      <td>500000.0</td>\n",
       "      <td>4.0</td>\n",
       "      <td>6382.0</td>\n",
       "      <td>MANIPAL TECHNOLOGIES LTD</td>\n",
       "      <td>ICICI Bank</td>\n",
       "      <td>Y</td>\n",
       "      <td>9</td>\n",
       "      <td>HBXC</td>\n",
       "      <td>570000.0</td>\n",
       "      <td>4.0</td>\n",
       "      <td>16.20</td>\n",
       "      <td>5700.0</td>\n",
       "      <td>16212.41</td>\n",
       "      <td>Y</td>\n",
       "      <td>Web-browser</td>\n",
       "      <td>G</td>\n",
       "      <td>S122</td>\n",
       "      <td>5</td>\n",
       "      <td>0</td>\n",
       "      <td>3.401197</td>\n",
       "    </tr>\n",
       "    <tr>\n",
       "      <th>86686</th>\n",
       "      <td>0</td>\n",
       "      <td>8</td>\n",
       "      <td>29.240177</td>\n",
       "      <td>100000.0</td>\n",
       "      <td>1.0</td>\n",
       "      <td>6086.0</td>\n",
       "      <td>CLARKE ENERGY INDIA PVT LTD</td>\n",
       "      <td>Axis Bank</td>\n",
       "      <td>Y</td>\n",
       "      <td>11</td>\n",
       "      <td>HAYT</td>\n",
       "      <td>130000.0</td>\n",
       "      <td>2.0</td>\n",
       "      <td>15.75</td>\n",
       "      <td>2600.0</td>\n",
       "      <td>6349.69</td>\n",
       "      <td>N</td>\n",
       "      <td>Web-browser</td>\n",
       "      <td>G</td>\n",
       "      <td>S122</td>\n",
       "      <td>3</td>\n",
       "      <td>0</td>\n",
       "      <td>3.555348</td>\n",
       "    </tr>\n",
       "    <tr>\n",
       "      <th>86773</th>\n",
       "      <td>0</td>\n",
       "      <td>9</td>\n",
       "      <td>34.842833</td>\n",
       "      <td>600000.0</td>\n",
       "      <td>5.0</td>\n",
       "      <td>0.0</td>\n",
       "      <td>GGOVERNMENT OF INDIA CUSTOMS DUTY</td>\n",
       "      <td>IDBI Bank</td>\n",
       "      <td>Y</td>\n",
       "      <td>0</td>\n",
       "      <td>HBXA</td>\n",
       "      <td>760000.0</td>\n",
       "      <td>4.0</td>\n",
       "      <td>13.99</td>\n",
       "      <td>3800.0</td>\n",
       "      <td>20764.31</td>\n",
       "      <td>N</td>\n",
       "      <td>Mobile</td>\n",
       "      <td>G</td>\n",
       "      <td>S122</td>\n",
       "      <td>1</td>\n",
       "      <td>0</td>\n",
       "      <td>3.295837</td>\n",
       "    </tr>\n",
       "    <tr>\n",
       "      <th>86807</th>\n",
       "      <td>0</td>\n",
       "      <td>10</td>\n",
       "      <td>35.568933</td>\n",
       "      <td>200000.0</td>\n",
       "      <td>5.0</td>\n",
       "      <td>0.0</td>\n",
       "      <td>APOLLO FIEGE INTEGRATED LOGISTICS PVT LTD</td>\n",
       "      <td>Yes Bank</td>\n",
       "      <td>Y</td>\n",
       "      <td>14</td>\n",
       "      <td>HAXC</td>\n",
       "      <td>250000.0</td>\n",
       "      <td>5.0</td>\n",
       "      <td>15.25</td>\n",
       "      <td>5000.0</td>\n",
       "      <td>5980.34</td>\n",
       "      <td>Y</td>\n",
       "      <td>Web-browser</td>\n",
       "      <td>G</td>\n",
       "      <td>S122</td>\n",
       "      <td>5</td>\n",
       "      <td>0</td>\n",
       "      <td>3.465736</td>\n",
       "    </tr>\n",
       "    <tr>\n",
       "      <th>86837</th>\n",
       "      <td>0</td>\n",
       "      <td>7</td>\n",
       "      <td>30.951015</td>\n",
       "      <td>650000.0</td>\n",
       "      <td>5.0</td>\n",
       "      <td>0.0</td>\n",
       "      <td>BA CONTINUUM INDIA PVT LTD</td>\n",
       "      <td>HDFC Bank</td>\n",
       "      <td>Y</td>\n",
       "      <td>12</td>\n",
       "      <td>HBXC</td>\n",
       "      <td>760000.0</td>\n",
       "      <td>5.0</td>\n",
       "      <td>13.00</td>\n",
       "      <td>6080.0</td>\n",
       "      <td>17292.34</td>\n",
       "      <td>Y</td>\n",
       "      <td>Web-browser</td>\n",
       "      <td>G</td>\n",
       "      <td>S122</td>\n",
       "      <td>5</td>\n",
       "      <td>0</td>\n",
       "      <td>3.218876</td>\n",
       "    </tr>\n",
       "  </tbody>\n",
       "</table>\n",
       "<p>903 rows × 23 columns</p>\n",
       "</div>"
      ],
      "text/plain": [
       "       Gender  City  Monthly_Income  Loan_Amount_Applied  Loan_Tenure_Applied  \\\n",
       "45          0     0       31.072325             500000.0                  5.0   \n",
       "182         1    10       29.161995             100000.0                  3.0   \n",
       "287         1     0       31.072325             200000.0                  3.0   \n",
       "349         0     9       31.072325             500000.0                  5.0   \n",
       "504         0     7       31.072325             300000.0                  0.0   \n",
       "...       ...   ...             ...                  ...                  ...   \n",
       "86542       0     0       35.276718             500000.0                  4.0   \n",
       "86686       0     8       29.240177             100000.0                  1.0   \n",
       "86773       0     9       34.842833             600000.0                  5.0   \n",
       "86807       0    10       35.568933             200000.0                  5.0   \n",
       "86837       0     7       30.951015             650000.0                  5.0   \n",
       "\n",
       "       Existing_EMI                              Employer_Name  \\\n",
       "45              0.0                          BHUSHAN STEEL LTD   \n",
       "182          3000.0                      DESIGN IMAGE EDU ZONE   \n",
       "287             0.0                         EAST COAST RAILWAY   \n",
       "349             0.0             CREATIVE PORTICO INDIA PVT LTD   \n",
       "504             0.0           RAPID CARE TRANSCRIPTION PVT LTD   \n",
       "...             ...                                        ...   \n",
       "86542        6382.0                   MANIPAL TECHNOLOGIES LTD   \n",
       "86686        6086.0                CLARKE ENERGY INDIA PVT LTD   \n",
       "86773           0.0          GGOVERNMENT OF INDIA CUSTOMS DUTY   \n",
       "86807           0.0  APOLLO FIEGE INTEGRATED LOGISTICS PVT LTD   \n",
       "86837           0.0                 BA CONTINUUM INDIA PVT LTD   \n",
       "\n",
       "                Salary_Account Mobile_Verified  Var5  Var1  \\\n",
       "45         State Bank of India               Y    11  HAXA   \n",
       "182                 ICICI Bank               Y     3  HBXC   \n",
       "287    State Bank of Hyderabad               Y    10  HAXA   \n",
       "349                 ICICI Bank               Y    11  HAYT   \n",
       "504                  Axis Bank               Y    11  HAZD   \n",
       "...                        ...             ...   ...   ...   \n",
       "86542               ICICI Bank               Y     9  HBXC   \n",
       "86686                Axis Bank               Y    11  HAYT   \n",
       "86773                IDBI Bank               Y     0  HBXA   \n",
       "86807                 Yes Bank               Y    14  HAXC   \n",
       "86837                HDFC Bank               Y    12  HBXC   \n",
       "\n",
       "       Loan_Amount_Submitted  Loan_Tenure_Submitted  Interest_Rate  \\\n",
       "45                  600000.0                    5.0          13.99   \n",
       "182                 170000.0                    3.0          20.00   \n",
       "287                 400000.0                    4.0          16.50   \n",
       "349                 520000.0                    5.0          15.75   \n",
       "504                 420000.0                    3.0          17.00   \n",
       "...                      ...                    ...            ...   \n",
       "86542               570000.0                    4.0          16.20   \n",
       "86686               130000.0                    2.0          15.75   \n",
       "86773               760000.0                    4.0          13.99   \n",
       "86807               250000.0                    5.0          15.25   \n",
       "86837               760000.0                    5.0          13.00   \n",
       "\n",
       "       Processing_Fee  EMI_Loan_Submitted Filled_Form  Device_Type Var2  \\\n",
       "45            12000.0            13957.84           N  Web-browser    B   \n",
       "182            1700.0             6317.81           N  Web-browser    B   \n",
       "287            5000.0            11438.80           Y  Web-browser    E   \n",
       "349           10400.0            12576.42           N  Web-browser    B   \n",
       "504            8400.0            14974.15           Y  Web-browser    B   \n",
       "...               ...                 ...         ...          ...  ...   \n",
       "86542          5700.0            16212.41           Y  Web-browser    G   \n",
       "86686          2600.0             6349.69           N  Web-browser    G   \n",
       "86773          3800.0            20764.31           N       Mobile    G   \n",
       "86807          5000.0             5980.34           Y  Web-browser    G   \n",
       "86837          6080.0            17292.34           Y  Web-browser    G   \n",
       "\n",
       "      Source  Var4  Disbursed       Age  \n",
       "45      S133     4          0  3.401197  \n",
       "182     S133     4          0  3.713572  \n",
       "287     S133     5          0  3.688879  \n",
       "349     S159     4          0  3.663562  \n",
       "504     S133     5          0  3.663562  \n",
       "...      ...   ...        ...       ...  \n",
       "86542   S122     5          0  3.401197  \n",
       "86686   S122     3          0  3.555348  \n",
       "86773   S122     1          0  3.295837  \n",
       "86807   S122     5          0  3.465736  \n",
       "86837   S122     5          0  3.218876  \n",
       "\n",
       "[903 rows x 23 columns]"
      ]
     },
     "execution_count": 56,
     "metadata": {},
     "output_type": "execute_result"
    }
   ],
   "source": [
    "data[(data['Loan_Amount_Applied']<data['Loan_Amount_Submitted']) & (data['Loan_Amount_Applied']!=0)]"
   ]
  },
  {
   "cell_type": "code",
   "execution_count": 57,
   "metadata": {},
   "outputs": [],
   "source": [
    "# ^^Czy kwota przyznana może być wyższa od wnioskowanej? Tak, bo to jest propozycja - klient może wziąć mniej"
   ]
  },
  {
   "cell_type": "code",
   "execution_count": 58,
   "metadata": {},
   "outputs": [],
   "source": [
    "# EMI # EMI # EMI # EMI # EMI # EMI # EMI # EMI # EMI # EMI # EMI\n",
    "# EMI # EMI # EMI # EMI # EMI # EMI # EMI # EMI # EMI # EMI # EMI\n",
    "# EMI # EMI # EMI # EMI # EMI # EMI # EMI # EMI # EMI # EMI # EMI\n",
    "\n",
    "def rata(data):\n",
    "    if (data['EMI_Loan_Submitted']==0):\n",
    "        if (data['Loan_Amount_Submitted'] > 0):\n",
    "            return 1 # gdy rata = 0 i kwota udzielona > 0\n",
    "        else:\n",
    "            return 0 # gdy rata = 0 i kwota udzielona = 0\n",
    "    else:\n",
    "        if (data['Loan_Amount_Submitted'] > 0):\n",
    "            return 1 # gdy rata > 0 i kwota udzielona > 0\n",
    "        else:\n",
    "            return 0 # gdy rata > 0 i kwota udzielona = 0\n",
    "        \n",
    "data['EMI_Loan_Submitted'] = data.apply(rata, axis=1)\n",
    "\n",
    "\n",
    "# data[(data['EMI_Loan_Submitted']==0) & (data['Loan_Amount_Submitted']==0)].count()"
   ]
  },
  {
   "cell_type": "code",
   "execution_count": 59,
   "metadata": {},
   "outputs": [
    {
     "data": {
      "text/plain": [
       "1    52407\n",
       "0    34613\n",
       "Name: EMI_Loan_Submitted, dtype: int64"
      ]
     },
     "execution_count": 59,
     "metadata": {},
     "output_type": "execute_result"
    }
   ],
   "source": [
    "data['EMI_Loan_Submitted'].value_counts()"
   ]
  },
  {
   "cell_type": "code",
   "execution_count": 60,
   "metadata": {},
   "outputs": [
    {
     "data": {
      "text/plain": [
       "count    8.702000e+04\n",
       "mean     2.300628e+05\n",
       "std      3.541233e+05\n",
       "min      0.000000e+00\n",
       "25%      0.000000e+00\n",
       "50%      1.000000e+05\n",
       "75%      3.000000e+05\n",
       "80%      3.000000e+05\n",
       "90%      5.000000e+05\n",
       "95%      1.000000e+06\n",
       "96%      1.000000e+06\n",
       "97%      1.000000e+06\n",
       "98%      1.000000e+06\n",
       "99%      1.500000e+06\n",
       "max      1.000000e+07\n",
       "Name: Loan_Amount_Applied, dtype: float64"
      ]
     },
     "execution_count": 60,
     "metadata": {},
     "output_type": "execute_result"
    }
   ],
   "source": [
    "#Loan_Amount_Applied #Loan_Amount_Applied #Loan_Amount_Applied\n",
    "#Loan_Amount_Applied #Loan_Amount_Applied #Loan_Amount_Applied\n",
    "#Loan_Amount_Applied #Loan_Amount_Applied #Loan_Amount_Applied\n",
    "\n",
    "data['Loan_Amount_Applied'].describe(percentiles=[0.25, 0.5, 0.75, 0.8, 0.9, 0.95, 0.96, 0.97, 0.98, 0.99])"
   ]
  },
  {
   "cell_type": "code",
   "execution_count": 61,
   "metadata": {
    "scrolled": true
   },
   "outputs": [
    {
     "data": {
      "image/png": "[encoded data removed]",
      "text/plain": [
       "<Figure size 432x288 with 1 Axes>"
      ]
     },
     "metadata": {},
     "output_type": "display_data"
    }
   ],
   "source": [
    "sns.set_style(\"whitegrid\")\n",
    "ax = sns.boxplot(data = data['Loan_Amount_Applied'], orient = 'v')\n",
    "# ax.set(yscale=\"log\")"
   ]
  },
  {
   "cell_type": "code",
   "execution_count": 62,
   "metadata": {},
   "outputs": [
    {
     "data": {
      "text/plain": [
       "414       7000000.0\n",
       "1006      7000000.0\n",
       "13961     7000000.0\n",
       "15257     9000000.0\n",
       "22030     8000000.0\n",
       "25238     7000000.0\n",
       "28308     8000000.0\n",
       "37795     7000000.0\n",
       "40965     7000000.0\n",
       "47129     7000000.0\n",
       "49016     9000000.0\n",
       "69577     9999999.0\n",
       "78498    10000000.0\n",
       "Name: Loan_Amount_Applied, dtype: float64"
      ]
     },
     "execution_count": 62,
     "metadata": {},
     "output_type": "execute_result"
    }
   ],
   "source": [
    "# Z wykresu odczytujemy wartości skrajne - zamieniamy je na medianę\n",
    "data[data['Loan_Amount_Applied']>=1e7*0.7]['Loan_Amount_Applied']"
   ]
  },
  {
   "cell_type": "code",
   "execution_count": 63,
   "metadata": {},
   "outputs": [],
   "source": [
    "mediana = np.median(data['Loan_Amount_Applied'])\n",
    "mediana\n",
    "\n",
    "data.loc[data['Loan_Amount_Applied'] >= 1e7*0.7 , 'Loan_Amount_Applied'] = mediana"
   ]
  },
  {
   "cell_type": "code",
   "execution_count": 64,
   "metadata": {},
   "outputs": [
    {
     "data": {
      "text/plain": [
       "4.491769366801673"
      ]
     },
     "execution_count": 64,
     "metadata": {},
     "output_type": "execute_result"
    }
   ],
   "source": [
    "data['Loan_Amount_Applied'].skew()"
   ]
  },
  {
   "cell_type": "code",
   "execution_count": 65,
   "metadata": {
    "scrolled": true
   },
   "outputs": [],
   "source": [
    "# Skośność!\n",
    "data['Loan_Amount_Applied'] = np.sqrt(data['Loan_Amount_Applied'])"
   ]
  },
  {
   "cell_type": "code",
   "execution_count": 66,
   "metadata": {},
   "outputs": [
    {
     "data": {
      "text/plain": [
       "0.7335099919162662"
      ]
     },
     "execution_count": 66,
     "metadata": {},
     "output_type": "execute_result"
    }
   ],
   "source": [
    "data['Loan_Amount_Applied'].skew()"
   ]
  },
  {
   "cell_type": "code",
   "execution_count": null,
   "metadata": {},
   "outputs": [],
   "source": []
  },
  {
   "cell_type": "code",
   "execution_count": 67,
   "metadata": {},
   "outputs": [
    {
     "data": {
      "text/plain": [
       "count    8.702000e+04\n",
       "mean     2.378915e+05\n",
       "std      3.075717e+05\n",
       "min      0.000000e+00\n",
       "25%      0.000000e+00\n",
       "50%      1.500000e+05\n",
       "75%      3.600000e+05\n",
       "80%      4.300000e+05\n",
       "90%      5.600000e+05\n",
       "95%      9.000000e+05\n",
       "96%      1.000000e+06\n",
       "97%      1.000000e+06\n",
       "98%      1.200000e+06\n",
       "99%      1.500000e+06\n",
       "max      3.000000e+06\n",
       "Name: Loan_Amount_Submitted, dtype: float64"
      ]
     },
     "execution_count": 67,
     "metadata": {},
     "output_type": "execute_result"
    }
   ],
   "source": [
    "#Loan_Amount_Submitted #Loan_Amount_Submitted #Loan_Amount_Submitted\n",
    "#Loan_Amount_Submitted #Loan_Amount_Submitted #Loan_Amount_Submitted\n",
    "#Loan_Amount_Submitted #Loan_Amount_Submitted #Loan_Amount_Submitted\n",
    "\n",
    "data['Loan_Amount_Submitted'].describe(percentiles=[0.25, 0.5, 0.75, 0.8, 0.9, 0.95, 0.96, 0.97, 0.98, 0.99])"
   ]
  },
  {
   "cell_type": "code",
   "execution_count": 68,
   "metadata": {
    "scrolled": true
   },
   "outputs": [
    {
     "data": {
      "image/png": "[encoded data removed]",
      "text/plain": [
       "<Figure size 432x288 with 1 Axes>"
      ]
     },
     "metadata": {},
     "output_type": "display_data"
    }
   ],
   "source": [
    "sns.set_style(\"whitegrid\")\n",
    "ax = sns.boxplot(data = data['Loan_Amount_Submitted'], orient = 'v')\n",
    "# ax.set(yscale=\"log\")"
   ]
  },
  {
   "cell_type": "code",
   "execution_count": 69,
   "metadata": {},
   "outputs": [
    {
     "data": {
      "text/plain": [
       "55069    3000000.0\n",
       "64648    3000000.0\n",
       "76073    3000000.0\n",
       "76175    3000000.0\n",
       "79360    3000000.0\n",
       "79371    3000000.0\n",
       "82164    3000000.0\n",
       "83985    2880000.0\n",
       "Name: Loan_Amount_Submitted, dtype: float64"
      ]
     },
     "execution_count": 69,
     "metadata": {},
     "output_type": "execute_result"
    }
   ],
   "source": [
    "# Z wykresu odczytujemy wartości skrajne - zamieniamy je na medianę\n",
    "data[data['Loan_Amount_Submitted']>=1e6*2.7]['Loan_Amount_Submitted']"
   ]
  },
  {
   "cell_type": "code",
   "execution_count": 70,
   "metadata": {},
   "outputs": [],
   "source": [
    "mediana = np.median(data['Loan_Amount_Submitted'])\n",
    "mediana\n",
    "\n",
    "data.loc[data['Loan_Amount_Submitted'] >= 1e6*2.7 , 'Loan_Amount_Submitted'] = mediana"
   ]
  },
  {
   "cell_type": "code",
   "execution_count": 71,
   "metadata": {},
   "outputs": [
    {
     "data": {
      "text/plain": [
       "2.058883371932514"
      ]
     },
     "execution_count": 71,
     "metadata": {},
     "output_type": "execute_result"
    }
   ],
   "source": [
    "data['Loan_Amount_Submitted'].skew()"
   ]
  },
  {
   "cell_type": "code",
   "execution_count": 72,
   "metadata": {
    "scrolled": true
   },
   "outputs": [],
   "source": [
    "# Skośność\n",
    "data['Loan_Amount_Submitted'] = np.sqrt(data['Loan_Amount_Submitted'])"
   ]
  },
  {
   "cell_type": "code",
   "execution_count": 73,
   "metadata": {},
   "outputs": [
    {
     "data": {
      "text/plain": [
       "0.41501896337906014"
      ]
     },
     "execution_count": 73,
     "metadata": {},
     "output_type": "execute_result"
    }
   ],
   "source": [
    "data['Loan_Amount_Submitted'].skew()"
   ]
  },
  {
   "cell_type": "code",
   "execution_count": null,
   "metadata": {},
   "outputs": [],
   "source": []
  },
  {
   "cell_type": "code",
   "execution_count": 74,
   "metadata": {},
   "outputs": [
    {
     "data": {
      "text/plain": [
       "count    87020.000000\n",
       "mean         2.129660\n",
       "std          2.014291\n",
       "min          0.000000\n",
       "25%          0.000000\n",
       "50%          2.000000\n",
       "75%          4.000000\n",
       "80%          5.000000\n",
       "90%          5.000000\n",
       "95%          5.000000\n",
       "96%          5.000000\n",
       "97%          5.000000\n",
       "98%          5.000000\n",
       "99%          5.000000\n",
       "max         10.000000\n",
       "Name: Loan_Tenure_Applied, dtype: float64"
      ]
     },
     "execution_count": 74,
     "metadata": {},
     "output_type": "execute_result"
    }
   ],
   "source": [
    "#Loan_Tenure_Applied #Loan_Tenure_Applied #Loan_Tenure_Applied\n",
    "#Loan_Tenure_Applied #Loan_Tenure_Applied #Loan_Tenure_Applied\n",
    "#Loan_Tenure_Applied #Loan_Tenure_Applied #Loan_Tenure_Applied\n",
    "\n",
    "data['Loan_Tenure_Applied'].describe(percentiles=[0.25, 0.5, 0.75, 0.8, 0.9, 0.95, 0.96, 0.97, 0.98, 0.99])"
   ]
  },
  {
   "cell_type": "code",
   "execution_count": 75,
   "metadata": {
    "scrolled": false
   },
   "outputs": [
    {
     "data": {
      "text/plain": [
       "0.2659930783488817"
      ]
     },
     "execution_count": 75,
     "metadata": {},
     "output_type": "execute_result"
    }
   ],
   "source": [
    "data['Loan_Tenure_Applied'].skew()"
   ]
  },
  {
   "cell_type": "code",
   "execution_count": null,
   "metadata": {},
   "outputs": [],
   "source": []
  },
  {
   "cell_type": "code",
   "execution_count": 76,
   "metadata": {},
   "outputs": [
    {
     "data": {
      "text/plain": [
       "count    87020.000000\n",
       "mean         2.343542\n",
       "std          2.108391\n",
       "min          0.000000\n",
       "25%          0.000000\n",
       "50%          3.000000\n",
       "75%          4.000000\n",
       "80%          5.000000\n",
       "90%          5.000000\n",
       "95%          5.000000\n",
       "96%          5.000000\n",
       "97%          5.000000\n",
       "98%          5.000000\n",
       "99%          5.000000\n",
       "max          6.000000\n",
       "Name: Loan_Tenure_Submitted, dtype: float64"
      ]
     },
     "execution_count": 76,
     "metadata": {},
     "output_type": "execute_result"
    }
   ],
   "source": [
    "#Loan_Tenure_Submitted #Loan_Tenure_Submitted #Loan_Tenure_Submitted\n",
    "#Loan_Tenure_Submitted #Loan_Tenure_Submitted #Loan_Tenure_Submitted\n",
    "#Loan_Tenure_Submitted #Loan_Tenure_Submitted #Loan_Tenure_Submitted\n",
    "\n",
    "data['Loan_Tenure_Submitted'].describe(percentiles=[0.25, 0.5, 0.75, 0.8, 0.9, 0.95, 0.96, 0.97, 0.98, 0.99])"
   ]
  },
  {
   "cell_type": "code",
   "execution_count": 77,
   "metadata": {
    "scrolled": false
   },
   "outputs": [
    {
     "data": {
      "text/plain": [
       "0.011483245901374187"
      ]
     },
     "execution_count": 77,
     "metadata": {},
     "output_type": "execute_result"
    }
   ],
   "source": [
    "data['Loan_Tenure_Submitted'].skew()"
   ]
  },
  {
   "cell_type": "code",
   "execution_count": 78,
   "metadata": {
    "scrolled": true
   },
   "outputs": [
    {
     "data": {
      "text/plain": [
       "<AxesSubplot:>"
      ]
     },
     "execution_count": 78,
     "metadata": {},
     "output_type": "execute_result"
    },
    {
     "data": {
      "image/png": "[encoded data removed]",
      "text/plain": [
       "<Figure size 432x288 with 1 Axes>"
      ]
     },
     "metadata": {},
     "output_type": "display_data"
    }
   ],
   "source": [
    "# Niemal idealnie symetryczny rozkład - czy na pewno?\n",
    "data['Loan_Tenure_Submitted'].hist(bins=25)"
   ]
  },
  {
   "cell_type": "code",
   "execution_count": 79,
   "metadata": {},
   "outputs": [],
   "source": [
    "# Trochę inaczej wyobrażam sobie symetrię :) Nie zmieniamy mimo wszystko"
   ]
  },
  {
   "cell_type": "markdown",
   "metadata": {},
   "source": [
    "## Existing_EMI"
   ]
  },
  {
   "cell_type": "code",
   "execution_count": 80,
   "metadata": {},
   "outputs": [
    {
     "data": {
      "text/plain": [
       "71"
      ]
     },
     "execution_count": 80,
     "metadata": {},
     "output_type": "execute_result"
    }
   ],
   "source": [
    "data['Existing_EMI'].isna().sum()"
   ]
  },
  {
   "cell_type": "code",
   "execution_count": 81,
   "metadata": {},
   "outputs": [],
   "source": [
    "data['Existing_EMI'].fillna(0, inplace=True)"
   ]
  },
  {
   "cell_type": "code",
   "execution_count": 82,
   "metadata": {},
   "outputs": [
    {
     "data": {
      "text/plain": [
       "count    8.702000e+04\n",
       "mean     3.693212e+03\n",
       "std      3.979411e+04\n",
       "min      0.000000e+00\n",
       "25%      0.000000e+00\n",
       "50%      0.000000e+00\n",
       "75%      3.500000e+03\n",
       "max      1.000000e+07\n",
       "Name: Existing_EMI, dtype: float64"
      ]
     },
     "execution_count": 82,
     "metadata": {},
     "output_type": "execute_result"
    }
   ],
   "source": [
    "data['Existing_EMI'].describe()"
   ]
  },
  {
   "cell_type": "code",
   "execution_count": 83,
   "metadata": {},
   "outputs": [
    {
     "data": {
      "image/png": "[encoded data removed]",
      "text/plain": [
       "<Figure size 432x288 with 1 Axes>"
      ]
     },
     "metadata": {},
     "output_type": "display_data"
    }
   ],
   "source": [
    "sns.set_style(\"whitegrid\")\n",
    "ax = sns.boxplot(data = data['Existing_EMI'], orient = 'v')\n",
    "# ax.set(yscale=\"log\")"
   ]
  },
  {
   "cell_type": "code",
   "execution_count": 84,
   "metadata": {},
   "outputs": [],
   "source": [
    "# usuwamy wartości skrajne i w tym wypadku zastępujemy średnią (mediana ma wartość 0)\n",
    "srednia = np.mean(data['Existing_EMI'])\n",
    "srednia\n",
    "\n",
    "data.loc[data['Existing_EMI'] >= 1e7*0.2 , 'Existing_EMI'] = srednia"
   ]
  },
  {
   "cell_type": "code",
   "execution_count": 85,
   "metadata": {
    "scrolled": true
   },
   "outputs": [
    {
     "data": {
      "text/plain": [
       "11.13920697824036"
      ]
     },
     "execution_count": 85,
     "metadata": {},
     "output_type": "execute_result"
    }
   ],
   "source": [
    "data['Existing_EMI'].skew()"
   ]
  },
  {
   "cell_type": "code",
   "execution_count": 88,
   "metadata": {},
   "outputs": [
    {
     "data": {
      "text/plain": [
       "count     87020.000000\n",
       "mean       3515.701385\n",
       "std        9684.843624\n",
       "min           0.000000\n",
       "25%           0.000000\n",
       "50%           0.000000\n",
       "75%        3500.000000\n",
       "max      626266.000000\n",
       "Name: Existing_EMI, dtype: float64"
      ]
     },
     "execution_count": 88,
     "metadata": {},
     "output_type": "execute_result"
    }
   ],
   "source": [
    "# bardzo wysoka wartość - spójrzmy na dane jeszcze raz\n",
    "data['Existing_EMI'].describe()"
   ]
  },
  {
   "cell_type": "code",
   "execution_count": 89,
   "metadata": {},
   "outputs": [
    {
     "data": {
      "image/png": "[encoded data removed]",
      "text/plain": [
       "<Figure size 432x288 with 1 Axes>"
      ]
     },
     "metadata": {},
     "output_type": "display_data"
    }
   ],
   "source": [
    "sns.set_style(\"whitegrid\")\n",
    "ax = sns.boxplot(data = data['Existing_EMI'], orient = 'v')\n",
    "# ax.set(yscale=\"log\")"
   ]
  },
  {
   "cell_type": "code",
   "execution_count": 90,
   "metadata": {},
   "outputs": [],
   "source": [
    "# I jeszcze raz usuwamy wartości skrajne i w tym wypadku zastępujemy średnią (mediana wciąż ma wartość 0)\n",
    "srednia = np.mean(data['Existing_EMI'])\n",
    "srednia\n",
    "\n",
    "data.loc[data['Existing_EMI'] >= 350000 , 'Existing_EMI'] = srednia"
   ]
  },
  {
   "cell_type": "code",
   "execution_count": 91,
   "metadata": {},
   "outputs": [
    {
     "data": {
      "text/plain": [
       "7.212359041858263"
      ]
     },
     "execution_count": 91,
     "metadata": {},
     "output_type": "execute_result"
    }
   ],
   "source": [
    "data['Existing_EMI'].skew()"
   ]
  },
  {
   "cell_type": "code",
   "execution_count": 92,
   "metadata": {},
   "outputs": [
    {
     "data": {
      "image/png": "[encoded data removed]",
      "text/plain": [
       "<Figure size 432x288 with 1 Axes>"
      ]
     },
     "metadata": {},
     "output_type": "display_data"
    }
   ],
   "source": [
    "sns.set_style(\"whitegrid\")\n",
    "ax = sns.boxplot(data = data['Existing_EMI'], orient = 'v')\n",
    "# ax.set(yscale=\"log\")"
   ]
  },
  {
   "cell_type": "code",
   "execution_count": 93,
   "metadata": {},
   "outputs": [],
   "source": [
    "# Wartości odstające już nie rażą aż tak, według wyliczeń mamy ciągle skośność - próbujemy wyprowadzić\n",
    "data['Existing_EMI'] = np.log(data['Existing_EMI']+1)"
   ]
  },
  {
   "cell_type": "code",
   "execution_count": 94,
   "metadata": {},
   "outputs": [
    {
     "data": {
      "text/plain": [
       "0.7878576969023722"
      ]
     },
     "execution_count": 94,
     "metadata": {},
     "output_type": "execute_result"
    }
   ],
   "source": [
    "data['Existing_EMI'].skew()"
   ]
  },
  {
   "cell_type": "code",
   "execution_count": 95,
   "metadata": {
    "scrolled": true
   },
   "outputs": [
    {
     "data": {
      "text/plain": [
       "<AxesSubplot:>"
      ]
     },
     "execution_count": 95,
     "metadata": {},
     "output_type": "execute_result"
    },
    {
     "data": {
      "image/png": "[encoded data removed]",
      "text/plain": [
       "<Figure size 432x288 with 1 Axes>"
      ]
     },
     "metadata": {},
     "output_type": "display_data"
    }
   ],
   "source": [
    "data['Existing_EMI'].hist()"
   ]
  },
  {
   "cell_type": "markdown",
   "metadata": {},
   "source": [
    "## Employer_Name"
   ]
  },
  {
   "cell_type": "code",
   "execution_count": 96,
   "metadata": {},
   "outputs": [
    {
     "data": {
      "text/plain": [
       "71"
      ]
     },
     "execution_count": 96,
     "metadata": {},
     "output_type": "execute_result"
    }
   ],
   "source": [
    "data['Employer_Name'].isna().sum()"
   ]
  },
  {
   "cell_type": "code",
   "execution_count": 97,
   "metadata": {},
   "outputs": [],
   "source": [
    "data['Employer_Name'].fillna('Brak danych', inplace=True)"
   ]
  },
  {
   "cell_type": "code",
   "execution_count": 98,
   "metadata": {},
   "outputs": [
    {
     "data": {
      "text/plain": [
       "43568"
      ]
     },
     "execution_count": 98,
     "metadata": {},
     "output_type": "execute_result"
    }
   ],
   "source": [
    "data['Employer_Name'].nunique()"
   ]
  },
  {
   "cell_type": "code",
   "execution_count": 99,
   "metadata": {
    "scrolled": true
   },
   "outputs": [
    {
     "data": {
      "text/plain": [
       "Employer_Name\n",
       "TATA CONSULTANCY SERVICES LTD (TCS)              21\n",
       "ACCENTURE SERVICES PVT LTD                       12\n",
       "COGNIZANT TECHNOLOGY SOLUTIONS INDIA PVT LTD     10\n",
       "GENPACT                                           7\n",
       "HCL TECHNOLOGIES LTD                              7\n",
       "INDIAN RAILWAY                                    7\n",
       "CIPLA LTD                                         5\n",
       "TCS AND ASSOCIATES PVT LTD                        5\n",
       "HCL AVITAS PVT LTD                                5\n",
       "0                                                 5\n",
       "OTHERS                                            5\n",
       "IBM GLOBAL SERVICES INDIA LTD                     5\n",
       "BSNL                                              4\n",
       "DR REDDYS LABORATORIES LTD                        4\n",
       "HSBC ELECTRONIC DATA PROCESSING INDIA PVT LTD     4\n",
       "CAPGEMINI INDIA PVT LTD                           4\n",
       "HCL - HEWLETT-PACKARD LTD                         4\n",
       "IDEA CELLULAR LTD                                 4\n",
       "ERICSSON INDIA GLOBAL SERVICES PVT LTD            4\n",
       "TYPE SLOWLY FOR AUTO FILL                         4\n",
       "Name: Disbursed, dtype: int64"
      ]
     },
     "execution_count": 99,
     "metadata": {},
     "output_type": "execute_result"
    }
   ],
   "source": [
    "# Mamy niemal 44k unikalnych rekordów. Spróbujmy pogrupować po tych, które dostają najwięcej pożyczek\n",
    "\n",
    "work = data.groupby(['Employer_Name'])['Disbursed'].sum()\n",
    "work = work.sort_values(ascending=False)\n",
    "work.sort_values(ascending=False)[:20]"
   ]
  },
  {
   "cell_type": "code",
   "execution_count": 101,
   "metadata": {},
   "outputs": [
    {
     "data": {
      "text/plain": [
       "{' ': 1,\n",
       " '  ': 1,\n",
       " '    ': 1,\n",
       " '  ADLER MEDIEQUIP PVT LTD': 1,\n",
       " '  MN&C SUPPLY LINKS RETAIL PVT. LTD': 1,\n",
       " '  RAJSHREE SUGARS CHEMICALS LTD': 1,\n",
       " ' 6 IR BATTALION': 1,\n",
       " ' A O SMITH': 1,\n",
       " ' AASHISH SURENDRA SHUKLA ': 1,\n",
       " ' AMAZON DEVELOPMENT CENTER INDIA PVT LTD': 1,\n",
       " ' ANI TECHNOLOGIES': 1,\n",
       " ' APPU STEEL  FURNICHER': 1,\n",
       " ' ASCENT STAFFING SOLUTIONS PRIVATE LIMITED': 1,\n",
       " ' BASE INFORMATION MANAGEMENT PVT LTD': 1,\n",
       " ' C G MARKETING ': 1,\n",
       " ' C INDRA SENA REDDY': 1,\n",
       " ' CAPITAL GROUP MIDLAND CREDIT MANAGEMENT INDIA PVT LTD': 1,\n",
       " ' CHARKU SAHU': 1,\n",
       " ' CTA APPARELS PVT LTD': 1,\n",
       " ' DELHI DISASTER MANAGEMENT AUTHORITY': 1,\n",
       " ' DINESH YADAV': 1,\n",
       " ' DIVYA NEXTGEN ENGICON PVT LTD': 1,\n",
       " ' EDUCATION DEPARTMENT': 1,\n",
       " ' EDUCATION DEPT.': 1,\n",
       " ' G H RAISONI POLYTECHNC': 1,\n",
       " ' GEETA DAS': 1,\n",
       " ' GKFSPL': 1,\n",
       " ' GOVERNMENT JOB': 1,\n",
       " ' GOVT CONTRACT': 1,\n",
       " ' GOVT OF INDIA': 1,\n",
       " ' GOVT. OF ODISHA': 1,\n",
       " ' GRANTEBAL HIGHSCHOOL KOLHAPUR': 1,\n",
       " ' HANUMAN MAHADEV GAURAV': 1,\n",
       " ' HARISH H K ': 1,\n",
       " ' INDIAN ARMY': 1,\n",
       " ' INDIAN RAILWAY': 1,\n",
       " ' INGRAM MICRO': 1,\n",
       " ' INTERARCH BUILDING PRODUCTS PVT. LTD.': 1,\n",
       " ' ITC LTD': 1,\n",
       " ' JENOME BIOPHAR PVT LTD': 1,\n",
       " ' KRISHNA REALTY ': 1,\n",
       " ' L & CO.': 1,\n",
       " ' LDC (PROBATION PERIOD)': 1,\n",
       " ' M GURU PRASAD': 1,\n",
       " ' MAHARAJA SAWAI MAN SINGH VIDYALAYA': 1,\n",
       " ' MALLA REDDY ENGINEERING COLLEGE': 1,\n",
       " ' MANGESH RAMCHANDRA MANJE': 1,\n",
       " ' MANICKYAM SELVARAJ SUDHAKARA RAO': 1,\n",
       " ' MEDICAL AND HEALTH': 1,\n",
       " ' N R AGRAWAL': 1,\n",
       " ' NAGARJUNA': 1,\n",
       " ' NAVNEET SINGH': 1,\n",
       " ' NEON MOTORS PVT LTD': 1,\n",
       " ' NIKHATHYASIN': 1,\n",
       " ' P V T': 1,\n",
       " ' PANKAJ NEMAJI SHENDE ': 1,\n",
       " ' PRADEEP RANGNATH MALIK': 1,\n",
       " ' PRATIK DEEPAK DEORE ': 1,\n",
       " ' PREM  RAJ': 1,\n",
       " ' PRIME FACILITIES SOLUTION PVT.LTD ': 1,\n",
       " ' R E INFRA PVT LTD': 1,\n",
       " ' RAVINDRA': 1,\n",
       " ' RIGHT TO INFORMATION COMMISSION': 1,\n",
       " ' S GOMES': 1,\n",
       " ' S M AUTO ENGG PVT LTD': 1,\n",
       " ' S R CORPORATE SERVICES PVT LTD': 1,\n",
       " ' S RAMA KRISHNA REDDY': 1,\n",
       " ' S.D.E.T BRAINWARE GROUP OF INSTITUTIONS ': 1,\n",
       " ' SAI ADVERTISERS': 1,\n",
       " ' SAMIR RAGHUNATH GAVIT ': 1,\n",
       " ' SANJEEV VITHOBHA CHAUHAN ': 1,\n",
       " ' SAURABH': 1,\n",
       " ' SHAILESH RAGHUNATH PATIL ': 1,\n",
       " ' STEEL AUTHORITY OF INDIA LIMITED': 1,\n",
       " ' SUNIL RAMCHANDRA FADALE': 1,\n",
       " ' SURENDRA JADHAV': 1,\n",
       " ' SURVEY AND LAND RECORDS DEPARTNENT': 1,\n",
       " ' TATA': 1,\n",
       " ' TATA STEEL LTD.': 1,\n",
       " ' TEJASVI DALVI': 1,\n",
       " ' TELARS': 1,\n",
       " ' TV SUNDARAM IYENGAR & SONS LTD': 1,\n",
       " ' VALUELABS  ': 1,\n",
       " ' VKC': 1,\n",
       " ' VODAFONE ': 1,\n",
       " ' YUVRAJ RAJU KUMAR ': 1,\n",
       " ' ZILLHA PARISHD': 1,\n",
       " '(SUPERMARKET GROCERY SUPPLIES PVT. LTD. MUMBAI': 1,\n",
       " '(UAE) ABU DHABI NATIONAL HOTEL': 1,\n",
       " '(UAE) ABU DHABI NATIONAL HOTEL (SEMI GOVERNMENT)': 1,\n",
       " ',JMHVBKL;': 1,\n",
       " ',MB': 1,\n",
       " '-': 1,\n",
       " '.': 1,\n",
       " '. ': 1,\n",
       " '.............': 1,\n",
       " '..A,R FISHRIES PVT LMITED': 1,\n",
       " '.VIKHE PATIL SCHOOL': 1,\n",
       " '0': 3,\n",
       " '09 SOLUTIONS MANAGEMENT ...': 1,\n",
       " '09 SOLUTIONS MANAGEMENT INDIA PVT LTD': 1,\n",
       " '1': 1,\n",
       " '1 FB SUPPORT SERVICES P LTD': 1,\n",
       " '10': 1,\n",
       " '10000': 1,\n",
       " '100000': 1,\n",
       " '10K INFO DATE SOLUTIONS PVT LTD': 1,\n",
       " '11 GORKHA RIFLES': 1,\n",
       " '11 MAHARAJA AGRASEN HOSPITAL.': 1,\n",
       " '11ND AMERICAN BRIAN AND SPINE CENTRE': 1,\n",
       " '12': 1,\n",
       " '120 MEDIA COLLECTIVE P LTD': 1,\n",
       " '12K2 NETWORKS PVT LTD': 1,\n",
       " '13297': 1,\n",
       " '15': 1,\n",
       " '15HDFC ASSET MANAGEMENT COMPANY LTD (MUTUAL FUND)': 1,\n",
       " '16000': 1,\n",
       " '178 BN CRPF': 1,\n",
       " '18 DELHI HEART AND LUNG ...': 1,\n",
       " '18000': 1,\n",
       " '19000': 1,\n",
       " '1953': 1,\n",
       " '1FB SUPPORT SERVICES PVT LTD': 1,\n",
       " '1FB SUPPORT SERVICES PVT...': 1,\n",
       " '1MG TECHNOLOGIES PVT. LTD. ': 1,\n",
       " '1SPOT ADS MEDIA': 1,\n",
       " '1TAKEMEDIA': 1,\n",
       " '2 SIGNAL BN CRPF': 1,\n",
       " '20 MICRONS LTD': 1,\n",
       " '2000': 1,\n",
       " '20000': 1,\n",
       " '202002020': 1,\n",
       " '20CUBE LOGISTICS AND DISTRIBUTION PVT LTD': 1,\n",
       " '20CUBE WAREHOUSING AND DISTRIBUTION PVT LTD': 1,\n",
       " '2155': 1,\n",
       " '21800': 1,\n",
       " '218000': 1,\n",
       " '22 FEET COMMUNICATIONS PVT LTD': 1,\n",
       " '2233': 1,\n",
       " '22BY7 SOLUTION PVT LTD': 1,\n",
       " '23800': 1,\n",
       " '24 7': 1,\n",
       " '24-Jul': 1,\n",
       " '24/7 CUATOMER': 1,\n",
       " '24/7 CUSTOMER': 1,\n",
       " '24/7 CUSTOMER PVT LTD': 1,\n",
       " '24/7 FACILITY SERVICE CONNECT PVT LTD': 1,\n",
       " '244800': 1,\n",
       " '247 CUSTOMER': 1,\n",
       " '247 CUSTOMER PVT LTD': 1,\n",
       " '247 CUSTOMER SERVICE': 1,\n",
       " '247 CUSTOMER SERVICE ': 1,\n",
       " '247 HEADHUNTING': 1,\n",
       " '25000': 1,\n",
       " '250000': 1,\n",
       " '2579': 1,\n",
       " '26400': 1,\n",
       " '29AD ': 1,\n",
       " '2ADPRO': 1,\n",
       " '2ADPROMEDIASOLUTION': 1,\n",
       " '2BY7 SOLUTION PVT LTD': 1,\n",
       " '2COMS CONSULTING PVT LTD': 1,\n",
       " '2M UPVC DOOR AND WINDOW': 1,\n",
       " '3': 1,\n",
       " '3 AG NETWORK SOLUTIONS PVT. LTD.': 1,\n",
       " '3 D TECHNOPACK LTD': 1,\n",
       " '3 GLOBAL SERVICES PVT LTD': 1,\n",
       " '3000': 1,\n",
       " '30000': 1,\n",
       " '300000': 1,\n",
       " '302924': 1,\n",
       " '360 DEGREE CLOUD PVT. LTD.': 1,\n",
       " '360 REALATORS': 1,\n",
       " '360 REALATORS LLP': 1,\n",
       " '360 REALTORS': 1,\n",
       " '360 REALTORS LLP': 1,\n",
       " '361 DEGREE MINDS': 1,\n",
       " '3A COMPOSITES INDIA PVT LTD': 1,\n",
       " '3AG NETWORK SOLUTIONS PVT LTD': 1,\n",
       " '3CORE SYSTEMS ': 1,\n",
       " '3D IMPRESSIONS': 1,\n",
       " '3D NETWORK PTE LTD': 1,\n",
       " '3D PLM SOFTWARE SOLUTIONS LTD': 1,\n",
       " '3D SYSTEMS': 1,\n",
       " '3DI': 1,\n",
       " '3DPLM': 1,\n",
       " '3DPLM SOFTWARE SOLUTIONS': 1,\n",
       " '3DPLM SOFTWARE SOLUTIONS LTD': 1,\n",
       " '3DPLM SOFTWARE SOLUTIONS LTD.': 1,\n",
       " '3DPLMSOFTWARE SOLUTIONS': 1,\n",
       " '3F FUJI FOODS PVT LTD': 1,\n",
       " '3FIVE8 TECHNOLOGY PVT LTD.': 1,\n",
       " '3I INFOTECH': 1,\n",
       " '3I INFOTECH CONSULTANCY SERVICES': 1,\n",
       " '3I INFOTECH LTD': 1,\n",
       " '3I INFOTECH TRUSTEESHIP SERVICES LTD': 1,\n",
       " '3I-INFOTECH': 1,\n",
       " '3IINFOTECH LTD': 1,\n",
       " '3IN': 1,\n",
       " '3K IT SERVICES PVT LTD': 1,\n",
       " '3KITSERVICEPVTLTD': 1,\n",
       " '3M CREATION': 1,\n",
       " '3M EXIM PVT LTD': 1,\n",
       " '3M INDIA LTD': 1,\n",
       " '3M INDIA LTD.': 1,\n",
       " '3PILLAR GLOBAL TPG': 1,\n",
       " '3SEGMENT TECHNOLOGIES PVT LTD': 1,\n",
       " '3SG INFORMATION TECHNOLOGY PVT LTD': 1,\n",
       " '3TEL NETWORKS LTD': 1,\n",
       " '4 QUADRANT SOLUTIONS PVT LTD': 1,\n",
       " '400701': 1,\n",
       " '4023': 1,\n",
       " '43000': 1,\n",
       " '47000': 1,\n",
       " '48 FITNESS': 1,\n",
       " '4D GLOBAL SERVICES': 1,\n",
       " '4GI SALES AND TRAVEL PVT. LTD.,': 1,\n",
       " '4IAPPS SOLUTIONS PVT LTD': 1,\n",
       " '4S LOGISTICS': 1,\n",
       " '4TH DIMENSION INFRATECH PVT.LTD': 1,\n",
       " '4W WEALTH MANAGEMENT PVT LTD': 1,\n",
       " '505 ARMY BASE WKSP DELHI': 1,\n",
       " '512 ARMY BASE WORKSHOP, KIRKEE': 1,\n",
       " '512ARMY BASE WORKSHOP KHADKI': 1,\n",
       " '514949848': 1,\n",
       " '52000': 1,\n",
       " '53': 1,\n",
       " '54543543535': 1,\n",
       " '55555': 1,\n",
       " '58000': 1,\n",
       " '5P GROUP': 1,\n",
       " '60000': 1,\n",
       " '646702': 1,\n",
       " '6BN PAC': 1,\n",
       " '6TH ENERGY TECHNOLOGIES PVT LTD ': 1,\n",
       " '7CON': 1,\n",
       " '7HILLS CONSTRUCTION COMPANY': 1,\n",
       " '7JP MORGAN CHASE BANK': 1,\n",
       " '7N CONSULTING PVT LTD': 1,\n",
       " '7S BANKING MANEGMENT CONSULTANCY PVT LTD': 1,\n",
       " '7S BANKING P LTD': 1,\n",
       " '7STAR COMPANY ': 1,\n",
       " '7TH BN.TSSP': 1,\n",
       " '8000': 1,\n",
       " '9 MECH INF C/O56 APO': 1,\n",
       " '9 STEPS SOLUTIONS PV LMT': 1,\n",
       " '91 WEB DIGITAL PVT LTD': 1,\n",
       " '91DEGRE': 1,\n",
       " '9769590001': 1,\n",
       " '9FLIGHTS SERVICES PRIVATE LIMITED': 1,\n",
       " '9FLIGHTS SERVICES PVT LTD': 1,\n",
       " '9G TELESOLUTIONS': 1,\n",
       " '9PLANETS PRODUCTS PVT LTD': 1,\n",
       " '9X MEDIA PVT LTD': 1,\n",
       " 'A': 1,\n",
       " 'A & A ASSOCIATES': 1,\n",
       " 'A & A DUKAAN FINANCIAL SERVICES PRIVATE LIMITED': 1,\n",
       " 'A & ASSOCIATES': 1,\n",
       " 'A & O ENGINEERING AND CONSULTANCY LLP': 1,\n",
       " 'A & S ADVISORS PVT LTD': 1,\n",
       " 'A & V ZIPPER PVT LMT ': 1,\n",
       " 'A .J HOSPITAL AND RESEAR...': 1,\n",
       " 'A 2 Z INFOTECH PVT LTD': 1,\n",
       " 'A 2 Z MAINTENANCE SERVIC...': 1,\n",
       " 'A 2 Z MAINTENANCE SERVICES P LTD': 1,\n",
       " 'A 5 HEALTH SOLUTIONS P LTD': 1,\n",
       " 'A AND A DUKAAN FINANCIAL SERVICES PVT LTD': 1,\n",
       " 'A ANIL NAIDU': 1,\n",
       " 'A ANTONY': 1,\n",
       " 'A ARAVINTHAN': 1,\n",
       " 'A B COOL': 1,\n",
       " 'A B GRAIN SPIRITS PVT LTD': 1,\n",
       " 'A B INDUSTRIES': 1,\n",
       " 'A BALA SUBRAHMANYAM': 1,\n",
       " 'A BALRAJ': 1,\n",
       " 'A C PATIL COLLEGE OF ENGN': 1,\n",
       " 'A CLASS MARBLES': 1,\n",
       " 'A D ENTERPRISES': 1,\n",
       " 'A D EXPORTS': 1,\n",
       " 'A DIET EXPRESS HOSPITALITY SERVICE LTD': 1,\n",
       " 'A H HALLMNARKING CENTRE': 1,\n",
       " 'A HIMAGIRI': 1,\n",
       " 'A INFORMATION SYSTEM PRIVATE LIMITED': 1,\n",
       " 'A K MANAGEMENT SERVICES PVT LTD': 1,\n",
       " 'A K MEDICO': 1,\n",
       " 'A K VIVEK': 1,\n",
       " 'A KARTHIKEYAN': 1,\n",
       " 'A L KAPANI & CO': 1,\n",
       " 'A LAKSHMANKUMAR': 1,\n",
       " 'A M MARKET PLACES INDIA PVT LTD': 1,\n",
       " 'A M MARKET PLACES PVT LTD': 1,\n",
       " 'A M PATEL & CO ': 1,\n",
       " 'A MAGICAL CONCERN': 1,\n",
       " 'A MENARINI INDIA PVT LTD': 1,\n",
       " 'A MOSES': 1,\n",
       " 'A MOULA JAN': 1,\n",
       " 'A NAGAMUNI REDDY': 1,\n",
       " 'A NAMPALLY': 1,\n",
       " 'A P SUPER SPECIALITY DENTAL HOSPITAL': 1,\n",
       " 'A PLUS A IT SOLUTIONS PVT LIMITED': 1,\n",
       " 'A PLUS EXPORT PVT LTD': 1,\n",
       " 'A R PARIKH & CO.': 1,\n",
       " 'A RAMAKRISHNAN': 1,\n",
       " 'A S IRON & STEEL INDIA PVT LTD': 1,\n",
       " 'A S IRON AND STEELS IND PVT LTD': 1,\n",
       " 'A S K M ASSOCIATED': 1,\n",
       " 'A S MOLOOBHOY': 1,\n",
       " 'A SRINIVAS REDDY': 1,\n",
       " 'A SURESH': 1,\n",
       " 'A SWARUPA': 1,\n",
       " 'A TO Z ': 1,\n",
       " 'A TO Z FORKLIFT AND CRANE SERVICES PVT LTD': 1,\n",
       " 'A TO Z ONLINE SERVICES PVT LTD ': 1,\n",
       " 'A U MARKETING AGENCIES': 1,\n",
       " 'A V COLLECTION & ELECTRICALS': 1,\n",
       " 'A V JEWELLERS': 1,\n",
       " 'A V SERVCIES PVT LTD': 1,\n",
       " 'A VELMURUGAN': 1,\n",
       " 'A&B ASSOCIATES ': 1,\n",
       " 'A&S': 1,\n",
       " 'A-1 FENCE PRODUCT COMPANY PCT LTD ': 1,\n",
       " 'A-1 FENCE PRODUCT COMPANY PVT LTD': 1,\n",
       " 'A-1 MOTORS': 1,\n",
       " 'A-ONE INVESTIGATION SERVICES': 1,\n",
       " 'A. A. NAYAK CONSTRUCTIONS PVT. LTD.': 1,\n",
       " 'A. JAMES ANTHONY': 1,\n",
       " 'A. KONSHAKSALI': 1,\n",
       " 'A. KURSHITH BEGAM': 1,\n",
       " 'A. MANOHAR REDDY': 1,\n",
       " 'A. NAGARAJ': 1,\n",
       " 'A. NARESH BABU GOUD': 1,\n",
       " 'A. SRIRAM': 1,\n",
       " 'A. W. FABER-CASTELL(INDIA ) PVT. LTD.': 1,\n",
       " 'A.A PRECISION': 1,\n",
       " 'A.A. PRECISION': 1,\n",
       " 'A.A.NAYAK CONSTRUCTIONS PVT. LTD': 1,\n",
       " 'A.BHUVANESHWARI': 1,\n",
       " 'A.CHINNASAMY': 1,\n",
       " 'A.DEVADAS': 1,\n",
       " 'A.E.ASLAMULLA': 1,\n",
       " 'A.EDWIN RAJ': 1,\n",
       " 'A.G OFFICE': 1,\n",
       " 'A.G.OFICE': 1,\n",
       " 'A.IMRAN KHAN': 1,\n",
       " 'A.J.INTERNATIONAL': 1,\n",
       " 'A.JERSON': 1,\n",
       " 'A.JOHN MORIS & C': 1,\n",
       " 'A.K CLINICS': 1,\n",
       " 'A.K. CAPITAL SERVICES LTD.': 1,\n",
       " 'A.K. ENTERPRISES': 1,\n",
       " 'A.M. MARKET PLACES PVT LTD.': 1,\n",
       " 'A.MANIKANDAN': 1,\n",
       " 'A.MENARINI INDIA PVT LTD': 1,\n",
       " 'A.MENARINI INDIA PVT LTD ': 1,\n",
       " 'A.N.PHARMACIA LABORATORIES PVT LTD': 1,\n",
       " 'A.N.V. MARKETING CO': 1,\n",
       " 'A.NAVEEN KUAMR': 1,\n",
       " 'A.O SMITH INDIA WATER HEATING PVT LTD': 1,\n",
       " 'A.O.C.A BANGALORE': 1,\n",
       " 'A.O.SMITH INDIA WATER PRODUCTS PRIVATE LIMITED': 1,\n",
       " 'A.P FOODS': 1,\n",
       " 'A.P ORGANICS PVT LTD': 1,\n",
       " 'A.P.S.R.T.C.': 1,\n",
       " 'A.P.STATE HOUSING CORPORATION LTD': 1,\n",
       " 'A.R. TRADERS': 1,\n",
       " 'A.R.ELECTRICALS': 1,\n",
       " 'A.R.SIGNATURE INFRA PVT LTD': 1,\n",
       " 'A.RAGUNATHAN': 1,\n",
       " 'A.RAJASEKAR': 1,\n",
       " 'A.RAJASHEKARAN': 1,\n",
       " 'A.RAJENDRAN': 1,\n",
       " 'A.RAMANJANEYAREDDY': 1,\n",
       " 'A.REDDEPPA': 1,\n",
       " 'A.S.IRON': 1,\n",
       " 'A.S.M. SR SEC SCHOOL': 1,\n",
       " 'A.S.O': 1,\n",
       " 'A.S.RETAIL &HOSPITALITY TECHNICAL SOLUTION PVT LTD': 1,\n",
       " 'A.S.SALES CORPROTION': 1,\n",
       " 'A.S.SHOES ACCESSORIES PVT LTD': 1,\n",
       " 'A.SAMPATH KUMAR': 1,\n",
       " 'A.SANGEETHA': 1,\n",
       " 'A.SARAVANAKUMAR': 1,\n",
       " 'A.SARAVANAN': 1,\n",
       " 'A.SETHURAMAN': 1,\n",
       " 'A.SUBRAMANIYAN': 1,\n",
       " 'A.SUBRAMANYAM': 1,\n",
       " 'A.SUMATHI': 1,\n",
       " 'A.T.JAIN & CO.': 1,\n",
       " 'A.V.GOPICHAND': 1,\n",
       " 'A.V.S.P.HANUMANTHA RAO': 1,\n",
       " 'A.VENKYATESWARLU': 1,\n",
       " 'A1 TECHNOLOGIES PVT LTD': 1,\n",
       " 'A1 WEBTECH SOLUTIONS': 1,\n",
       " 'A13TJRLM': 1,\n",
       " 'A2Z GLASS STORE': 1,\n",
       " 'A2Z INFRA ENGINEERING LTD': 1,\n",
       " 'A2Z INFRARED': 1,\n",
       " 'A2Z INFRASERVICES LTD': 1,\n",
       " 'A2Z INFRASRIVCES LTD': 1,\n",
       " 'A2Z INFRASTRUCTURE LTD': 1,\n",
       " 'A2Z LIMINTED': 1,\n",
       " 'A2Z ONLINE SERVICES PRIVATE LIMITED': 1,\n",
       " 'A2Z ONLINE SERVICES PVT LTD': 1,\n",
       " 'A2Z SHOPPING LTD': 1,\n",
       " 'A2Z TECHNOLOGIES': 1,\n",
       " 'A3LOGICS INDIA LTD': 1,\n",
       " 'AA': 1,\n",
       " 'AAA': 1,\n",
       " 'AAA DIGITAL IMAGING PVT LTD': 1,\n",
       " 'AAA DIGITAL-X SOLUTIONS PVT LTD': 1,\n",
       " 'AAA HOLDING TRUST': 1,\n",
       " 'AAA RISK MANAGEMENT SERVICE PVT LTD': 1,\n",
       " 'AAA ROLLER FLOUR MILLS PVT LTD': 1,\n",
       " 'AAA TELESHOPING PVT LTD': 1,\n",
       " 'AAA TRADERS': 1,\n",
       " 'AAA VEHICLEADES PVT LTD': 1,\n",
       " 'AAA VEHICLEADES PVT. LTD': 1,\n",
       " 'AAAA': 1,\n",
       " 'AAAA KKKKK': 1,\n",
       " 'AAAAA': 1,\n",
       " 'AAAAA KKKKK': 1,\n",
       " 'AAATRADERS': 1,\n",
       " 'AABASOFT ': 1,\n",
       " 'AACHI MASALA FOODS PVT LTD': 1,\n",
       " 'AACHRAN ENTERPRISES PVT LTD': 1,\n",
       " 'AADARSH PVT LTD': 1,\n",
       " 'AADHAAR RETAILING LTD': 1,\n",
       " 'AADHAAR VENTURES INDIA LTD': 1,\n",
       " 'AADHAR HOUSING FINANCE PVT LTD': 1,\n",
       " 'AADHI GLOBAL TECHENOLOGIES PVT LTD.': 1,\n",
       " 'AADI INDUSTRIES LTD': 1,\n",
       " 'AADI SALES CORPORATIONS': 1,\n",
       " 'AADIT AUTO COMPANY PVT LTD': 1,\n",
       " 'AADITYA PHARAM DISTIBUTERS': 1,\n",
       " 'AADYA MOTOR COMPANY PVT LTD': 1,\n",
       " 'AADYA MOTOR PVT LTD': 1,\n",
       " 'AAGNA GLOBAL SOLUTIONS': 1,\n",
       " 'AAI NAD AIRPORT': 1,\n",
       " 'AAINA': 1,\n",
       " 'AAK ASSOCIATES': 1,\n",
       " 'AAKAAR MEDICAL TECHNOLOGIES PVT LTD': 1,\n",
       " 'AAKASH EDUCATIONAL SERVICES LTD': 1,\n",
       " 'AAKASH INDUSTRIES LTD': 1,\n",
       " 'AAKASH INNOVATIONS & DESIGN PVT.LTD': 1,\n",
       " 'AAKASH INSTITUTE': 1,\n",
       " 'AAKIT TECHNOLOGIES PVT LTD': 1,\n",
       " 'AAKRITI FURNISHERS PVT LTD': 1,\n",
       " 'AAKRITI INFO MEDIA PVT LTD': 1,\n",
       " 'AAKRTI PACKAGING': 1,\n",
       " 'AAKSAH INSTITUTE': 1,\n",
       " 'AALIM MUHAMMED SALEGH COLLEGE OF ENGG': 1,\n",
       " 'AAM FOUNDATION': 1,\n",
       " 'AAM INDIA MANUFACTURING COP PVT LTD': 1,\n",
       " 'AAM SKY GEOSPATIAL SOLUTIONS PRIVATE LIMITED': 1,\n",
       " 'AAMAYA IMPEX': 1,\n",
       " 'AAMBY VALLEY LTD': 1,\n",
       " 'AAMEENA BEE': 1,\n",
       " 'AAMIL HUSAIN': 1,\n",
       " 'AAMIR BEADING AND EMBROIDERIES PVT LTD': 1,\n",
       " 'AAMIR MALIK': 1,\n",
       " 'AAMODA PUBLICATIONS PVT LTD': 1,\n",
       " 'AAMRO FREIGHT SERVICES PVT LTD': 1,\n",
       " 'AANANDA AUDIO VIDEO': 1,\n",
       " 'AANCHAL APPARELS PVT LTD': 1,\n",
       " 'AANCHAL ISPAT LTD': 1,\n",
       " 'AAPT OUTSOURCING SOLUTIONS PVT LTD': 1,\n",
       " 'AAR EM ELECTRONICS PVT LTD': 1,\n",
       " 'AARAMBH UNIVERSAL MARKETING LTD': 1,\n",
       " 'AARAV CONSTRUCTIONS': 1,\n",
       " 'AARAV DIAMOND': 1,\n",
       " 'AARCO ENGINEERING PROJECTS PVT LTDÂ\\xa0': 1,\n",
       " 'AARDING INDIA PVT LTD': 1,\n",
       " 'AARGEE EQUIPMENTS PRIVATE LIMITED': 1,\n",
       " 'AARIX INFOTECH': 1,\n",
       " 'AARKAY MARINE AGENCIES': 1,\n",
       " 'AAROGYA SRI HEALTH CARE TRUST': 1,\n",
       " 'AARONE DEVELOPERS PVT. LTD.': 1,\n",
       " 'AARPEE ENTERPRISES': 1,\n",
       " 'AARTI DRUGS LTD': 1,\n",
       " 'AARTI INDUSTRIES LTD': 1,\n",
       " 'AARTI JEWELLERS PVT LTD': 1,\n",
       " 'AARTI PLASTIC': 1,\n",
       " 'AARTI SINGH': 1,\n",
       " 'AARTI STEELS LTD': 1,\n",
       " 'AARU': 1,\n",
       " 'AARUPADAI VEEDU INSTITUTE OF TECH': 1,\n",
       " 'AARUSHI AANAD PATIL': 1,\n",
       " 'AARVANSS INFRASTRUCTURE PVT LTD': 1,\n",
       " 'AARVEE ASSOCIATE ENGINEERING AND CONSULTANTS PVT LTD': 1,\n",
       " 'AARVEE ASSOCIATES ARCHITECTS ENGINEERS AND CONSULTANTS PVT LTD': 1,\n",
       " 'AARVI ENCON PRIVATE LIMITEAD': 1,\n",
       " 'AARVI ENCON PVT LTD': 1,\n",
       " 'AARYA AND ASSOCIATES ': 1,\n",
       " 'AARYAN ENTERPRISES PVT.LTD.': 1,\n",
       " 'AARYAN PROPTECH PVT. LTD.': 1,\n",
       " 'AASAANJOBS PVT LTD': 1,\n",
       " 'AASHA LEVIN LIGHTING SYSTEMS PVT. LTD.': 1,\n",
       " 'AASHAPURI ENG': 1,\n",
       " 'AASHIK BASHA': 1,\n",
       " 'AASHIRWAD GARMENTS': 1,\n",
       " 'AASHISH PHARMA': 1,\n",
       " 'AASHISHYADAV': 1,\n",
       " 'AASHIYANA DECOR': 1,\n",
       " 'AASIF': 1,\n",
       " 'AASIF SHAIKH': 1,\n",
       " 'AASIFE BIRIYANI PVT LTD': 1,\n",
       " 'AASPAS MULTIMEDIA LTD': 1,\n",
       " 'AASTHA JASROTIA': 1,\n",
       " 'AASTIK SUBHASH GAWARE': 1,\n",
       " 'AASTPL': 1,\n",
       " 'AATASH NORCONTROL LTD': 1,\n",
       " 'AATISH': 1,\n",
       " 'AATMIYA': 1,\n",
       " 'AAVIN': 1,\n",
       " 'AAVISHKAR GROUP': 1,\n",
       " 'AAWISHKAR INFO ': 1,\n",
       " 'AAYSHA COLACTION ASHTA': 1,\n",
       " 'AAYUR TECHNOLOGY SOLUTIONS PVT LTD': 1,\n",
       " 'AAYUSH RETREATS PVT LTD': 1,\n",
       " 'AAYUSH SPINTEX PVT LTD': 1,\n",
       " 'AAYUSHI FAB': 1,\n",
       " 'AAYUSHI FASHION': 1,\n",
       " 'AB': 1,\n",
       " 'AB CARTRIDGE PVT LTD': 1,\n",
       " 'AB GROUPS': 1,\n",
       " 'AB INNOVATIVE SOFTWARE PVT LTD': 1,\n",
       " 'AB INSURANCE BROKERS': 1,\n",
       " 'AB MAURI INDIA PVT LTD': 1,\n",
       " 'AB RESORTS AND RESTAURANTS PVT LTD': 1,\n",
       " 'AB TECHNO PVT LTD': 1,\n",
       " 'ABACUS': 1,\n",
       " 'ABACUS CONSULTANTS': 1,\n",
       " 'ABACUS PERIPHERALS PVT LTD': 1,\n",
       " 'ABAD HOTELS & RESORTS INDIA PVT LTD': 1,\n",
       " 'ABAD MOTELS AND RESOERS PVT LTD': 1,\n",
       " 'ABAN INFRASTRUCTURE PVT LTD': 1,\n",
       " 'ABAN OFFSHORE': 1,\n",
       " 'ABAN OFFSHORE LTD': 1,\n",
       " 'ABANI BALLAV SWAIN': 1,\n",
       " 'ABANS COMMODITIES (I) PVT. LTD.': 1,\n",
       " 'ABANS SECURITIES PVT  LTD': 1,\n",
       " 'ABAQUS INC': 1,\n",
       " 'ABASAHED GARWARE COLLEGE OF ARTS SCIENCES': 1,\n",
       " 'ABAY POWER SOLLUTION': 1,\n",
       " 'ABB ABL PROJECTS LTD': 1,\n",
       " 'ABB ABL PROJECTS LTDABBOTT HEALTHCARE PVT LT': 1,\n",
       " 'ABB GLOBAL INDUSTRIAL AND SERVICES LTD': 1,\n",
       " 'ABB INITIO ': 1,\n",
       " 'ABB LTD': 1,\n",
       " 'ABBOTT HEALTH CARE PGLOBAL COAL AND MINING PVT LTD': 1,\n",
       " 'ABBOTT HEALTH CARE PVT LTD': 1,\n",
       " 'ABBOTT HEALTH CARE PVT LTD LTD': 1,\n",
       " 'ABBOTT HEALTHCARE P LTD': 1,\n",
       " 'ABBOTT HEALTHCARE PVT LTD': 1,\n",
       " 'ABBOTT HEALTHCARE PVT. LTD ': 1,\n",
       " 'ABBOTT INDIA LTD': 1,\n",
       " 'ABBOTT PHARMACEUTICALS LTD': 1,\n",
       " 'ABBOTT TRUECARE PHARMA PVT LTD': 1,\n",
       " 'ABBSCISSA HR CONSULTING PVT LTD': 1,\n",
       " 'ABC': 1,\n",
       " 'ABC - CAFE COFFEE DAY': 1,\n",
       " 'ABC ADVERTISING AND MARKETING': 1,\n",
       " 'ABC AND SONS LTD': 2,\n",
       " 'ABC BEARINGS LTD': 1,\n",
       " 'ABC BROADCASTING PVT LTD': 1,\n",
       " 'ABC CAFE COFEE DAY': 1,\n",
       " 'ABC CONSULTANTS PVT LTD': 1,\n",
       " 'ABC HOSPITAL': 1,\n",
       " 'ABC INFOSYSTEMS PVT LTD': 1,\n",
       " 'ABC LTD': 1,\n",
       " 'ABC MOTORS': 1,\n",
       " 'ABC PVT LTD': 1,\n",
       " 'ABC TRADING CO': 1,\n",
       " 'ABCD': 1,\n",
       " 'ABCD AND CO': 1,\n",
       " 'ABCDE AERT': 1,\n",
       " 'ABCDEFGHI': 1,\n",
       " 'ABCDFGHC': 1,\n",
       " 'ABCI INFRASTRUCTURES PVT LTD': 1,\n",
       " 'ABCPVT LTD': 1,\n",
       " 'ABCSKJF': 1,\n",
       " 'ABD': 1,\n",
       " 'ABDAN PHARMACARE PVT LIMETED': 1,\n",
       " 'ABDHESH KUMAR SHARMA': 1,\n",
       " 'ABDOS POLYMERS LTD': 1,\n",
       " 'ABDUL': 1,\n",
       " 'ABDUL AZIM': 1,\n",
       " 'ABDUL HARIF': 1,\n",
       " 'ABDUL IMTIYAZ KHAN': 1,\n",
       " 'ABDUL JALEEL': 1,\n",
       " 'ABDUL MAGBHUL BASHA': 1,\n",
       " 'ABDUL REHMAN': 1,\n",
       " 'ABDUL SAHEER': 1,\n",
       " 'ABDUL SHAIK SHABBIR': 1,\n",
       " 'ABDUL SHAIKH': 1,\n",
       " 'ABDUL WASHID': 1,\n",
       " 'ABDULBASITH KT': 1,\n",
       " 'ABDULLAH': 1,\n",
       " 'ABDULLAH TANNERY PVT. LTD': 1,\n",
       " 'ABEC EXHIBITIONS AND CONFERENCES PVT LTD ': 1,\n",
       " 'ABEDA BEGUM': 1,\n",
       " 'ABEESH': 1,\n",
       " 'ABELLON CLEAN ENERGY LTD': 1,\n",
       " 'ABERCROMBIE AND KENT INDIA LTD': 1,\n",
       " 'ABG APPAREL PVT LTD': 1,\n",
       " 'ABG CEMENT LTD': 1,\n",
       " 'ABG SHIPYARD LTD': 1,\n",
       " 'ABHA JOHN': 1,\n",
       " 'ABHAY APPARELS': 1,\n",
       " 'ABHAY APPARELS PVT LMTD': 1,\n",
       " 'ABHAY APPARELS PVT LTD': 1,\n",
       " 'ABHAY COTEX PVT LTD': 1,\n",
       " 'ABHAY ENTERPRISES ': 1,\n",
       " 'ABHAY KUMAR': 1,\n",
       " 'ABHAY PRATAP SINGH': 1,\n",
       " 'ABHAY SINGH': 1,\n",
       " 'ABHAY SINGH RAJPUT': 1,\n",
       " 'ABHAYSINGH RAJPUT': 1,\n",
       " 'ABHAYTECHNOLOGIES': 1,\n",
       " 'ABHI SHARMA': 1,\n",
       " 'ABHIANNI GROUP': 1,\n",
       " 'ABHIBUS SERVICES': 1,\n",
       " 'ABHIGYAN': 1,\n",
       " 'ABHIJEET': 1,\n",
       " 'ABHIJEET CHATTARAJ': 1,\n",
       " 'ABHIJEET DIES AND TOOLS PVT LTD': 1,\n",
       " 'ABHIJEET DUTTA': 1,\n",
       " 'ABHIJEET JAIN': 1,\n",
       " 'ABHIJEET KESARKAR': 1,\n",
       " 'ABHIJEET MANDAL': 1,\n",
       " 'ABHIJEET SHARMA': 1,\n",
       " 'ABHIJIT': 1,\n",
       " 'ABHIJIT B DAHALE': 1,\n",
       " 'ABHIJIT DALVI': 1,\n",
       " 'ABHIJIT GHOSH': 1,\n",
       " 'ABHIJIT GILBILE': 1,\n",
       " 'ABHIJIT JAWALE': 1,\n",
       " 'ABHIJIT KULKARNI.': 1,\n",
       " 'ABHIJIT MITRA': 1,\n",
       " 'ABHIJIT ONEKAR': 1,\n",
       " 'ABHIJIT ROY': 1,\n",
       " 'ABHIKUMAR HB': 1,\n",
       " 'ABHILASH.K P': 1,\n",
       " 'ABHILASHA JEWELLERS PVT LTD': 1,\n",
       " 'ABHILLASH': 1,\n",
       " 'ABHIMANYU SINGH': 1,\n",
       " 'ABHINAV COLLEGE BHAYANDER': 1,\n",
       " 'ABHINAV HI-TECH COLL OF ENGINEERING ': 1,\n",
       " 'ABHINAV HITECH COLLEGE OF ENGINEERING': 1,\n",
       " 'ABHINAV INSTITUTE OF TECHNOLOGY & MANAGEMENT ': 1,\n",
       " 'ABHINAV MRI AND DIAGNOSTICS PVT LTD ': 1,\n",
       " 'ABHINAV PRIYADARSHI': 1,\n",
       " 'ABHINAV VERMA': 1,\n",
       " 'ABHINAVA': 1,\n",
       " 'ABHINAY CHAK': 1,\n",
       " 'ABHISHEK GAWAD': 1,\n",
       " 'ABHISHEK GUPTA': 1,\n",
       " 'ABHISHEK INDUSTRIES LTD (TRIDENT GROUP)': 1,\n",
       " 'ABHISHEK SAGAR': 1,\n",
       " 'ABHISHEK VOHRA': 1,\n",
       " 'ABHISHEKSRIVASTAV': 1,\n",
       " 'ABHIYAAN BUILDCON PVT LTD': 1,\n",
       " 'ABHYUDAYA CO-OP BANK': 1,\n",
       " 'ABHYUDAYA CO-OP BANK LTD': 1,\n",
       " 'ABI TOURS AND TRAVELS': 1,\n",
       " 'ABIBPL': 1,\n",
       " 'ABID HUSAIN CONSULTANTS': 1,\n",
       " 'ABIL INFRAPROJECTS LTD': 1,\n",
       " 'ABINBEV INDIA PVT LTD': 1,\n",
       " 'ABIR INFRASTRUCTURE PVT LTD': 1,\n",
       " 'ABIRAMI': 1,\n",
       " 'ABIS EXPORTS INDIA PVT LTD': 1,\n",
       " 'ABL INFRASTRUCTURE PVT LTD': 1,\n",
       " 'ABL INFRASTRUCTUTE PVT LTD': 1,\n",
       " 'ABM BUILDTECH PVT LTD': 1,\n",
       " 'ABM KNOWLEDGE WARE LTD': 1,\n",
       " 'ABM KNOWLEDGEWARE LTD': 1,\n",
       " 'ABM TECHNOCRATZ PVT LTD': 1,\n",
       " 'ABM TRAVELS AND TOUR PVT LTD': 1,\n",
       " 'ABOTT HEALTH CARE PVT LTD': 1,\n",
       " 'ABOVE SOLUTIONS INDIA PVT LTD': 1,\n",
       " 'ABOVE-INC': 1,\n",
       " 'ABP NEWS MEDIA CONTENTANDCOMMUNICATION SERVICES INDIA P LTD': 1,\n",
       " 'ABP PVT LTD': 1,\n",
       " 'ABRAHAM VARGHESE': 1,\n",
       " 'ABRAR HUSAIN': 1,\n",
       " 'ABRL': 1,\n",
       " 'ABRL ': 1,\n",
       " 'ABRO': 1,\n",
       " 'ABRO PVT LTD': 1,\n",
       " 'ABRO TECHNOLOGIES PVT LTD': 1,\n",
       " 'ABS': 1,\n",
       " 'ABS AIRCON ENGINEERS PVT LTD': 1,\n",
       " 'ABS FITNESS': 1,\n",
       " 'ABS FITNESS & WELLNESS CLUB': 1,\n",
       " 'ABS INDIA PVT LTD': 1,\n",
       " 'ABS INDUSTRIAL VERIFICATION INDIA PVT LTD': 1,\n",
       " 'ABS MARINE SERVICE PVT LTD': 1,\n",
       " 'ABS MERCANTILED PVT LTD': 1,\n",
       " 'ABS TECH PVT LTD': 1,\n",
       " 'ABSOLUT DATA RESEARCH AND ANALYTICS SOLUTIONS PVT LTD': 1,\n",
       " 'ABSOLUTE FACILITY MANAGEMENT SERVICES PVT LTD': 1,\n",
       " 'ABSOLUTE INFORMATION SYSTEMS': 1,\n",
       " 'ABSOLUTE SECURITY SERVICES PVT LTD': 1,\n",
       " 'ABSOTHERM FACILITY MANAG...': 1,\n",
       " 'ABSOTHERM FACILITY MANAGEMENT PVT LTD': 1,\n",
       " 'ABSULKHADAR': 1,\n",
       " 'ABT CORPORATION': 1,\n",
       " 'ABT LTD': 1,\n",
       " 'ABT MARUTHI LIMITED': 1,\n",
       " 'ABT MARUTI LTD': 1,\n",
       " 'ABT PARCEL SERVICE': 1,\n",
       " 'ABU DHABI DRIVER': 1,\n",
       " 'ABU DHABI NATIONAL HOTELS (SEMI GOVERNMENT)': 1,\n",
       " 'ABUTHAHIR': 1,\n",
       " 'ABVH': 1,\n",
       " 'ABY JOSEPH': 1,\n",
       " 'AC': 1,\n",
       " 'AC ECP HOUSING INDIA PVT LTD': 1,\n",
       " 'AC NIELSEN': 1,\n",
       " 'AC SPORTS': 1,\n",
       " 'ACADAMY OF MANAGEMENT STUDIES': 1,\n",
       " 'ACADEMY FOR INTEGRATED SYSTEMS & SOLUTIONS': 1,\n",
       " 'ACADEMY OF  MANAGEMENT STUDIES': 1,\n",
       " 'ACADEMY OF BUSINESS MANAGEMENT STUDIES': 1,\n",
       " 'ACADEMY OF MARITIME EDUCTION AND TRAINING': 1,\n",
       " 'ACAST PVT LTD': 1,\n",
       " 'ACC': 1,\n",
       " 'ACC BRIDGESTONE': 1,\n",
       " 'ACC CEMENT': 1,\n",
       " 'ACC CEMENTS': 1,\n",
       " 'ACC CONCRETE LTD': 1,\n",
       " 'ACC FIN BUSINESS SOLUTIONS PVT LTD': 1,\n",
       " 'ACC LIMITED': 1,\n",
       " 'ACC LTD': 1,\n",
       " 'ACC MACHINERY CO LTD': 1,\n",
       " 'ACC NIHON CASTING': 1,\n",
       " 'ACC SIMPLEX INFRASTRUCTURES LTD': 1,\n",
       " 'ACCEL AUTOMATION LTD': 1,\n",
       " 'ACCEL FRONTLINE LTD': 1,\n",
       " 'ACCEL FRONTLINE SERVICES LTD': 1,\n",
       " 'ACCEL ICIM FRONTLINE LTD': 1,\n",
       " 'ACCELCIA BUSINESS SERVICES PVT LTD': 1,\n",
       " 'ACCELERANT INDIA': 1,\n",
       " 'ACCELFRONTLINE LTD': 1,\n",
       " 'ACCELYA KALE SOLUTIONS LTD': 1,\n",
       " 'ACCELYAKALE LTD': 1,\n",
       " 'ACCELYST SOLUTIONS PVT LTD': 1,\n",
       " 'ACCELYST SOLUTIONS PVT LTD13': 1,\n",
       " 'ACCENT HOTELS PVT LTD': 1,\n",
       " 'ACCENT OVERSEAS': 1,\n",
       " 'ACCENTURE': 1,\n",
       " 'ACCENTURE ': 1,\n",
       " 'ACCENTURE  ': 1,\n",
       " 'ACCENTURE SERVICE LTD': 1,\n",
       " 'ACCENTURE SERVICE PRIVATE LTD': 1,\n",
       " 'ACCENTURE SERVICES': 1,\n",
       " 'ACCENTURE SERVICES INDIA PVT LTD': 1,\n",
       " 'ACCENTURE SERVICES PRIVATE LIMITED': 1,\n",
       " 'ACCENTURE SERVICES PVT LTD': 6,\n",
       " 'ACCEROV PVT LTD ': 1,\n",
       " 'ACCESS ATLANTECH EDUTAINMENT': 1,\n",
       " 'ACCESS AUTOMATION PVT LTD': 1,\n",
       " 'ACCESS CONSTRUCTIONS PRIVATE LIMITED': 1,\n",
       " 'ACCESS HEALTH CARE': 1,\n",
       " 'ACCESS HEALTHCARE': 1,\n",
       " 'ACCESS HEALTHCARE PVT.LTD': 1,\n",
       " 'ACCESS HEALTHCARE SERVICED': 1,\n",
       " 'ACCESS HEALTHCARE SERVICES': 1,\n",
       " 'ACCESS HEALTHCARE SERVICES PVT LTD': 1,\n",
       " 'ACCESS HEALTHCARE SERVICES PVT.LTD': 1,\n",
       " 'ACCION LABS INDIA PVT LTD': 1,\n",
       " 'ACCLARIS BUSINESS SOLUTIONS PVT LTD': 1,\n",
       " 'ACCOLADE ATELIER PVT.LTD. KHARABWADI,CHAKAN': 1,\n",
       " 'ACCOLITE SOFTWARE INDIA PVT LTD': 1,\n",
       " 'ACCOR HOTELS': 1,\n",
       " 'ACCORD AUTOMATION': 1,\n",
       " 'ACCORD CHEMICAL CORPORATION': 1,\n",
       " 'ACCORD GROUP INDIA PVT LTD': 1,\n",
       " 'ACCORD INDUSTRIES LTD': 1,\n",
       " 'ACCORD SYNERGY PVT.LTD': 1,\n",
       " 'ACCOUNT SOLUATION': 1,\n",
       " 'ACCOUNTANT': 1,\n",
       " 'ACCOUNTANT ': 1,\n",
       " 'ACCOUNTANT COME MANAGER': 1,\n",
       " 'ACCOUNTANT GENERAL OFFICE': 1,\n",
       " 'ACCOUNTANT GENERALS OFFICE': 1,\n",
       " 'ACCOUNTED': 1,\n",
       " 'ACCOUNTENENT': 1,\n",
       " 'ACCOUNTENT': 1,\n",
       " 'ACCOUNTS & CONSULTANT': 1,\n",
       " 'ACCOUNTS ASSISTANT': 1,\n",
       " 'ACCOUNTS OPENED ON THE BASIS OF LDS': 1,\n",
       " 'ACCOUTANT': 1,\n",
       " 'ACCRETE ENGINEERING PVT LTD ': 1,\n",
       " 'ACCRETIVE HEALTH': 1,\n",
       " 'ACCRETIVE HEALTH PVT LTD': 1,\n",
       " 'ACCSL INDIA PVT LTD': 1,\n",
       " 'ACCSOURCE KNOWLEDGE PROCESS OUTSOURCING PVT LTD': 1,\n",
       " 'ACCT': 1,\n",
       " 'ACCU PACK ENGINEERING PVT LTD': 1,\n",
       " 'ACCUDOT CONSULTING PVT LTD': 1,\n",
       " 'ACCUMAC MACHINE TOOLS PVT LTD': 1,\n",
       " 'ACCURA NETWORK MARKETING PVT LTD': 1,\n",
       " 'ACCURA VALVES PVT': 1,\n",
       " 'ACCURATE BILLING SERVICE PVT LTD': 1,\n",
       " 'ACCURATE CALIBRATION': 1,\n",
       " 'ACCURATE ENGINEERING PVT LTD': 1,\n",
       " 'ACCURATE LOGISTICS': 1,\n",
       " 'ACCUREX MARKETING & PVT. LTD.': 1,\n",
       " 'ACCUSPEED ENGINEERING DESIGN SERVICES LTD': 1,\n",
       " 'ACCUSTER TECHNOLOGY PVT LTD.': 1,\n",
       " 'ACCUTECH INFO SYSTEMS PVT LTD': 1,\n",
       " 'ACCUTECH POWER SOLUTIONS': 1,\n",
       " 'ACCUTEK SERVICES PVT.LTD.': 1,\n",
       " 'ACCUTEST': 1,\n",
       " 'ACCUTEST RESEARCH LABORATORIES INDIA PVT LTD': 1,\n",
       " 'ACDC': 1,\n",
       " 'ACE ACCOUNTING SOLUTIONS PVT LTD': 1,\n",
       " 'ACE AGENCIES': 1,\n",
       " 'ACE ARMOR PVT': 1,\n",
       " 'ACE BPO SERVICES PVT LTD': 1,\n",
       " 'ACE COMPUTER SERVICES': 1,\n",
       " 'ACE CREATIVE LEARNING PVT LTD': 1,\n",
       " 'ACE CUNSSOLATING ENGEENERS': 1,\n",
       " 'ACE DECOR PVT.LTD': 1,\n",
       " 'ACE FACILITY INDIA PVT LTD': 1,\n",
       " 'ACE FACILITY MANAGEMENT': 1,\n",
       " 'ACE HOSPITAL ': 1,\n",
       " 'ACE INDUSTRIES': 1,\n",
       " 'ACE INFRALINE PVT LTD': 1,\n",
       " 'ACE KUDALE CAR PVT LTD': 1,\n",
       " 'ACE MANAGEMENT SERVICES': 1,\n",
       " 'ACE MANUFACTURING SYSTEMS LTD': 1,\n",
       " 'ACE SECURITY PROCTION PVT LTD': 1,\n",
       " 'ACE SECURITY SERVICES': 1,\n",
       " 'ACE TECHNOLOGIES': 1,\n",
       " 'ACE TECHNOLOGIES PVT LTD': 1,\n",
       " 'ACE TRADING CO': 1,\n",
       " 'ACEAST TECHNOLOGY PVT LTD': 1,\n",
       " 'ACEBRIGHT (INDIA)PHARMA PVT LTD': 1,\n",
       " 'ACELIFESTYLES': 1,\n",
       " 'ACEMICRCOMATIC': 1,\n",
       " 'ACER INDIA PVT LTD': 1,\n",
       " 'ACER MOTORS': 1,\n",
       " 'ACERHEALTH ONESOURCE PVT LTD': 1,\n",
       " 'ACES TECH HUB PVT. LTD.': 1,\n",
       " 'ACETECH TECHNOLOGIES (P)  LTD': 1,\n",
       " 'ACETO CHEM. P.LTD.': 1,\n",
       " 'ACG INSPECTION SYSTEMS PVT LTD': 1,\n",
       " 'ACG METALCRAFT PVT.LTD': 1,\n",
       " 'ACG PAM PHARMA TECHNOLOGIES LTD': 1,\n",
       " 'ACHARIYA GROUP OF INSTITUTIONS': 1,\n",
       " 'ACHARYA DENTAL CLINIC': 1,\n",
       " 'ACHARYA DENTAL CLINIC ': 1,\n",
       " 'ACHARYA INSTITUTE OF TECHNOLOGY': 1,\n",
       " 'ACHARYA PRAFULLA CHANDRA COLLEGE': 1,\n",
       " 'ACHEAR CLEAN ROOM PRESENTATION': 1,\n",
       " 'ACHI HOSPITAL PVT. LTD.': 1,\n",
       " 'ACHIEVE ENGINEER': 1,\n",
       " 'ACHIEVERS ZONE INDIA PVT LTD': 1,\n",
       " 'ACHILLES INFORMATION INDIA PVT LTD': 1,\n",
       " 'ACHIVERS': 1,\n",
       " 'ACHME COMMUNICATION': 1,\n",
       " 'ACHUS': 1,\n",
       " 'ACHUTA SOFTWARE TECHNOLOGIES': 1,\n",
       " 'ACI WORLDWIDE': 1,\n",
       " 'ACI WORLDWIDE SOLUTIONS PVT LTD': 1,\n",
       " 'ACID INDIA PVT LTD': 1,\n",
       " 'ACIDAES SOLUTIONS PVT LTD': 1,\n",
       " 'ACKERMANN INSTRUMENTE': 1,\n",
       " 'ACKTRON SECURITIES': 1,\n",
       " 'ACLIV TECHNOLOGIES PVT LTD': 1,\n",
       " 'ACMA': 1,\n",
       " 'ACMA COMPUTERS LTD': 1,\n",
       " 'ACME AUTOMATION(P) LTD': 1,\n",
       " 'ACME BUILDERS PVT LTD': 1,\n",
       " 'ACME ENGINEERS PVT LTD': 1,\n",
       " 'ACME FINANCIAL SERVICES ': 1,\n",
       " 'ACME INDIA MICROSYS PVT LTD': 1,\n",
       " 'ACME INSTITUTE OF INFORMATION TECHNOLOGY PATNA': 1,\n",
       " 'ACME INTERIORS PRIVATE LIMITED': 1,\n",
       " 'ACME INTERIORS PVT LTD': 1,\n",
       " 'ACME INTERNATIONAL SCHOOL ': 1,\n",
       " 'ACME MACHINERY COMPANY PVT LTD': 1,\n",
       " 'ACME SYNTHETIC CHEMICALS': 1,\n",
       " 'ACMEVAC SALES PVT LTD': 1,\n",
       " 'ACN CONSTRUCTIONS PVT LTD': 1,\n",
       " 'ACO SYSTEMS AND SOLUTIONS PVT LTD': 1,\n",
       " 'ACOLYTES': 1,\n",
       " 'ACONNEXION': 1,\n",
       " 'ACONNEXION BPO SERVICES PVT LTD': 1,\n",
       " 'ACOUNT': 1,\n",
       " 'ACOUNTS': 1,\n",
       " 'ACQUEST ESTATES PVT LTD': 1,\n",
       " 'ACREATY MANAGEMENT CONSULTANT PVT LTD': 1,\n",
       " 'ACRIFAB PVT. LTD.': 1,\n",
       " 'ACRO HR SOLUTIONS INDIA PVT LTD': 1,\n",
       " 'ACRO TECHNOLOGY PVT LTD': 1,\n",
       " 'ACROPETAL TECHNOLOGIES LTD': 1,\n",
       " 'ACS , A XEROX COMPANY': 1,\n",
       " 'ACS ADVISORY SERVICES LTD': 1,\n",
       " 'ACS GLOBAL TECH SOLUTION PVT LTD': 1,\n",
       " 'ACS TECHNOLOGIES': 1,\n",
       " 'ACS XEROX': 1,\n",
       " 'ACS XEROX ': 1,\n",
       " 'ACS, A XEROX COMPANY': 1,\n",
       " 'ACSAAA': 1,\n",
       " 'ACSM': 1,\n",
       " 'ACSYS SOFTWARE': 1,\n",
       " 'ACT BROADBAND': 1,\n",
       " 'ACT FIBERNET': 1,\n",
       " 'ACT INDIA LTD': 1,\n",
       " 'ACT- ON SOFTWARE INDIA PVT LTD': 1,\n",
       " 'ACTAVIS PHARMA DEVELOPMENT CENTER PVT LTD': 1,\n",
       " 'ACTECH INFORMATION SYSTEM LTD': 1,\n",
       " 'ACTIA INDIA PVT. LTD': 1,\n",
       " 'ACTIFIO TECHNOLOGIES PVT LTD': 1,\n",
       " 'ACTION AID ASSOCIATION': 1,\n",
       " 'ACTION AND PROTECTION SECURITY FORCE': 1,\n",
       " 'ACTION AUTOMOTIVES PVT LTD': 1,\n",
       " 'ACTION EDGE KNOWLEDGE SERVICES PRIVATE LIMITED': 1,\n",
       " 'ACTION INDUSTRIAL CORPORATION': 1,\n",
       " 'ACTION ISPAT AND POWER PVT LTD': 1,\n",
       " 'ACTIONAID ASSOCIATION': 1,\n",
       " 'ACTIV DOCTORS ONLINE INDIA ': 1,\n",
       " 'ACTIV DOCTORS ONLINE INDIA PVT. LTD.': 1,\n",
       " 'ACTIVATE INFOCOM PVT LTD': 1,\n",
       " 'ACTIVE BRAIN': 1,\n",
       " 'ACTIVE CLOTHING CO.': 1,\n",
       " 'ACTIVE MOTORS PRIVATE LIMITED': 1,\n",
       " 'ACTOLAP SOLUTIONS INDIA': 1,\n",
       " 'ACTSINFO': 1,\n",
       " 'ACUBETECH SOLUTIONS PVT LTD': 1,\n",
       " 'ACUITY SOFTWARE TECHNOLOGIES PVT LTD': 1,\n",
       " 'ACUMEN SERVICES': 1,\n",
       " 'ACUMEN TECHNOLOGIES PVT LTD': 1,\n",
       " 'ACUMINOUS SOFTWARE PVT. LTD.': 1,\n",
       " 'ACURUS SOLUTIONS PRIVATE LIMITED': 1,\n",
       " 'ACUSERVE INTERGRATED FACILITY': 1,\n",
       " 'ACUTE INFORMATICS PVT LTD': 1,\n",
       " 'ACUVATE SOFTWARE PVT LTD': 1,\n",
       " 'ACXIOM TECHNOLOGIES': 1,\n",
       " 'AD': 1,\n",
       " 'AD ENTERPRISES': 1,\n",
       " 'AD INDIA BRAND PROMOTIONS': 1,\n",
       " 'AD TECH STITCH PVT LTD': 1,\n",
       " 'AD-LINE': 1,\n",
       " 'AD2PRO MEDIA SOLUTIONS PVT LTD': 1,\n",
       " 'ADACHI NATURAL POLYMER PRIVATE LIMITED': 1,\n",
       " 'ADACHI NATURAL POLYMER PVT LTD': 1,\n",
       " 'ADAEQUARE INFO PVT LTD': 1,\n",
       " 'ADAEQUARE SOFTWARE ENGINEE P LTD': 1,\n",
       " 'ADALAJA CHIRAG': 1,\n",
       " 'ADAM ASSOCIATES UTILITY ENGINEERS P LTD': 1,\n",
       " 'ADAM COMSOF LTD': 1,\n",
       " 'ADAM FABRIWERK PVT LTD': 1,\n",
       " 'ADAMAS CAREER': 1,\n",
       " 'ADAMS MARKETING PVT LTD': 1,\n",
       " 'ADANI': 1,\n",
       " 'ADANI AGRI FRESH LTD': 1,\n",
       " 'ADANI ENTERPRISES LTD': 1,\n",
       " 'ADANI GAS LTD': 1,\n",
       " 'ADANI GROUP': 1,\n",
       " 'ADANI LOGISTICS LTD': 1,\n",
       " 'ADANI PORT AND SPECIAL ECONOMIC ZONE LTD': 1,\n",
       " 'ADANI PORT AND SPECIAL ECONOMIC ZONE LTDPO': 1,\n",
       " 'ADANI POWER LTD': 1,\n",
       " 'ADANI TOWNSHIP AND REAL ESTATE COMPANY': 1,\n",
       " 'ADANI TRANSMISSION LTD': 1,\n",
       " 'ADANI WEST PORT': 1,\n",
       " 'ADANI WILMAR LTD': 1,\n",
       " 'ADAPA SUDHEER': 1,\n",
       " 'ADAPT SOFTWARE INDIA P LTD': 1,\n",
       " 'ADAPTAVANT TECHNOLOGY SOLU PVT LTD': 1,\n",
       " 'ADAPTAVANT TECHNOLOGY SOLUTIONS': 1,\n",
       " 'ADAPTIVE SOFTECH PVT. LTD.': 1,\n",
       " 'ADAPTY': 1,\n",
       " 'ADARI SANDEEP': 1,\n",
       " 'ADARSH': 1,\n",
       " 'ADARSH CREDIT CO OPERATIVE SOCIETY LTD': 1,\n",
       " 'ADARSH CREDIT CO-OPERATIVE SOCIETY LTD': 1,\n",
       " 'ADARSH CREDIT CO-OPERATIVE SOCIETY LTDCRE': 1,\n",
       " 'ADARSH CREDIT CO-OPERATIVE SOCIETY LTDI': 1,\n",
       " 'ADARSH DEVELOPERS': 1,\n",
       " 'ADARSH DEVELOPETS': 1,\n",
       " 'ADARSH DEVOLOPERS': 1,\n",
       " 'ADARSH ENTERPRISES PROJECTS. PVT. LTD': 1,\n",
       " 'ADARSH ENTERPRISES PVT LTD': 1,\n",
       " 'ADARSH ENTERPRISES PVT, LTD,': 1,\n",
       " 'ADARSH GROUP': 1,\n",
       " 'ADARSH INSTITUTE OF TECHNOLOGY, VITA.': 1,\n",
       " 'ADARSH RAWAT': 1,\n",
       " 'ADARSH REALTY AND HOTELS PVT LTD': 1,\n",
       " 'ADARSH SOLUTIONS': 1,\n",
       " 'ADARSHA COMPREHEN COL OF EDU N RES': 1,\n",
       " 'ADARSHA PACKAGING PVT LTD': 1,\n",
       " 'ADARSHA SPECIALTY CHEMICALS PVT LTD': 1,\n",
       " 'ADBC COMPANY': 1,\n",
       " 'ADC BANK ': 1,\n",
       " ...}"
      ]
     },
     "execution_count": 101,
     "metadata": {},
     "output_type": "execute_result"
    }
   ],
   "source": [
    "# Dzielimy na 10 grup według liczby przyznań\n",
    "employer_sums = data.groupby('Employer_Name')['Disbursed'].sum()\n",
    "\n",
    "employer_name_mapping_dict = dict(pd.cut(employer_sums,\n",
    "                                    bins=10,\n",
    "                                    labels=range(1,11)))\n",
    "\n",
    "employer_name_mapping_dict"
   ]
  },
  {
   "cell_type": "code",
   "execution_count": 102,
   "metadata": {},
   "outputs": [],
   "source": [
    "# Słownikiem zastępujemy wszsytkie wartości w kolumnie\n",
    "data['Employer_Name'] = data['Employer_Name'].replace(employer_name_mapping_dict)"
   ]
  },
  {
   "cell_type": "code",
   "execution_count": 103,
   "metadata": {},
   "outputs": [
    {
     "data": {
      "text/plain": [
       "1     78138\n",
       "3      5302\n",
       "2      1743\n",
       "4       559\n",
       "10      550\n",
       "5       404\n",
       "6       324\n",
       "Name: Employer_Name, dtype: int64"
      ]
     },
     "execution_count": 103,
     "metadata": {},
     "output_type": "execute_result"
    }
   ],
   "source": [
    "data['Employer_Name'].value_counts()"
   ]
  },
  {
   "cell_type": "code",
   "execution_count": null,
   "metadata": {},
   "outputs": [],
   "source": []
  },
  {
   "cell_type": "markdown",
   "metadata": {},
   "source": [
    "## Salary_Account"
   ]
  },
  {
   "cell_type": "code",
   "execution_count": 104,
   "metadata": {},
   "outputs": [
    {
     "data": {
      "text/plain": [
       "11764"
      ]
     },
     "execution_count": 104,
     "metadata": {},
     "output_type": "execute_result"
    }
   ],
   "source": [
    "data['Salary_Account'].isna().sum()"
   ]
  },
  {
   "cell_type": "code",
   "execution_count": 105,
   "metadata": {},
   "outputs": [],
   "source": [
    "data['Salary_Account'].fillna('Brak danych', inplace=True)"
   ]
  },
  {
   "cell_type": "code",
   "execution_count": 106,
   "metadata": {
    "scrolled": true
   },
   "outputs": [
    {
     "data": {
      "text/plain": [
       "HDFC Bank                                          17695\n",
       "ICICI Bank                                         13636\n",
       "State Bank of India                                11843\n",
       "Brak danych                                        11764\n",
       "Axis Bank                                           8783\n",
       "Citibank                                            2376\n",
       "Kotak Bank                                          2067\n",
       "IDBI Bank                                           1550\n",
       "Punjab National Bank                                1201\n",
       "Bank of India                                       1170\n",
       "Bank of Baroda                                      1126\n",
       "Standard Chartered Bank                              995\n",
       "Canara Bank                                          990\n",
       "Union Bank of India                                  951\n",
       "Yes Bank                                             779\n",
       "ING Vysya                                            678\n",
       "Corporation bank                                     649\n",
       "Indian Overseas Bank                                 612\n",
       "State Bank of Hyderabad                              597\n",
       "Indian Bank                                          555\n",
       "Oriental Bank of Commerce                            524\n",
       "IndusInd Bank                                        503\n",
       "Andhra Bank                                          485\n",
       "Central Bank of India                                445\n",
       "Syndicate Bank                                       415\n",
       "Bank of Maharasthra                                  406\n",
       "State Bank of Bikaner & Jaipur                       331\n",
       "HSBC                                                 328\n",
       "Karur Vysya Bank                                     326\n",
       "State Bank of Mysore                                 255\n",
       "Federal Bank                                         253\n",
       "Vijaya Bank                                          252\n",
       "Allahabad Bank                                       238\n",
       "UCO Bank                                             237\n",
       "State Bank of Travancore                             227\n",
       "Karnataka Bank                                       200\n",
       "Saraswat Bank                                        195\n",
       "United Bank of India                                 183\n",
       "Dena Bank                                            182\n",
       "State Bank of Patiala                                177\n",
       "South Indian Bank                                    160\n",
       "Deutsche Bank                                        125\n",
       "Abhyuday Co-op Bank Ltd                              108\n",
       "The Ratnakar Bank Ltd                                 83\n",
       "Tamil Nadu Mercantile Bank                            71\n",
       "Punjab & Sind bank                                    66\n",
       "J&K Bank                                              59\n",
       "Lakshmi Vilas bank                                    50\n",
       "Dhanalakshmi Bank Ltd                                 42\n",
       "State Bank of Indore                                  18\n",
       "Catholic Syrian Bank                                  14\n",
       "India Bulls                                           11\n",
       "B N P Paribas                                          8\n",
       "GIC Housing Finance Ltd                                8\n",
       "Firstrand Bank Limited                                 7\n",
       "Bank of Rajasthan                                      5\n",
       "Kerala Gramin Bank                                     4\n",
       "Industrial And Commercial Bank Of China Limited        2\n",
       "Name: Salary_Account, dtype: int64"
      ]
     },
     "execution_count": 106,
     "metadata": {},
     "output_type": "execute_result"
    }
   ],
   "source": [
    "data['Salary_Account'].value_counts()"
   ]
  },
  {
   "cell_type": "code",
   "execution_count": 107,
   "metadata": {},
   "outputs": [
    {
     "data": {
      "text/plain": [
       "['HDFC Bank',\n",
       " 'ICICI Bank',\n",
       " 'State Bank of India',\n",
       " 'Brak danych',\n",
       " 'Axis Bank',\n",
       " 'Citibank',\n",
       " 'Kotak Bank',\n",
       " 'IDBI Bank',\n",
       " 'Punjab National Bank',\n",
       " 'Bank of India',\n",
       " 'Bank of Baroda']"
      ]
     },
     "execution_count": 107,
     "metadata": {},
     "output_type": "execute_result"
    }
   ],
   "source": [
    "# 10 najliczniejszych banków zostawimy, resztę wrzucę do jednego koszyka\n",
    "top_10_accounts = data['Salary_Account'].value_counts().index[:11].tolist() # 11 bo jest nasz kategoria \"Brak danych\"\n",
    "top_10_accounts"
   ]
  },
  {
   "cell_type": "code",
   "execution_count": 108,
   "metadata": {},
   "outputs": [],
   "source": [
    "top_10_accounts.remove('Brak danych')"
   ]
  },
  {
   "cell_type": "code",
   "execution_count": 109,
   "metadata": {},
   "outputs": [],
   "source": [
    "def przypisz_rachunek(rachunek):\n",
    "    if rachunek in top_10_accounts:\n",
    "        return rachunek\n",
    "    else:\n",
    "        return 'Pozostałe'\n",
    "\n",
    "data['Salary_Account'] = data['Salary_Account'].apply(przypisz_rachunek)"
   ]
  },
  {
   "cell_type": "code",
   "execution_count": 110,
   "metadata": {},
   "outputs": [
    {
     "data": {
      "text/plain": [
       "Pozostałe               25573\n",
       "HDFC Bank               17695\n",
       "ICICI Bank              13636\n",
       "State Bank of India     11843\n",
       "Axis Bank                8783\n",
       "Citibank                 2376\n",
       "Kotak Bank               2067\n",
       "IDBI Bank                1550\n",
       "Punjab National Bank     1201\n",
       "Bank of India            1170\n",
       "Bank of Baroda           1126\n",
       "Name: Salary_Account, dtype: int64"
      ]
     },
     "execution_count": 110,
     "metadata": {},
     "output_type": "execute_result"
    }
   ],
   "source": [
    "data['Salary_Account'].value_counts()"
   ]
  },
  {
   "cell_type": "code",
   "execution_count": 111,
   "metadata": {},
   "outputs": [],
   "source": [
    "zmienne_kategoryczne.append('Salary_Account')"
   ]
  },
  {
   "cell_type": "code",
   "execution_count": null,
   "metadata": {},
   "outputs": [],
   "source": []
  },
  {
   "cell_type": "markdown",
   "metadata": {},
   "source": [
    "## Mobile_Verified"
   ]
  },
  {
   "cell_type": "code",
   "execution_count": 112,
   "metadata": {},
   "outputs": [
    {
     "data": {
      "text/plain": [
       "0"
      ]
     },
     "execution_count": 112,
     "metadata": {},
     "output_type": "execute_result"
    }
   ],
   "source": [
    "data['Mobile_Verified'].isna().sum()"
   ]
  },
  {
   "cell_type": "code",
   "execution_count": 113,
   "metadata": {},
   "outputs": [
    {
     "data": {
      "text/plain": [
       "Y    56481\n",
       "N    30539\n",
       "Name: Mobile_Verified, dtype: int64"
      ]
     },
     "execution_count": 113,
     "metadata": {},
     "output_type": "execute_result"
    }
   ],
   "source": [
    "data['Mobile_Verified'].value_counts()"
   ]
  },
  {
   "cell_type": "code",
   "execution_count": 114,
   "metadata": {},
   "outputs": [],
   "source": [
    "data['Mobile_Verified'].replace({'Y':1, 'N':0}, inplace=True)"
   ]
  },
  {
   "cell_type": "code",
   "execution_count": null,
   "metadata": {},
   "outputs": [],
   "source": []
  },
  {
   "cell_type": "markdown",
   "metadata": {},
   "source": [
    "## Var5 & Var1"
   ]
  },
  {
   "cell_type": "code",
   "execution_count": 115,
   "metadata": {},
   "outputs": [
    {
     "data": {
      "text/plain": [
       "(0, 0)"
      ]
     },
     "execution_count": 115,
     "metadata": {},
     "output_type": "execute_result"
    }
   ],
   "source": [
    "data['Var5'].isna().sum(), data['Var1'].isna().sum()"
   ]
  },
  {
   "cell_type": "code",
   "execution_count": 116,
   "metadata": {},
   "outputs": [
    {
     "data": {
      "text/plain": [
       "(0     29087\n",
       " 1     12236\n",
       " 3      6759\n",
       " 11     5204\n",
       " 2      4485\n",
       " 14     3662\n",
       " 15     3509\n",
       " 12     2989\n",
       " 13     2622\n",
       " 8      2515\n",
       " 10     2427\n",
       " 9      2281\n",
       " 16     2097\n",
       " 4      1815\n",
       " 17     1691\n",
       " 7      1489\n",
       " 6       983\n",
       " 5       975\n",
       " 18      194\n",
       " Name: Var5, dtype: int64,\n",
       " HBXX    59294\n",
       " HBXC     9010\n",
       " HBXB     4479\n",
       " HAXA     2909\n",
       " HBXA     2123\n",
       " HAXB     2011\n",
       " HBXD     1964\n",
       " HAXC     1536\n",
       " HBXH      970\n",
       " HCXF      722\n",
       " HAYT      508\n",
       " HAVC      384\n",
       " HAXM      268\n",
       " HCXD      237\n",
       " HCYS      217\n",
       " HVYS      186\n",
       " HAZD      109\n",
       " HCXG       78\n",
       " HAXF       15\n",
       " Name: Var1, dtype: int64)"
      ]
     },
     "execution_count": 116,
     "metadata": {},
     "output_type": "execute_result"
    }
   ],
   "source": [
    "data['Var5'].value_counts(), data['Var1'].value_counts()"
   ]
  },
  {
   "cell_type": "code",
   "execution_count": null,
   "metadata": {},
   "outputs": [],
   "source": [
    "# Var5 zostawiamy, Var1 - 8 największych mapujemy na liczby (powyżej 1k)"
   ]
  },
  {
   "cell_type": "code",
   "execution_count": 117,
   "metadata": {},
   "outputs": [
    {
     "data": {
      "text/plain": [
       "['HBXX', 'HBXC', 'HBXB', 'HAXA', 'HBXA', 'HAXB', 'HBXD', 'HAXC']"
      ]
     },
     "execution_count": 117,
     "metadata": {},
     "output_type": "execute_result"
    }
   ],
   "source": [
    "top_8_var = data['Var1'].value_counts().index[:8].tolist()\n",
    "top_8_var"
   ]
  },
  {
   "cell_type": "code",
   "execution_count": 118,
   "metadata": {},
   "outputs": [],
   "source": [
    "def przypisz_wage(zmienna):\n",
    "    if zmienna in top_8_var:\n",
    "        return zmienna\n",
    "    else:\n",
    "        return 0\n",
    "    \n",
    "data['Var1'] = data['Var1'].apply(przypisz_wage)"
   ]
  },
  {
   "cell_type": "code",
   "execution_count": 119,
   "metadata": {},
   "outputs": [],
   "source": [
    "data['Var1'].replace({'HBXX':8, 'HBXC':7,'HBXB':6, 'HAXA':5,\n",
    "                        'HBXA':4, 'HAXB':3,'HBXD':2, 'HAXC':1}, \n",
    "                              inplace=True)"
   ]
  },
  {
   "cell_type": "code",
   "execution_count": 120,
   "metadata": {},
   "outputs": [
    {
     "data": {
      "text/plain": [
       "8    59294\n",
       "7     9010\n",
       "6     4479\n",
       "0     3694\n",
       "5     2909\n",
       "4     2123\n",
       "3     2011\n",
       "2     1964\n",
       "1     1536\n",
       "Name: Var1, dtype: int64"
      ]
     },
     "execution_count": 120,
     "metadata": {},
     "output_type": "execute_result"
    }
   ],
   "source": [
    "data['Var1'].value_counts()"
   ]
  },
  {
   "cell_type": "code",
   "execution_count": null,
   "metadata": {},
   "outputs": [],
   "source": []
  },
  {
   "cell_type": "markdown",
   "metadata": {},
   "source": [
    "## Interest_Rate"
   ]
  },
  {
   "cell_type": "code",
   "execution_count": 121,
   "metadata": {},
   "outputs": [
    {
     "data": {
      "text/plain": [
       "59294"
      ]
     },
     "execution_count": 121,
     "metadata": {},
     "output_type": "execute_result"
    }
   ],
   "source": [
    "data['Interest_Rate'].isna().sum()"
   ]
  },
  {
   "cell_type": "code",
   "execution_count": 122,
   "metadata": {},
   "outputs": [
    {
     "data": {
      "text/plain": [
       "count    27726.000000\n",
       "mean        19.197474\n",
       "std          5.834213\n",
       "min         11.990000\n",
       "25%         15.250000\n",
       "50%         18.000000\n",
       "75%         20.000000\n",
       "max         37.000000\n",
       "Name: Interest_Rate, dtype: float64"
      ]
     },
     "execution_count": 122,
     "metadata": {},
     "output_type": "execute_result"
    }
   ],
   "source": [
    "data['Interest_Rate'].describe()"
   ]
  },
  {
   "cell_type": "code",
   "execution_count": 123,
   "metadata": {},
   "outputs": [],
   "source": [
    "# Ze zmiennej najchętniej bym zrezygnował. Niestety nie wolno.... czyli standardowo - nany = 0\n",
    "data['Interest_Rate'].fillna(0, inplace=True)"
   ]
  },
  {
   "cell_type": "code",
   "execution_count": 125,
   "metadata": {},
   "outputs": [
    {
     "data": {
      "text/plain": [
       "<AxesSubplot:>"
      ]
     },
     "execution_count": 125,
     "metadata": {},
     "output_type": "execute_result"
    },
    {
     "data": {
      "image/png": "[encoded data removed]",
      "text/plain": [
       "<Figure size 432x288 with 1 Axes>"
      ]
     },
     "metadata": {},
     "output_type": "display_data"
    }
   ],
   "source": [
    "data['Interest_Rate'].hist(bins=10)"
   ]
  },
  {
   "cell_type": "code",
   "execution_count": 126,
   "metadata": {},
   "outputs": [
    {
     "data": {
      "text/plain": [
       "1.2393442340179288"
      ]
     },
     "execution_count": 126,
     "metadata": {},
     "output_type": "execute_result"
    }
   ],
   "source": [
    "data['Interest_Rate'].skew()"
   ]
  },
  {
   "cell_type": "code",
   "execution_count": 127,
   "metadata": {},
   "outputs": [],
   "source": [
    "# Nie mam pomysłu na zmienną. Zastępują ją informacją, czy oprocentowanie jest czy go nie ma.\n",
    "def czy_oprocentowanie(oprocentowanie):\n",
    "    if oprocentowanie>0:\n",
    "        return 1\n",
    "    else:\n",
    "        return 0\n",
    "\n",
    "data['Interest_Rate'] = data['Interest_Rate'].apply(czy_oprocentowanie)"
   ]
  },
  {
   "cell_type": "code",
   "execution_count": 128,
   "metadata": {},
   "outputs": [
    {
     "data": {
      "text/plain": [
       "0    59294\n",
       "1    27726\n",
       "Name: Interest_Rate, dtype: int64"
      ]
     },
     "execution_count": 128,
     "metadata": {},
     "output_type": "execute_result"
    }
   ],
   "source": [
    "data['Interest_Rate'].value_counts()"
   ]
  },
  {
   "cell_type": "markdown",
   "metadata": {},
   "source": [
    "## Processing_Fee"
   ]
  },
  {
   "cell_type": "code",
   "execution_count": 129,
   "metadata": {},
   "outputs": [
    {
     "data": {
      "text/plain": [
       "59600"
      ]
     },
     "execution_count": 129,
     "metadata": {},
     "output_type": "execute_result"
    }
   ],
   "source": [
    "data['Processing_Fee'].isna().sum()"
   ]
  },
  {
   "cell_type": "code",
   "execution_count": 130,
   "metadata": {},
   "outputs": [
    {
     "data": {
      "text/plain": [
       "count    27420.000000\n",
       "mean      5131.150839\n",
       "std       4725.837644\n",
       "min        200.000000\n",
       "25%       2000.000000\n",
       "50%       4000.000000\n",
       "75%       6250.000000\n",
       "max      50000.000000\n",
       "Name: Processing_Fee, dtype: float64"
      ]
     },
     "execution_count": 130,
     "metadata": {},
     "output_type": "execute_result"
    }
   ],
   "source": [
    "data['Processing_Fee'].describe()"
   ]
  },
  {
   "cell_type": "markdown",
   "metadata": {},
   "source": [
    "Tutaj sytuacja wygląda podobnie jak wyżej - duża liczba braków. Tutaj jednak spróbujemy trochę innego podejścia, tzn. nan=0 ale przyjrzymy się pozostałych wartością - tak na intuicję wydaje się, że zmienna może być ważniejsza od poprzedniej"
   ]
  },
  {
   "cell_type": "code",
   "execution_count": 131,
   "metadata": {},
   "outputs": [],
   "source": [
    "data['Processing_Fee'].fillna(0, inplace=True)"
   ]
  },
  {
   "cell_type": "code",
   "execution_count": 132,
   "metadata": {},
   "outputs": [
    {
     "data": {
      "image/png": "[encoded data removed]",
      "text/plain": [
       "<Figure size 432x288 with 1 Axes>"
      ]
     },
     "metadata": {},
     "output_type": "display_data"
    }
   ],
   "source": [
    "sns.set_style(\"whitegrid\")\n",
    "ax = sns.boxplot(data = data['Processing_Fee'], orient = 'v')"
   ]
  },
  {
   "cell_type": "code",
   "execution_count": 133,
   "metadata": {},
   "outputs": [
    {
     "data": {
      "text/plain": [
       "3.838063512032092"
      ]
     },
     "execution_count": 133,
     "metadata": {},
     "output_type": "execute_result"
    }
   ],
   "source": [
    "data['Processing_Fee'].skew()"
   ]
  },
  {
   "cell_type": "code",
   "execution_count": 134,
   "metadata": {},
   "outputs": [],
   "source": [
    "# logarytmujemy\n",
    "data['Processing_Fee']=np.log(data['Processing_Fee']+1)"
   ]
  },
  {
   "cell_type": "code",
   "execution_count": 135,
   "metadata": {
    "scrolled": true
   },
   "outputs": [
    {
     "data": {
      "text/plain": [
       "0.8399572583359103"
      ]
     },
     "execution_count": 135,
     "metadata": {},
     "output_type": "execute_result"
    }
   ],
   "source": [
    "data['Processing_Fee'].skew()"
   ]
  },
  {
   "cell_type": "code",
   "execution_count": null,
   "metadata": {},
   "outputs": [],
   "source": []
  },
  {
   "cell_type": "markdown",
   "metadata": {},
   "source": [
    "## Filled_Form"
   ]
  },
  {
   "cell_type": "code",
   "execution_count": 136,
   "metadata": {},
   "outputs": [
    {
     "data": {
      "text/plain": [
       "0"
      ]
     },
     "execution_count": 136,
     "metadata": {},
     "output_type": "execute_result"
    }
   ],
   "source": [
    "data['Filled_Form'].isna().sum()"
   ]
  },
  {
   "cell_type": "code",
   "execution_count": 137,
   "metadata": {},
   "outputs": [
    {
     "data": {
      "text/plain": [
       "N    67530\n",
       "Y    19490\n",
       "Name: Filled_Form, dtype: int64"
      ]
     },
     "execution_count": 137,
     "metadata": {},
     "output_type": "execute_result"
    }
   ],
   "source": [
    "data['Filled_Form'].value_counts()"
   ]
  },
  {
   "cell_type": "code",
   "execution_count": 138,
   "metadata": {},
   "outputs": [],
   "source": [
    "data['Filled_Form'].replace({'Y':1, 'N':0}, inplace=True)"
   ]
  },
  {
   "cell_type": "code",
   "execution_count": null,
   "metadata": {},
   "outputs": [],
   "source": []
  },
  {
   "cell_type": "markdown",
   "metadata": {},
   "source": [
    "## Device_Type"
   ]
  },
  {
   "cell_type": "code",
   "execution_count": 139,
   "metadata": {},
   "outputs": [
    {
     "data": {
      "text/plain": [
       "0"
      ]
     },
     "execution_count": 139,
     "metadata": {},
     "output_type": "execute_result"
    }
   ],
   "source": [
    "data['Device_Type'].isna().sum()"
   ]
  },
  {
   "cell_type": "code",
   "execution_count": 140,
   "metadata": {},
   "outputs": [
    {
     "data": {
      "text/plain": [
       "Web-browser    64316\n",
       "Mobile         22704\n",
       "Name: Device_Type, dtype: int64"
      ]
     },
     "execution_count": 140,
     "metadata": {},
     "output_type": "execute_result"
    }
   ],
   "source": [
    "data['Device_Type'].value_counts()"
   ]
  },
  {
   "cell_type": "code",
   "execution_count": 141,
   "metadata": {
    "scrolled": true
   },
   "outputs": [
    {
     "data": {
      "text/plain": [
       "Device_Type\n",
       "Mobile         0.011628\n",
       "Web-browser    0.015688\n",
       "Name: Disbursed, dtype: float64"
      ]
     },
     "execution_count": 141,
     "metadata": {},
     "output_type": "execute_result"
    }
   ],
   "source": [
    "data.groupby(['Device_Type'])['Disbursed'].mean()"
   ]
  },
  {
   "cell_type": "code",
   "execution_count": 142,
   "metadata": {},
   "outputs": [
    {
     "data": {
      "text/plain": [
       "Device_Type\n",
       "Mobile          264\n",
       "Web-browser    1009\n",
       "Name: Disbursed, dtype: int64"
      ]
     },
     "execution_count": 142,
     "metadata": {},
     "output_type": "execute_result"
    }
   ],
   "source": [
    "data.groupby(['Device_Type'])['Disbursed'].sum()"
   ]
  },
  {
   "cell_type": "code",
   "execution_count": 143,
   "metadata": {},
   "outputs": [
    {
     "data": {
      "image/png": "[encoded data removed]",
      "text/plain": [
       "<Figure size 432x288 with 1 Axes>"
      ]
     },
     "metadata": {},
     "output_type": "display_data"
    }
   ],
   "source": [
    "sns.countplot(x='Disbursed', hue='Device_Type', data=data)\n",
    "plt.yscale('log')"
   ]
  },
  {
   "cell_type": "code",
   "execution_count": 144,
   "metadata": {},
   "outputs": [],
   "source": [
    "# Web ma więcej 1 (4x); ma też jednak więcej rekordów (3x) - średnia też wkazuje przewagę - mapuję na 0/1\n",
    "data['Device_Type'].replace({'Web-browser':1, 'Mobile':0}, inplace=True)"
   ]
  },
  {
   "cell_type": "code",
   "execution_count": null,
   "metadata": {},
   "outputs": [],
   "source": []
  },
  {
   "cell_type": "markdown",
   "metadata": {},
   "source": [
    "## Var2"
   ]
  },
  {
   "cell_type": "code",
   "execution_count": 145,
   "metadata": {},
   "outputs": [
    {
     "data": {
      "text/plain": [
       "0"
      ]
     },
     "execution_count": 145,
     "metadata": {},
     "output_type": "execute_result"
    }
   ],
   "source": [
    "data['Var2'].isna().sum()"
   ]
  },
  {
   "cell_type": "code",
   "execution_count": 146,
   "metadata": {},
   "outputs": [
    {
     "data": {
      "text/plain": [
       "B    37280\n",
       "G    33032\n",
       "C    14210\n",
       "E     1315\n",
       "D      634\n",
       "F      544\n",
       "A        5\n",
       "Name: Var2, dtype: int64"
      ]
     },
     "execution_count": 146,
     "metadata": {},
     "output_type": "execute_result"
    }
   ],
   "source": [
    "data['Var2'].value_counts()"
   ]
  },
  {
   "cell_type": "code",
   "execution_count": 147,
   "metadata": {},
   "outputs": [],
   "source": [
    "# mapujemy na wartości liczbowe\n",
    "data['Var2'].replace({'B':6, 'G':5,'C':4, 'E':3, 'D':2, 'F':1, 'A':0}, inplace=True)"
   ]
  },
  {
   "cell_type": "code",
   "execution_count": null,
   "metadata": {},
   "outputs": [],
   "source": []
  },
  {
   "cell_type": "markdown",
   "metadata": {},
   "source": [
    "## Source"
   ]
  },
  {
   "cell_type": "code",
   "execution_count": 148,
   "metadata": {},
   "outputs": [
    {
     "data": {
      "text/plain": [
       "0"
      ]
     },
     "execution_count": 148,
     "metadata": {},
     "output_type": "execute_result"
    }
   ],
   "source": [
    "data['Source'].isna().sum()"
   ]
  },
  {
   "cell_type": "code",
   "execution_count": 149,
   "metadata": {},
   "outputs": [
    {
     "data": {
      "text/plain": [
       "S122    38567\n",
       "S133    29885\n",
       "S159     5599\n",
       "S143     4332\n",
       "S127     1931\n",
       "S137     1724\n",
       "S134     1301\n",
       "S161      769\n",
       "S151      720\n",
       "S157      650\n",
       "S153      494\n",
       "S156      308\n",
       "S144      299\n",
       "S158      208\n",
       "S123       73\n",
       "S141       57\n",
       "S162       36\n",
       "S124       24\n",
       "S160       11\n",
       "S150       10\n",
       "S155        4\n",
       "S138        3\n",
       "S139        3\n",
       "S129        3\n",
       "S136        3\n",
       "S135        2\n",
       "S125        1\n",
       "S130        1\n",
       "S154        1\n",
       "S140        1\n",
       "Name: Source, dtype: int64"
      ]
     },
     "execution_count": 149,
     "metadata": {},
     "output_type": "execute_result"
    }
   ],
   "source": [
    "data['Source'].value_counts()"
   ]
  },
  {
   "cell_type": "code",
   "execution_count": 150,
   "metadata": {},
   "outputs": [],
   "source": [
    "# Wybieramy pierwsze 7 (1k+) i nadajemy rangi, dla pozostałych 0\n",
    "top_7_sources = data['Source'].value_counts().index[:7].tolist()\n",
    "top_7_sources\n",
    "\n",
    "def source_flg(source):\n",
    "    if source in top_7_sources:\n",
    "        return source\n",
    "    else:\n",
    "        return 0\n",
    "\n",
    "data['Source'] = data['Source'].apply(source_flg)\n"
   ]
  },
  {
   "cell_type": "code",
   "execution_count": 151,
   "metadata": {},
   "outputs": [
    {
     "data": {
      "text/plain": [
       "S122    38567\n",
       "S133    29885\n",
       "S159     5599\n",
       "S143     4332\n",
       "0        3681\n",
       "S127     1931\n",
       "S137     1724\n",
       "S134     1301\n",
       "Name: Source, dtype: int64"
      ]
     },
     "execution_count": 151,
     "metadata": {},
     "output_type": "execute_result"
    }
   ],
   "source": [
    "data['Source'].value_counts()"
   ]
  },
  {
   "cell_type": "code",
   "execution_count": 152,
   "metadata": {},
   "outputs": [],
   "source": [
    "data['Source'].replace({'S122':7, 'S133':6,'S159':5, 'S143':4, 'S127':3, 'S137':2, 'S134':1}, inplace=True)"
   ]
  },
  {
   "cell_type": "code",
   "execution_count": null,
   "metadata": {},
   "outputs": [],
   "source": []
  },
  {
   "cell_type": "markdown",
   "metadata": {},
   "source": [
    "## Var4"
   ]
  },
  {
   "cell_type": "code",
   "execution_count": 153,
   "metadata": {},
   "outputs": [
    {
     "data": {
      "text/plain": [
       "0"
      ]
     },
     "execution_count": 153,
     "metadata": {},
     "output_type": "execute_result"
    }
   ],
   "source": [
    "data['Var4'].isna().sum()"
   ]
  },
  {
   "cell_type": "code",
   "execution_count": 154,
   "metadata": {
    "scrolled": false
   },
   "outputs": [
    {
     "data": {
      "text/plain": [
       "3    25260\n",
       "1    23906\n",
       "5    20266\n",
       "4     6577\n",
       "2     5931\n",
       "0     2546\n",
       "7     2302\n",
       "6      232\n",
       "Name: Var4, dtype: int64"
      ]
     },
     "execution_count": 154,
     "metadata": {},
     "output_type": "execute_result"
    }
   ],
   "source": [
    "data['Var4'].value_counts()"
   ]
  },
  {
   "cell_type": "code",
   "execution_count": null,
   "metadata": {},
   "outputs": [],
   "source": []
  },
  {
   "cell_type": "code",
   "execution_count": 155,
   "metadata": {},
   "outputs": [
    {
     "name": "stdout",
     "output_type": "stream",
     "text": [
      "<class 'pandas.core.frame.DataFrame'>\n",
      "RangeIndex: 87020 entries, 0 to 87019\n",
      "Data columns (total 23 columns):\n",
      " #   Column                 Non-Null Count  Dtype  \n",
      "---  ------                 --------------  -----  \n",
      " 0   Gender                 87020 non-null  int64  \n",
      " 1   City                   87020 non-null  int64  \n",
      " 2   Monthly_Income         87020 non-null  float64\n",
      " 3   Loan_Amount_Applied    87020 non-null  float64\n",
      " 4   Loan_Tenure_Applied    87020 non-null  float64\n",
      " 5   Existing_EMI           87020 non-null  float64\n",
      " 6   Employer_Name          87020 non-null  int64  \n",
      " 7   Salary_Account         87020 non-null  object \n",
      " 8   Mobile_Verified        87020 non-null  int64  \n",
      " 9   Var5                   87020 non-null  int64  \n",
      " 10  Var1                   87020 non-null  int64  \n",
      " 11  Loan_Amount_Submitted  87020 non-null  float64\n",
      " 12  Loan_Tenure_Submitted  87020 non-null  float64\n",
      " 13  Interest_Rate          87020 non-null  int64  \n",
      " 14  Processing_Fee         87020 non-null  float64\n",
      " 15  EMI_Loan_Submitted     87020 non-null  int64  \n",
      " 16  Filled_Form            87020 non-null  int64  \n",
      " 17  Device_Type            87020 non-null  int64  \n",
      " 18  Var2                   87020 non-null  int64  \n",
      " 19  Source                 87020 non-null  int64  \n",
      " 20  Var4                   87020 non-null  int64  \n",
      " 21  Disbursed              87020 non-null  int64  \n",
      " 22  Age                    87020 non-null  float64\n",
      "dtypes: float64(8), int64(14), object(1)\n",
      "memory usage: 15.3+ MB\n"
     ]
    }
   ],
   "source": [
    "data.info()"
   ]
  },
  {
   "cell_type": "code",
   "execution_count": 156,
   "metadata": {},
   "outputs": [],
   "source": [
    "# zmienne kategoryczne\n",
    "data = pd.get_dummies(data=data, columns=zmienne_kategoryczne, drop_first=True)"
   ]
  },
  {
   "cell_type": "code",
   "execution_count": 157,
   "metadata": {},
   "outputs": [
    {
     "name": "stdout",
     "output_type": "stream",
     "text": [
      "<class 'pandas.core.frame.DataFrame'>\n",
      "RangeIndex: 87020 entries, 0 to 87019\n",
      "Data columns (total 32 columns):\n",
      " #   Column                               Non-Null Count  Dtype  \n",
      "---  ------                               --------------  -----  \n",
      " 0   Gender                               87020 non-null  int64  \n",
      " 1   City                                 87020 non-null  int64  \n",
      " 2   Monthly_Income                       87020 non-null  float64\n",
      " 3   Loan_Amount_Applied                  87020 non-null  float64\n",
      " 4   Loan_Tenure_Applied                  87020 non-null  float64\n",
      " 5   Existing_EMI                         87020 non-null  float64\n",
      " 6   Employer_Name                        87020 non-null  int64  \n",
      " 7   Mobile_Verified                      87020 non-null  int64  \n",
      " 8   Var5                                 87020 non-null  int64  \n",
      " 9   Var1                                 87020 non-null  int64  \n",
      " 10  Loan_Amount_Submitted                87020 non-null  float64\n",
      " 11  Loan_Tenure_Submitted                87020 non-null  float64\n",
      " 12  Interest_Rate                        87020 non-null  int64  \n",
      " 13  Processing_Fee                       87020 non-null  float64\n",
      " 14  EMI_Loan_Submitted                   87020 non-null  int64  \n",
      " 15  Filled_Form                          87020 non-null  int64  \n",
      " 16  Device_Type                          87020 non-null  int64  \n",
      " 17  Var2                                 87020 non-null  int64  \n",
      " 18  Source                               87020 non-null  int64  \n",
      " 19  Var4                                 87020 non-null  int64  \n",
      " 20  Disbursed                            87020 non-null  int64  \n",
      " 21  Age                                  87020 non-null  float64\n",
      " 22  Salary_Account_Bank of Baroda        87020 non-null  uint8  \n",
      " 23  Salary_Account_Bank of India         87020 non-null  uint8  \n",
      " 24  Salary_Account_Citibank              87020 non-null  uint8  \n",
      " 25  Salary_Account_HDFC Bank             87020 non-null  uint8  \n",
      " 26  Salary_Account_ICICI Bank            87020 non-null  uint8  \n",
      " 27  Salary_Account_IDBI Bank             87020 non-null  uint8  \n",
      " 28  Salary_Account_Kotak Bank            87020 non-null  uint8  \n",
      " 29  Salary_Account_Pozostałe             87020 non-null  uint8  \n",
      " 30  Salary_Account_Punjab National Bank  87020 non-null  uint8  \n",
      " 31  Salary_Account_State Bank of India   87020 non-null  uint8  \n",
      "dtypes: float64(8), int64(14), uint8(10)\n",
      "memory usage: 15.4 MB\n"
     ]
    }
   ],
   "source": [
    "data.info()"
   ]
  },
  {
   "cell_type": "code",
   "execution_count": 158,
   "metadata": {
    "scrolled": true
   },
   "outputs": [
    {
     "data": {
      "text/html": [
       "<div>\n",
       "<style scoped>\n",
       "    .dataframe tbody tr th:only-of-type {\n",
       "        vertical-align: middle;\n",
       "    }\n",
       "\n",
       "    .dataframe tbody tr th {\n",
       "        vertical-align: top;\n",
       "    }\n",
       "\n",
       "    .dataframe thead th {\n",
       "        text-align: right;\n",
       "    }\n",
       "</style>\n",
       "<table border=\"1\" class=\"dataframe\">\n",
       "  <thead>\n",
       "    <tr style=\"text-align: right;\">\n",
       "      <th></th>\n",
       "      <th>Gender</th>\n",
       "      <th>City</th>\n",
       "      <th>Monthly_Income</th>\n",
       "      <th>Loan_Amount_Applied</th>\n",
       "      <th>Loan_Tenure_Applied</th>\n",
       "      <th>Existing_EMI</th>\n",
       "      <th>Employer_Name</th>\n",
       "      <th>Mobile_Verified</th>\n",
       "      <th>Var5</th>\n",
       "      <th>Var1</th>\n",
       "      <th>Loan_Amount_Submitted</th>\n",
       "      <th>Loan_Tenure_Submitted</th>\n",
       "      <th>Interest_Rate</th>\n",
       "      <th>Processing_Fee</th>\n",
       "      <th>EMI_Loan_Submitted</th>\n",
       "      <th>Filled_Form</th>\n",
       "      <th>Device_Type</th>\n",
       "      <th>Var2</th>\n",
       "      <th>Source</th>\n",
       "      <th>Var4</th>\n",
       "      <th>Disbursed</th>\n",
       "      <th>Age</th>\n",
       "      <th>Salary_Account_Bank of Baroda</th>\n",
       "      <th>Salary_Account_Bank of India</th>\n",
       "      <th>Salary_Account_Citibank</th>\n",
       "      <th>Salary_Account_HDFC Bank</th>\n",
       "      <th>Salary_Account_ICICI Bank</th>\n",
       "      <th>Salary_Account_IDBI Bank</th>\n",
       "      <th>Salary_Account_Kotak Bank</th>\n",
       "      <th>Salary_Account_Pozostałe</th>\n",
       "      <th>Salary_Account_Punjab National Bank</th>\n",
       "      <th>Salary_Account_State Bank of India</th>\n",
       "    </tr>\n",
       "  </thead>\n",
       "  <tbody>\n",
       "    <tr>\n",
       "      <th>0</th>\n",
       "      <td>1</td>\n",
       "      <td>11</td>\n",
       "      <td>27.144176</td>\n",
       "      <td>547.722558</td>\n",
       "      <td>5.0</td>\n",
       "      <td>0.000000</td>\n",
       "      <td>1</td>\n",
       "      <td>0</td>\n",
       "      <td>0</td>\n",
       "      <td>8</td>\n",
       "      <td>0.000000</td>\n",
       "      <td>0.0</td>\n",
       "      <td>0</td>\n",
       "      <td>0.000000</td>\n",
       "      <td>0</td>\n",
       "      <td>0</td>\n",
       "      <td>1</td>\n",
       "      <td>5</td>\n",
       "      <td>7</td>\n",
       "      <td>1</td>\n",
       "      <td>0</td>\n",
       "      <td>3.610918</td>\n",
       "      <td>0</td>\n",
       "      <td>0</td>\n",
       "      <td>0</td>\n",
       "      <td>1</td>\n",
       "      <td>0</td>\n",
       "      <td>0</td>\n",
       "      <td>0</td>\n",
       "      <td>0</td>\n",
       "      <td>0</td>\n",
       "      <td>0</td>\n",
       "    </tr>\n",
       "    <tr>\n",
       "      <th>1</th>\n",
       "      <td>0</td>\n",
       "      <td>9</td>\n",
       "      <td>32.710663</td>\n",
       "      <td>447.213595</td>\n",
       "      <td>2.0</td>\n",
       "      <td>0.000000</td>\n",
       "      <td>10</td>\n",
       "      <td>1</td>\n",
       "      <td>13</td>\n",
       "      <td>4</td>\n",
       "      <td>447.213595</td>\n",
       "      <td>2.0</td>\n",
       "      <td>1</td>\n",
       "      <td>0.000000</td>\n",
       "      <td>1</td>\n",
       "      <td>0</td>\n",
       "      <td>1</td>\n",
       "      <td>5</td>\n",
       "      <td>7</td>\n",
       "      <td>3</td>\n",
       "      <td>0</td>\n",
       "      <td>3.401197</td>\n",
       "      <td>0</td>\n",
       "      <td>0</td>\n",
       "      <td>0</td>\n",
       "      <td>0</td>\n",
       "      <td>1</td>\n",
       "      <td>0</td>\n",
       "      <td>0</td>\n",
       "      <td>0</td>\n",
       "      <td>0</td>\n",
       "      <td>0</td>\n",
       "    </tr>\n",
       "    <tr>\n",
       "      <th>2</th>\n",
       "      <td>0</td>\n",
       "      <td>0</td>\n",
       "      <td>28.231081</td>\n",
       "      <td>774.596669</td>\n",
       "      <td>4.0</td>\n",
       "      <td>0.000000</td>\n",
       "      <td>1</td>\n",
       "      <td>1</td>\n",
       "      <td>0</td>\n",
       "      <td>8</td>\n",
       "      <td>670.820393</td>\n",
       "      <td>4.0</td>\n",
       "      <td>0</td>\n",
       "      <td>0.000000</td>\n",
       "      <td>1</td>\n",
       "      <td>0</td>\n",
       "      <td>1</td>\n",
       "      <td>6</td>\n",
       "      <td>4</td>\n",
       "      <td>1</td>\n",
       "      <td>0</td>\n",
       "      <td>3.526361</td>\n",
       "      <td>0</td>\n",
       "      <td>0</td>\n",
       "      <td>0</td>\n",
       "      <td>0</td>\n",
       "      <td>0</td>\n",
       "      <td>0</td>\n",
       "      <td>0</td>\n",
       "      <td>0</td>\n",
       "      <td>0</td>\n",
       "      <td>1</td>\n",
       "    </tr>\n",
       "    <tr>\n",
       "      <th>3</th>\n",
       "      <td>0</td>\n",
       "      <td>0</td>\n",
       "      <td>32.710663</td>\n",
       "      <td>1000.000000</td>\n",
       "      <td>5.0</td>\n",
       "      <td>0.000000</td>\n",
       "      <td>1</td>\n",
       "      <td>1</td>\n",
       "      <td>10</td>\n",
       "      <td>8</td>\n",
       "      <td>959.166305</td>\n",
       "      <td>5.0</td>\n",
       "      <td>0</td>\n",
       "      <td>0.000000</td>\n",
       "      <td>1</td>\n",
       "      <td>0</td>\n",
       "      <td>1</td>\n",
       "      <td>6</td>\n",
       "      <td>4</td>\n",
       "      <td>3</td>\n",
       "      <td>0</td>\n",
       "      <td>3.332205</td>\n",
       "      <td>0</td>\n",
       "      <td>0</td>\n",
       "      <td>0</td>\n",
       "      <td>0</td>\n",
       "      <td>0</td>\n",
       "      <td>0</td>\n",
       "      <td>0</td>\n",
       "      <td>0</td>\n",
       "      <td>0</td>\n",
       "      <td>1</td>\n",
       "    </tr>\n",
       "    <tr>\n",
       "      <th>4</th>\n",
       "      <td>0</td>\n",
       "      <td>10</td>\n",
       "      <td>46.415888</td>\n",
       "      <td>707.106781</td>\n",
       "      <td>2.0</td>\n",
       "      <td>10.126671</td>\n",
       "      <td>1</td>\n",
       "      <td>1</td>\n",
       "      <td>17</td>\n",
       "      <td>8</td>\n",
       "      <td>707.106781</td>\n",
       "      <td>2.0</td>\n",
       "      <td>0</td>\n",
       "      <td>0.000000</td>\n",
       "      <td>1</td>\n",
       "      <td>0</td>\n",
       "      <td>1</td>\n",
       "      <td>6</td>\n",
       "      <td>1</td>\n",
       "      <td>3</td>\n",
       "      <td>0</td>\n",
       "      <td>3.433987</td>\n",
       "      <td>0</td>\n",
       "      <td>0</td>\n",
       "      <td>0</td>\n",
       "      <td>1</td>\n",
       "      <td>0</td>\n",
       "      <td>0</td>\n",
       "      <td>0</td>\n",
       "      <td>0</td>\n",
       "      <td>0</td>\n",
       "      <td>0</td>\n",
       "    </tr>\n",
       "    <tr>\n",
       "      <th>5</th>\n",
       "      <td>0</td>\n",
       "      <td>10</td>\n",
       "      <td>35.568933</td>\n",
       "      <td>547.722558</td>\n",
       "      <td>5.0</td>\n",
       "      <td>9.615872</td>\n",
       "      <td>5</td>\n",
       "      <td>1</td>\n",
       "      <td>17</td>\n",
       "      <td>0</td>\n",
       "      <td>547.722558</td>\n",
       "      <td>5.0</td>\n",
       "      <td>1</td>\n",
       "      <td>7.313887</td>\n",
       "      <td>1</td>\n",
       "      <td>0</td>\n",
       "      <td>1</td>\n",
       "      <td>6</td>\n",
       "      <td>4</td>\n",
       "      <td>3</td>\n",
       "      <td>0</td>\n",
       "      <td>3.496508</td>\n",
       "      <td>0</td>\n",
       "      <td>0</td>\n",
       "      <td>0</td>\n",
       "      <td>0</td>\n",
       "      <td>0</td>\n",
       "      <td>0</td>\n",
       "      <td>0</td>\n",
       "      <td>1</td>\n",
       "      <td>0</td>\n",
       "      <td>0</td>\n",
       "    </tr>\n",
       "    <tr>\n",
       "      <th>6</th>\n",
       "      <td>1</td>\n",
       "      <td>0</td>\n",
       "      <td>41.212853</td>\n",
       "      <td>2.449490</td>\n",
       "      <td>5.0</td>\n",
       "      <td>0.000000</td>\n",
       "      <td>1</td>\n",
       "      <td>0</td>\n",
       "      <td>0</td>\n",
       "      <td>8</td>\n",
       "      <td>0.000000</td>\n",
       "      <td>0.0</td>\n",
       "      <td>0</td>\n",
       "      <td>0.000000</td>\n",
       "      <td>0</td>\n",
       "      <td>0</td>\n",
       "      <td>1</td>\n",
       "      <td>6</td>\n",
       "      <td>6</td>\n",
       "      <td>1</td>\n",
       "      <td>0</td>\n",
       "      <td>3.332205</td>\n",
       "      <td>0</td>\n",
       "      <td>0</td>\n",
       "      <td>0</td>\n",
       "      <td>0</td>\n",
       "      <td>0</td>\n",
       "      <td>0</td>\n",
       "      <td>0</td>\n",
       "      <td>1</td>\n",
       "      <td>0</td>\n",
       "      <td>0</td>\n",
       "    </tr>\n",
       "    <tr>\n",
       "      <th>7</th>\n",
       "      <td>0</td>\n",
       "      <td>10</td>\n",
       "      <td>27.144176</td>\n",
       "      <td>447.213595</td>\n",
       "      <td>5.0</td>\n",
       "      <td>7.862497</td>\n",
       "      <td>1</td>\n",
       "      <td>1</td>\n",
       "      <td>3</td>\n",
       "      <td>8</td>\n",
       "      <td>447.213595</td>\n",
       "      <td>5.0</td>\n",
       "      <td>0</td>\n",
       "      <td>0.000000</td>\n",
       "      <td>1</td>\n",
       "      <td>0</td>\n",
       "      <td>1</td>\n",
       "      <td>6</td>\n",
       "      <td>5</td>\n",
       "      <td>3</td>\n",
       "      <td>0</td>\n",
       "      <td>3.688879</td>\n",
       "      <td>0</td>\n",
       "      <td>0</td>\n",
       "      <td>0</td>\n",
       "      <td>0</td>\n",
       "      <td>0</td>\n",
       "      <td>0</td>\n",
       "      <td>0</td>\n",
       "      <td>1</td>\n",
       "      <td>0</td>\n",
       "      <td>0</td>\n",
       "    </tr>\n",
       "    <tr>\n",
       "      <th>8</th>\n",
       "      <td>0</td>\n",
       "      <td>0</td>\n",
       "      <td>42.171633</td>\n",
       "      <td>0.000000</td>\n",
       "      <td>0.0</td>\n",
       "      <td>0.000000</td>\n",
       "      <td>1</td>\n",
       "      <td>1</td>\n",
       "      <td>13</td>\n",
       "      <td>3</td>\n",
       "      <td>1140.175425</td>\n",
       "      <td>5.0</td>\n",
       "      <td>1</td>\n",
       "      <td>10.165890</td>\n",
       "      <td>1</td>\n",
       "      <td>1</td>\n",
       "      <td>0</td>\n",
       "      <td>4</td>\n",
       "      <td>7</td>\n",
       "      <td>5</td>\n",
       "      <td>0</td>\n",
       "      <td>3.761200</td>\n",
       "      <td>0</td>\n",
       "      <td>0</td>\n",
       "      <td>0</td>\n",
       "      <td>0</td>\n",
       "      <td>0</td>\n",
       "      <td>0</td>\n",
       "      <td>0</td>\n",
       "      <td>0</td>\n",
       "      <td>0</td>\n",
       "      <td>1</td>\n",
       "    </tr>\n",
       "    <tr>\n",
       "      <th>9</th>\n",
       "      <td>1</td>\n",
       "      <td>9</td>\n",
       "      <td>31.072325</td>\n",
       "      <td>547.722558</td>\n",
       "      <td>3.0</td>\n",
       "      <td>0.000000</td>\n",
       "      <td>1</td>\n",
       "      <td>1</td>\n",
       "      <td>0</td>\n",
       "      <td>7</td>\n",
       "      <td>547.722558</td>\n",
       "      <td>3.0</td>\n",
       "      <td>1</td>\n",
       "      <td>7.313887</td>\n",
       "      <td>1</td>\n",
       "      <td>0</td>\n",
       "      <td>1</td>\n",
       "      <td>6</td>\n",
       "      <td>6</td>\n",
       "      <td>1</td>\n",
       "      <td>0</td>\n",
       "      <td>3.258097</td>\n",
       "      <td>0</td>\n",
       "      <td>0</td>\n",
       "      <td>0</td>\n",
       "      <td>0</td>\n",
       "      <td>0</td>\n",
       "      <td>0</td>\n",
       "      <td>1</td>\n",
       "      <td>0</td>\n",
       "      <td>0</td>\n",
       "      <td>0</td>\n",
       "    </tr>\n",
       "    <tr>\n",
       "      <th>10</th>\n",
       "      <td>0</td>\n",
       "      <td>9</td>\n",
       "      <td>29.240177</td>\n",
       "      <td>1000.000000</td>\n",
       "      <td>5.0</td>\n",
       "      <td>0.000000</td>\n",
       "      <td>1</td>\n",
       "      <td>1</td>\n",
       "      <td>11</td>\n",
       "      <td>7</td>\n",
       "      <td>812.403840</td>\n",
       "      <td>5.0</td>\n",
       "      <td>1</td>\n",
       "      <td>8.794976</td>\n",
       "      <td>1</td>\n",
       "      <td>0</td>\n",
       "      <td>1</td>\n",
       "      <td>6</td>\n",
       "      <td>6</td>\n",
       "      <td>4</td>\n",
       "      <td>0</td>\n",
       "      <td>3.663562</td>\n",
       "      <td>0</td>\n",
       "      <td>0</td>\n",
       "      <td>0</td>\n",
       "      <td>0</td>\n",
       "      <td>0</td>\n",
       "      <td>0</td>\n",
       "      <td>0</td>\n",
       "      <td>1</td>\n",
       "      <td>0</td>\n",
       "      <td>0</td>\n",
       "    </tr>\n",
       "    <tr>\n",
       "      <th>11</th>\n",
       "      <td>1</td>\n",
       "      <td>0</td>\n",
       "      <td>29.240177</td>\n",
       "      <td>374.165739</td>\n",
       "      <td>4.0</td>\n",
       "      <td>0.000000</td>\n",
       "      <td>1</td>\n",
       "      <td>0</td>\n",
       "      <td>0</td>\n",
       "      <td>8</td>\n",
       "      <td>0.000000</td>\n",
       "      <td>0.0</td>\n",
       "      <td>0</td>\n",
       "      <td>0.000000</td>\n",
       "      <td>0</td>\n",
       "      <td>0</td>\n",
       "      <td>1</td>\n",
       "      <td>6</td>\n",
       "      <td>7</td>\n",
       "      <td>1</td>\n",
       "      <td>0</td>\n",
       "      <td>3.258097</td>\n",
       "      <td>0</td>\n",
       "      <td>0</td>\n",
       "      <td>0</td>\n",
       "      <td>0</td>\n",
       "      <td>0</td>\n",
       "      <td>0</td>\n",
       "      <td>0</td>\n",
       "      <td>1</td>\n",
       "      <td>0</td>\n",
       "      <td>0</td>\n",
       "    </tr>\n",
       "    <tr>\n",
       "      <th>12</th>\n",
       "      <td>1</td>\n",
       "      <td>6</td>\n",
       "      <td>28.844991</td>\n",
       "      <td>707.106781</td>\n",
       "      <td>4.0</td>\n",
       "      <td>0.000000</td>\n",
       "      <td>1</td>\n",
       "      <td>0</td>\n",
       "      <td>0</td>\n",
       "      <td>8</td>\n",
       "      <td>0.000000</td>\n",
       "      <td>0.0</td>\n",
       "      <td>0</td>\n",
       "      <td>0.000000</td>\n",
       "      <td>0</td>\n",
       "      <td>0</td>\n",
       "      <td>1</td>\n",
       "      <td>6</td>\n",
       "      <td>6</td>\n",
       "      <td>1</td>\n",
       "      <td>0</td>\n",
       "      <td>3.218876</td>\n",
       "      <td>0</td>\n",
       "      <td>0</td>\n",
       "      <td>0</td>\n",
       "      <td>0</td>\n",
       "      <td>0</td>\n",
       "      <td>0</td>\n",
       "      <td>0</td>\n",
       "      <td>1</td>\n",
       "      <td>0</td>\n",
       "      <td>0</td>\n",
       "    </tr>\n",
       "    <tr>\n",
       "      <th>13</th>\n",
       "      <td>0</td>\n",
       "      <td>0</td>\n",
       "      <td>30.000000</td>\n",
       "      <td>447.213595</td>\n",
       "      <td>5.0</td>\n",
       "      <td>8.434029</td>\n",
       "      <td>1</td>\n",
       "      <td>1</td>\n",
       "      <td>11</td>\n",
       "      <td>2</td>\n",
       "      <td>447.213595</td>\n",
       "      <td>5.0</td>\n",
       "      <td>1</td>\n",
       "      <td>8.412055</td>\n",
       "      <td>1</td>\n",
       "      <td>0</td>\n",
       "      <td>1</td>\n",
       "      <td>6</td>\n",
       "      <td>6</td>\n",
       "      <td>4</td>\n",
       "      <td>0</td>\n",
       "      <td>3.496508</td>\n",
       "      <td>0</td>\n",
       "      <td>0</td>\n",
       "      <td>0</td>\n",
       "      <td>0</td>\n",
       "      <td>0</td>\n",
       "      <td>0</td>\n",
       "      <td>0</td>\n",
       "      <td>0</td>\n",
       "      <td>0</td>\n",
       "      <td>1</td>\n",
       "    </tr>\n",
       "    <tr>\n",
       "      <th>14</th>\n",
       "      <td>1</td>\n",
       "      <td>0</td>\n",
       "      <td>30.365890</td>\n",
       "      <td>316.227766</td>\n",
       "      <td>1.0</td>\n",
       "      <td>7.090910</td>\n",
       "      <td>1</td>\n",
       "      <td>0</td>\n",
       "      <td>0</td>\n",
       "      <td>8</td>\n",
       "      <td>0.000000</td>\n",
       "      <td>0.0</td>\n",
       "      <td>0</td>\n",
       "      <td>0.000000</td>\n",
       "      <td>0</td>\n",
       "      <td>0</td>\n",
       "      <td>1</td>\n",
       "      <td>6</td>\n",
       "      <td>0</td>\n",
       "      <td>1</td>\n",
       "      <td>0</td>\n",
       "      <td>3.258097</td>\n",
       "      <td>0</td>\n",
       "      <td>0</td>\n",
       "      <td>0</td>\n",
       "      <td>1</td>\n",
       "      <td>0</td>\n",
       "      <td>0</td>\n",
       "      <td>0</td>\n",
       "      <td>0</td>\n",
       "      <td>0</td>\n",
       "      <td>0</td>\n",
       "    </tr>\n",
       "  </tbody>\n",
       "</table>\n",
       "</div>"
      ],
      "text/plain": [
       "    Gender  City  Monthly_Income  Loan_Amount_Applied  Loan_Tenure_Applied  \\\n",
       "0        1    11       27.144176           547.722558                  5.0   \n",
       "1        0     9       32.710663           447.213595                  2.0   \n",
       "2        0     0       28.231081           774.596669                  4.0   \n",
       "3        0     0       32.710663          1000.000000                  5.0   \n",
       "4        0    10       46.415888           707.106781                  2.0   \n",
       "5        0    10       35.568933           547.722558                  5.0   \n",
       "6        1     0       41.212853             2.449490                  5.0   \n",
       "7        0    10       27.144176           447.213595                  5.0   \n",
       "8        0     0       42.171633             0.000000                  0.0   \n",
       "9        1     9       31.072325           547.722558                  3.0   \n",
       "10       0     9       29.240177          1000.000000                  5.0   \n",
       "11       1     0       29.240177           374.165739                  4.0   \n",
       "12       1     6       28.844991           707.106781                  4.0   \n",
       "13       0     0       30.000000           447.213595                  5.0   \n",
       "14       1     0       30.365890           316.227766                  1.0   \n",
       "\n",
       "    Existing_EMI  Employer_Name  Mobile_Verified  Var5  Var1  \\\n",
       "0       0.000000              1                0     0     8   \n",
       "1       0.000000             10                1    13     4   \n",
       "2       0.000000              1                1     0     8   \n",
       "3       0.000000              1                1    10     8   \n",
       "4      10.126671              1                1    17     8   \n",
       "5       9.615872              5                1    17     0   \n",
       "6       0.000000              1                0     0     8   \n",
       "7       7.862497              1                1     3     8   \n",
       "8       0.000000              1                1    13     3   \n",
       "9       0.000000              1                1     0     7   \n",
       "10      0.000000              1                1    11     7   \n",
       "11      0.000000              1                0     0     8   \n",
       "12      0.000000              1                0     0     8   \n",
       "13      8.434029              1                1    11     2   \n",
       "14      7.090910              1                0     0     8   \n",
       "\n",
       "    Loan_Amount_Submitted  Loan_Tenure_Submitted  Interest_Rate  \\\n",
       "0                0.000000                    0.0              0   \n",
       "1              447.213595                    2.0              1   \n",
       "2              670.820393                    4.0              0   \n",
       "3              959.166305                    5.0              0   \n",
       "4              707.106781                    2.0              0   \n",
       "5              547.722558                    5.0              1   \n",
       "6                0.000000                    0.0              0   \n",
       "7              447.213595                    5.0              0   \n",
       "8             1140.175425                    5.0              1   \n",
       "9              547.722558                    3.0              1   \n",
       "10             812.403840                    5.0              1   \n",
       "11               0.000000                    0.0              0   \n",
       "12               0.000000                    0.0              0   \n",
       "13             447.213595                    5.0              1   \n",
       "14               0.000000                    0.0              0   \n",
       "\n",
       "    Processing_Fee  EMI_Loan_Submitted  Filled_Form  Device_Type  Var2  \\\n",
       "0         0.000000                   0            0            1     5   \n",
       "1         0.000000                   1            0            1     5   \n",
       "2         0.000000                   1            0            1     6   \n",
       "3         0.000000                   1            0            1     6   \n",
       "4         0.000000                   1            0            1     6   \n",
       "5         7.313887                   1            0            1     6   \n",
       "6         0.000000                   0            0            1     6   \n",
       "7         0.000000                   1            0            1     6   \n",
       "8        10.165890                   1            1            0     4   \n",
       "9         7.313887                   1            0            1     6   \n",
       "10        8.794976                   1            0            1     6   \n",
       "11        0.000000                   0            0            1     6   \n",
       "12        0.000000                   0            0            1     6   \n",
       "13        8.412055                   1            0            1     6   \n",
       "14        0.000000                   0            0            1     6   \n",
       "\n",
       "    Source  Var4  Disbursed       Age  Salary_Account_Bank of Baroda  \\\n",
       "0        7     1          0  3.610918                              0   \n",
       "1        7     3          0  3.401197                              0   \n",
       "2        4     1          0  3.526361                              0   \n",
       "3        4     3          0  3.332205                              0   \n",
       "4        1     3          0  3.433987                              0   \n",
       "5        4     3          0  3.496508                              0   \n",
       "6        6     1          0  3.332205                              0   \n",
       "7        5     3          0  3.688879                              0   \n",
       "8        7     5          0  3.761200                              0   \n",
       "9        6     1          0  3.258097                              0   \n",
       "10       6     4          0  3.663562                              0   \n",
       "11       7     1          0  3.258097                              0   \n",
       "12       6     1          0  3.218876                              0   \n",
       "13       6     4          0  3.496508                              0   \n",
       "14       0     1          0  3.258097                              0   \n",
       "\n",
       "    Salary_Account_Bank of India  Salary_Account_Citibank  \\\n",
       "0                              0                        0   \n",
       "1                              0                        0   \n",
       "2                              0                        0   \n",
       "3                              0                        0   \n",
       "4                              0                        0   \n",
       "5                              0                        0   \n",
       "6                              0                        0   \n",
       "7                              0                        0   \n",
       "8                              0                        0   \n",
       "9                              0                        0   \n",
       "10                             0                        0   \n",
       "11                             0                        0   \n",
       "12                             0                        0   \n",
       "13                             0                        0   \n",
       "14                             0                        0   \n",
       "\n",
       "    Salary_Account_HDFC Bank  Salary_Account_ICICI Bank  \\\n",
       "0                          1                          0   \n",
       "1                          0                          1   \n",
       "2                          0                          0   \n",
       "3                          0                          0   \n",
       "4                          1                          0   \n",
       "5                          0                          0   \n",
       "6                          0                          0   \n",
       "7                          0                          0   \n",
       "8                          0                          0   \n",
       "9                          0                          0   \n",
       "10                         0                          0   \n",
       "11                         0                          0   \n",
       "12                         0                          0   \n",
       "13                         0                          0   \n",
       "14                         1                          0   \n",
       "\n",
       "    Salary_Account_IDBI Bank  Salary_Account_Kotak Bank  \\\n",
       "0                          0                          0   \n",
       "1                          0                          0   \n",
       "2                          0                          0   \n",
       "3                          0                          0   \n",
       "4                          0                          0   \n",
       "5                          0                          0   \n",
       "6                          0                          0   \n",
       "7                          0                          0   \n",
       "8                          0                          0   \n",
       "9                          0                          1   \n",
       "10                         0                          0   \n",
       "11                         0                          0   \n",
       "12                         0                          0   \n",
       "13                         0                          0   \n",
       "14                         0                          0   \n",
       "\n",
       "    Salary_Account_Pozostałe  Salary_Account_Punjab National Bank  \\\n",
       "0                          0                                    0   \n",
       "1                          0                                    0   \n",
       "2                          0                                    0   \n",
       "3                          0                                    0   \n",
       "4                          0                                    0   \n",
       "5                          1                                    0   \n",
       "6                          1                                    0   \n",
       "7                          1                                    0   \n",
       "8                          0                                    0   \n",
       "9                          0                                    0   \n",
       "10                         1                                    0   \n",
       "11                         1                                    0   \n",
       "12                         1                                    0   \n",
       "13                         0                                    0   \n",
       "14                         0                                    0   \n",
       "\n",
       "    Salary_Account_State Bank of India  \n",
       "0                                    0  \n",
       "1                                    0  \n",
       "2                                    1  \n",
       "3                                    1  \n",
       "4                                    0  \n",
       "5                                    0  \n",
       "6                                    0  \n",
       "7                                    0  \n",
       "8                                    1  \n",
       "9                                    0  \n",
       "10                                   0  \n",
       "11                                   0  \n",
       "12                                   0  \n",
       "13                                   1  \n",
       "14                                   0  "
      ]
     },
     "execution_count": 158,
     "metadata": {},
     "output_type": "execute_result"
    }
   ],
   "source": [
    "data.head(15)"
   ]
  },
  {
   "cell_type": "code",
   "execution_count": null,
   "metadata": {},
   "outputs": [],
   "source": [
    "# Gdyby nie założenia, przynajmniej dwie kolumny zostały by odrzucone (Interest, Fee) oraz niektóre wartości zostały usunięte"
   ]
  },
  {
   "cell_type": "code",
   "execution_count": 159,
   "metadata": {},
   "outputs": [],
   "source": [
    "# Zapisujemy dataset\n",
    "data.to_csv('data_clean') "
   ]
  },
  {
   "cell_type": "code",
   "execution_count": null,
   "metadata": {},
   "outputs": [],
   "source": []
  }
 ],
 "metadata": {
  "kernelspec": {
   "display_name": "Python 3",
   "language": "python",
   "name": "python3"
  },
  "language_info": {
   "codemirror_mode": {
    "name": "ipython",
    "version": 3
   },
   "file_extension": ".py",
   "mimetype": "text/x-python",
   "name": "python",
   "nbconvert_exporter": "python",
   "pygments_lexer": "ipython3",
   "version": "3.7.4"
  }
 },
 "nbformat": 4,
 "nbformat_minor": 4
}
